{
 "cells": [
  {
   "cell_type": "code",
   "execution_count": 1,
   "metadata": {},
   "outputs": [
    {
     "data": {
      "text/html": [
       "<pre style=\"white-space:pre;overflow-x:auto;line-height:normal;font-family:Menlo,'DejaVu Sans Mono',consolas,'Courier New',monospace\">sys.executable = <span style=\"color: #008000; text-decoration-color: #008000\">'/home/kpbaks/.nix-profile/bin/python'</span>\n",
       "</pre>\n"
      ],
      "text/plain": [
       "sys.executable = \u001b[32m'/home/kpbaks/.nix-profile/bin/python'\u001b[0m\n"
      ]
     },
     "metadata": {},
     "output_type": "display_data"
    },
    {
     "data": {
      "text/html": [
       "<pre style=\"white-space:pre;overflow-x:auto;line-height:normal;font-family:Menlo,'DejaVu Sans Mono',consolas,'Courier New',monospace\">sys.version = <span style=\"color: #008000; text-decoration-color: #008000\">'3.11.9 (main, Apr  2 2024, 08:25:04) [GCC 13.2.0]'</span>\n",
       "</pre>\n"
      ],
      "text/plain": [
       "sys.version = \u001b[32m'3.11.9 \u001b[0m\u001b[32m(\u001b[0m\u001b[32mmain, Apr  2 2024, 08:25:04\u001b[0m\u001b[32m)\u001b[0m\u001b[32m \u001b[0m\u001b[32m[\u001b[0m\u001b[32mGCC 13.2.0\u001b[0m\u001b[32m]\u001b[0m\u001b[32m'\u001b[0m\n"
      ]
     },
     "metadata": {},
     "output_type": "display_data"
    }
   ],
   "source": [
    "import sys\n",
    "import os\n",
    "\n",
    "sys.path.append('scripts')\n",
    "\n",
    "import re\n",
    "import json\n",
    "import argparse\n",
    "import itertools\n",
    "from pathlib import Path\n",
    "import collections\n",
    "from dataclasses import dataclass,asdict, astuple\n",
    "from concurrent.futures import ProcessPoolExecutor\n",
    "\n",
    "import numpy as np\n",
    "import matplotlib.pyplot as plt\n",
    "# from matplotlib.font_manager import FontProperties\n",
    "import matplotlib.font_manager as fm\n",
    "from matplotlib.patches import FancyBboxPatch\n",
    "from matplotlib.patches import PathPatch\n",
    "from matplotlib.path import get_path_collection_extents\n",
    "from matplotlib.colors import LinearSegmentedColormap, LogNorm\n",
    "from mpl_toolkits.axes_grid1 import make_axes_locatable\n",
    "import seaborn as sns\n",
    "\n",
    "from rich import print, pretty\n",
    "from typing import  Iterable\n",
    "import pretty_errors\n",
    "from catppuccin import PALETTE\n",
    "\n",
    "from utils import *\n",
    "from ldj import ldj\n",
    "\n",
    "pretty.install()\n",
    "\n",
    "RESULT_DIR: Path = Path(\"../experiments/iteration-amount\")\n",
    "\n",
    "assert RESULT_DIR.is_dir() and RESULT_DIR.exists()\n",
    "\n",
    "\n",
    "flavor = PALETTE.latte.colors\n",
    "# num-robots-10-seed-0.json\n",
    "RE = re.compile(r\"internal-(\\d+)-external-(\\d+)-seed-(\\d+).json\")\n"
   ]
  },
  {
   "cell_type": "code",
   "execution_count": 2,
   "metadata": {},
   "outputs": [
    {
     "data": {
      "text/html": [
       "<pre style=\"white-space:pre;overflow-x:auto;line-height:normal;font-family:Menlo,'DejaVu Sans Mono',consolas,'Courier New',monospace\">STIX Two Text\n",
       "</pre>\n"
      ],
      "text/plain": [
       "STIX Two Text\n"
      ]
     },
     "metadata": {},
     "output_type": "display_data"
    }
   ],
   "source": [
    "# use LaTeX for text with matplotlib\n",
    "sns.set_style(\"darkgrid\")\n",
    "# set background color of sns darkgrid to flavor.base.hex\n",
    "plt.rcParams['axes.facecolor'] = flavor.base.hex\n",
    "# set font color to flavor.text.hex\n",
    "plt.rcParams['text.color'] = flavor.text.hex\n",
    "\n",
    "font_dirs = [\"./fonts/\"]\n",
    "# go through all fonts in the font directory and add them\n",
    "for font_dir in font_dirs:\n",
    "    for font in os.listdir(font_dir):\n",
    "        fm.fontManager.addfont(f\"{font_dir}/{font}\")\n",
    "\n",
    "prop_jbm = fm.FontProperties(fname='./fonts/JetBrainsMonoNerdFontMono-Regular.ttf')\n",
    "prop = fm.FontProperties(fname='./fonts/STIXTwoText-VariableFont_wght.ttf')\n",
    "\n",
    "plt.rcParams.update({\n",
    "    # \"text.usetex\": True,\n",
    "    \"font.family\": prop.get_name(),\n",
    "    # \"font.family\": \"stix\",\n",
    "    # \"font.sans-serif\": prop.get_name(),\n",
    "    \"mathtext.fontset\": \"stix\",\n",
    "    # \"text.latex.preamble\": r\"\\usepackage{fontenc}\\usepackage{fontspec}\\setmainfont{JetBrainsMonoNerdFontMono-Regular}\",\n",
    "})\n",
    "\n",
    "print(prop.get_name())\n",
    "\n",
    "colors = [\n",
    "    (flavor.lavender.hex, 1.0, (1, 0), 'o'),\n",
    "    (flavor.yellow.hex, 0.3, (2, 2), 'X'),\n",
    "    (flavor.peach.hex, 0.3, (2, 2), 'X'),\n",
    "    (flavor.green.hex, 1.0, (2, 2), '^')\n",
    "]"
   ]
  },
  {
   "cell_type": "code",
   "execution_count": 3,
   "metadata": {},
   "outputs": [],
   "source": [
    "\n",
    "def flatten(lst: Iterable) -> list:\n",
    "    return list(itertools.chain.from_iterable(lst))\n",
    "\n",
    "\n",
    "@dataclass(frozen=True)\n",
    "class ExperimentParams:\n",
    "    internal: int\n",
    "    external: int\n",
    "    seed: int\n",
    "\n",
    "@dataclass\n",
    "class ProcessedData:\n",
    "    distance_travelled: list[float]\n",
    "    finished_at: list[float]\n",
    "    ldj: list[float]\n",
    "    makespan: float\n",
    "    robot_collisions: int\n",
    "    params: ExperimentParams\n",
    "\n",
    "\n",
    "def process_file(file) -> ProcessedData:\n",
    "    match = RE.match(file.name)\n",
    "    assert match is not None\n",
    "    internal = int(match.group(1))\n",
    "    external = int(match.group(2))\n",
    "    seed = int(match.group(3))\n",
    "\n",
    "    with open(file, 'r') as file:\n",
    "        data = json.load(file)\n",
    "\n",
    "    distance_travelled_of_each_robot: list[float] = []\n",
    "    finished_at_of_each_robot: list[float] = []\n",
    "    ldj_of_each_robot: list[float] = []\n",
    "    robot_collisions: int = len(data['collisions']['robots'])\n",
    "    environment_collisions: int = len(data['collisions']['environment'])\n",
    "\n",
    "    for _, robot_data in data['robots'].items():\n",
    "        positions = np.array(robot_data['positions'])\n",
    "        distance_travelled: float = np.sum(np.linalg.norm(np.diff(positions, axis=0), axis=1))\n",
    "        distance_travelled_of_each_robot.append(distance_travelled)\n",
    "\n",
    "        mission = robot_data['mission']\n",
    "        # robot_collisions += robot_data['collisions']['robots']\n",
    "\n",
    "        started_at: float = mission['started_at']\n",
    "        finished_at: float = mission['finished_at'] if mission['finished_at'] else mission['duration'] + started_at\n",
    "        finished_at_of_each_robot.append(finished_at)\n",
    "\n",
    "        timestamps: np.ndarray = np.array([measurement['timestamp'] for measurement in robot_data['velocities']])\n",
    "        velocities3d_bevy: np.ndarray = np.array([measurement['velocity'] for measurement in robot_data['velocities']])\n",
    "        velocities = velocities3d_bevy[:, [0, 2]]\n",
    "\n",
    "        ldj_metric = ldj(velocities, timestamps)\n",
    "        ldj_of_each_robot.append(ldj_metric)\n",
    "\n",
    "    makespan: float = data['makespan']\n",
    "\n",
    "    params = ExperimentParams(\n",
    "        internal=internal,\n",
    "        external=external,\n",
    "        seed=seed\n",
    "    )\n",
    "\n",
    "    return ProcessedData(\n",
    "        distance_travelled=distance_travelled_of_each_robot,\n",
    "        finished_at=finished_at_of_each_robot,\n",
    "        ldj=ldj_of_each_robot,\n",
    "        robot_collisions=robot_collisions,\n",
    "        makespan=makespan,\n",
    "        params=params\n",
    "    )\n"
   ]
  },
  {
   "cell_type": "code",
   "execution_count": 4,
   "metadata": {},
   "outputs": [
    {
     "data": {
      "text/html": [
       "<pre style=\"white-space:pre;overflow-x:auto;line-height:normal;font-family:Menlo,'DejaVu Sans Mono',consolas,'Courier New',monospace\"><span style=\"color: #800080; text-decoration-color: #800080; font-weight: bold\">np.max</span><span style=\"font-weight: bold\">(</span>data.finished_at<span style=\"font-weight: bold\">)</span>=<span style=\"color: #008080; text-decoration-color: #008080; font-weight: bold\">102.1</span> <span style=\"color: #808000; text-decoration-color: #808000\">key</span>=<span style=\"font-weight: bold\">(</span><span style=\"color: #008080; text-decoration-color: #008080; font-weight: bold\">1</span>, <span style=\"color: #008080; text-decoration-color: #008080; font-weight: bold\">13</span><span style=\"font-weight: bold\">)</span>\n",
       "</pre>\n"
      ],
      "text/plain": [
       "\u001b[1;35mnp.max\u001b[0m\u001b[1m(\u001b[0mdata.finished_at\u001b[1m)\u001b[0m=\u001b[1;36m102.1\u001b[0m \u001b[33mkey\u001b[0m=\u001b[1m(\u001b[0m\u001b[1;36m1\u001b[0m, \u001b[1;36m13\u001b[0m\u001b[1m)\u001b[0m\n"
      ]
     },
     "metadata": {},
     "output_type": "display_data"
    }
   ],
   "source": [
    "processed_data: list[ProcessedData] = []\n",
    "with ProcessPoolExecutor() as executor:\n",
    "    results = executor.map(process_file, RESULT_DIR.glob('*.json'))\n",
    "\n",
    "aggregated_data: dict[tuple[int, int], ProcessedData] = {}\n",
    "for data in results:\n",
    "    key = (data.params.internal, data.params.external)\n",
    "    if key in aggregated_data:\n",
    "        aggregated_data[key].distance_travelled.extend(data.distance_travelled)\n",
    "        if np.max(data.finished_at) < 100:\n",
    "            aggregated_data[key].finished_at.extend(data.finished_at)\n",
    "        else:\n",
    "            print(f\"{np.max(data.finished_at)=} {key=}\")\n",
    "        aggregated_data[key].ldj.extend(data.ldj)\n",
    "        # aggregated_data[key].ldj.extend(data.ldj)\n",
    "        current = aggregated_data[key].robot_collisions\n",
    "        aggregated_data[key].robot_collisions = (current + data.robot_collisions) / 2\n",
    "        current = aggregated_data[key].makespan\n",
    "        aggregated_data[key].makespan = (current + data.makespan) / 2\n",
    "    else:\n",
    "        aggregated_data[key] = data\n",
    "\n",
    "\n",
    "processed_data = aggregated_data.values()\n"
   ]
  },
  {
   "cell_type": "code",
   "execution_count": 5,
   "metadata": {},
   "outputs": [
    {
     "data": {
      "text/html": [
       "<pre style=\"white-space:pre;overflow-x:auto;line-height:normal;font-family:Menlo,'DejaVu Sans Mono',consolas,'Courier New',monospace\"><span style=\"color: #808000; text-decoration-color: #808000\">extent</span>=<span style=\"font-weight: bold\">[</span><span style=\"color: #008080; text-decoration-color: #008080; font-weight: bold\">1</span>, <span style=\"color: #008080; text-decoration-color: #008080; font-weight: bold\">34</span>, <span style=\"color: #008080; text-decoration-color: #008080; font-weight: bold\">1</span>, <span style=\"color: #008080; text-decoration-color: #008080; font-weight: bold\">34</span><span style=\"font-weight: bold\">]</span> <span style=\"color: #808000; text-decoration-color: #808000\">nrows</span>=<span style=\"color: #008080; text-decoration-color: #008080; font-weight: bold\">8</span> <span style=\"color: #808000; text-decoration-color: #808000\">ncols</span>=<span style=\"color: #008080; text-decoration-color: #008080; font-weight: bold\">8</span>\n",
       "</pre>\n"
      ],
      "text/plain": [
       "\u001b[33mextent\u001b[0m=\u001b[1m[\u001b[0m\u001b[1;36m1\u001b[0m, \u001b[1;36m34\u001b[0m, \u001b[1;36m1\u001b[0m, \u001b[1;36m34\u001b[0m\u001b[1m]\u001b[0m \u001b[33mnrows\u001b[0m=\u001b[1;36m8\u001b[0m \u001b[33mncols\u001b[0m=\u001b[1;36m8\u001b[0m\n"
      ]
     },
     "metadata": {},
     "output_type": "display_data"
    },
    {
     "data": {
      "text/html": [
       "<pre style=\"white-space:pre;overflow-x:auto;line-height:normal;font-family:Menlo,'DejaVu Sans Mono',consolas,'Courier New',monospace\"><span style=\"color: #808000; text-decoration-color: #808000\">xticks</span>=<span style=\"color: #800080; text-decoration-color: #800080; font-weight: bold\">array</span><span style=\"font-weight: bold\">([</span> <span style=\"color: #008080; text-decoration-color: #008080; font-weight: bold\">1</span>,  <span style=\"color: #008080; text-decoration-color: #008080; font-weight: bold\">2</span>,  <span style=\"color: #008080; text-decoration-color: #008080; font-weight: bold\">3</span>,  <span style=\"color: #008080; text-decoration-color: #008080; font-weight: bold\">5</span>,  <span style=\"color: #008080; text-decoration-color: #008080; font-weight: bold\">8</span>, <span style=\"color: #008080; text-decoration-color: #008080; font-weight: bold\">13</span>, <span style=\"color: #008080; text-decoration-color: #008080; font-weight: bold\">21</span>, <span style=\"color: #008080; text-decoration-color: #008080; font-weight: bold\">34</span><span style=\"font-weight: bold\">])</span>\n",
       "</pre>\n"
      ],
      "text/plain": [
       "\u001b[33mxticks\u001b[0m=\u001b[1;35marray\u001b[0m\u001b[1m(\u001b[0m\u001b[1m[\u001b[0m \u001b[1;36m1\u001b[0m,  \u001b[1;36m2\u001b[0m,  \u001b[1;36m3\u001b[0m,  \u001b[1;36m5\u001b[0m,  \u001b[1;36m8\u001b[0m, \u001b[1;36m13\u001b[0m, \u001b[1;36m21\u001b[0m, \u001b[1;36m34\u001b[0m\u001b[1m]\u001b[0m\u001b[1m)\u001b[0m\n"
      ]
     },
     "metadata": {},
     "output_type": "display_data"
    },
    {
     "data": {
      "text/html": [
       "<pre style=\"white-space:pre;overflow-x:auto;line-height:normal;font-family:Menlo,'DejaVu Sans Mono',consolas,'Courier New',monospace\"><span style=\"color: #808000; text-decoration-color: #808000\">yticks</span>=<span style=\"color: #800080; text-decoration-color: #800080; font-weight: bold\">array</span><span style=\"font-weight: bold\">([</span> <span style=\"color: #008080; text-decoration-color: #008080; font-weight: bold\">1</span>,  <span style=\"color: #008080; text-decoration-color: #008080; font-weight: bold\">2</span>,  <span style=\"color: #008080; text-decoration-color: #008080; font-weight: bold\">3</span>,  <span style=\"color: #008080; text-decoration-color: #008080; font-weight: bold\">5</span>,  <span style=\"color: #008080; text-decoration-color: #008080; font-weight: bold\">8</span>, <span style=\"color: #008080; text-decoration-color: #008080; font-weight: bold\">13</span>, <span style=\"color: #008080; text-decoration-color: #008080; font-weight: bold\">21</span>, <span style=\"color: #008080; text-decoration-color: #008080; font-weight: bold\">34</span><span style=\"font-weight: bold\">])</span>\n",
       "</pre>\n"
      ],
      "text/plain": [
       "\u001b[33myticks\u001b[0m=\u001b[1;35marray\u001b[0m\u001b[1m(\u001b[0m\u001b[1m[\u001b[0m \u001b[1;36m1\u001b[0m,  \u001b[1;36m2\u001b[0m,  \u001b[1;36m3\u001b[0m,  \u001b[1;36m5\u001b[0m,  \u001b[1;36m8\u001b[0m, \u001b[1;36m13\u001b[0m, \u001b[1;36m21\u001b[0m, \u001b[1;36m34\u001b[0m\u001b[1m]\u001b[0m\u001b[1m)\u001b[0m\n"
      ]
     },
     "metadata": {},
     "output_type": "display_data"
    }
   ],
   "source": [
    "# def as_grid_index(internal: int, external: int) -> (int, int):\n",
    "#     assert internal % 5 == 0\n",
    "#     assert external % 5 == 0\n",
    "#     return (int(internal / 5) - 1, int(external / 5) - 1)\n",
    "\n",
    "\n",
    "def minmax(arr: np.ndarray) -> (float, float):\n",
    "    return (np.min(arr), np.max(arr))\n",
    "\n",
    "\n",
    "internals = set((it.params.internal for it in processed_data))\n",
    "externals = set((it.params.external for it in processed_data))\n",
    "nrows: int = len(internals)\n",
    "ncols: int = len(externals)\n",
    "\n",
    "\n",
    "# nrows: int = max((int(it.params.internal / 5) for it in processed_data))\n",
    "# ncols: int = max((int(it.params.external / 5) for it in processed_data))\n",
    "\n",
    "extent: ((int, int), (int, int)) = (minmax([it.params.internal for it in processed_data]), minmax([it.params.external for it in processed_data]))\n",
    "extent: list[int] = [*extent[0], *extent[1]]\n",
    "\n",
    "xticks = np.array(sorted(internals))\n",
    "yticks = np.array(sorted(externals))\n",
    "# xticks = np.arange(5, 35, 5)\n",
    "# yticks = np.arange(5, 35, 5)\n",
    "x, y = np.meshgrid(xticks, yticks)\n",
    "\n",
    "xtick_labels = [str(tick) for tick in xticks]\n",
    "ytick_labels = [str(tick) for tick in yticks]\n",
    "\n",
    "def as_grid_index(params: ExperimentParams) -> (int, int):\n",
    "    x = np.where(xticks == params.internal)[0][0]\n",
    "    y = np.where(yticks == params.external)[0][0]\n",
    "    return (x, y)\n",
    "    # return (int(params.internal / 5) - 1, int(params.external / 5) - 1)\n",
    "\n",
    "print(f\"{extent=} {nrows=} {ncols=}\")\n",
    "print(f\"{xticks=}\")\n",
    "print(f\"{yticks=}\")"
   ]
  },
  {
   "cell_type": "code",
   "execution_count": 6,
   "metadata": {},
   "outputs": [
    {
     "data": {
      "text/html": [
       "<pre style=\"white-space:pre;overflow-x:auto;line-height:normal;font-family:Menlo,'DejaVu Sans Mono',consolas,'Courier New',monospace\"><span style=\"color: #800080; text-decoration-color: #800080; font-weight: bold\">as_grid_index</span><span style=\"font-weight: bold\">(</span>params<span style=\"font-weight: bold\">)</span>=<span style=\"font-weight: bold\">(</span><span style=\"color: #008080; text-decoration-color: #008080; font-weight: bold\">4</span>, <span style=\"color: #008080; text-decoration-color: #008080; font-weight: bold\">1</span><span style=\"font-weight: bold\">)</span>\n",
       "</pre>\n"
      ],
      "text/plain": [
       "\u001b[1;35mas_grid_index\u001b[0m\u001b[1m(\u001b[0mparams\u001b[1m)\u001b[0m=\u001b[1m(\u001b[0m\u001b[1;36m4\u001b[0m, \u001b[1;36m1\u001b[0m\u001b[1m)\u001b[0m\n"
      ]
     },
     "metadata": {},
     "output_type": "display_data"
    }
   ],
   "source": [
    "params = ExperimentParams(internal=8, external=2, seed=0)\n",
    "print(f\"{as_grid_index(params)=}\")"
   ]
  },
  {
   "cell_type": "code",
   "execution_count": 10,
   "metadata": {},
   "outputs": [
    {
     "data": {
      "text/html": [
       "<pre style=\"white-space:pre;overflow-x:auto;line-height:normal;font-family:Menlo,'DejaVu Sans Mono',consolas,'Courier New',monospace\">it.<span style=\"color: #808000; text-decoration-color: #808000\">finished_at</span>=<span style=\"font-weight: bold\">[</span><span style=\"color: #008080; text-decoration-color: #008080; font-weight: bold\">231.9</span>, <span style=\"color: #008080; text-decoration-color: #008080; font-weight: bold\">236.2</span>, <span style=\"color: #008080; text-decoration-color: #008080; font-weight: bold\">234.2</span>, <span style=\"color: #008080; text-decoration-color: #008080; font-weight: bold\">218.8</span>, <span style=\"color: #008080; text-decoration-color: #008080; font-weight: bold\">227.4</span>, <span style=\"color: #008080; text-decoration-color: #008080; font-weight: bold\">235.5</span>, <span style=\"color: #008080; text-decoration-color: #008080; font-weight: bold\">229.5</span>, <span style=\"color: #008080; text-decoration-color: #008080; font-weight: bold\">236.5</span>, <span style=\"color: #008080; text-decoration-color: #008080; font-weight: bold\">225.2</span>, <span style=\"color: #008080; text-decoration-color: #008080; font-weight: bold\">229.8</span>, <span style=\"color: #008080; text-decoration-color: #008080; font-weight: bold\">233.6</span>, <span style=\"color: #008080; text-decoration-color: #008080; font-weight: bold\">234.4</span>, <span style=\"color: #008080; text-decoration-color: #008080; font-weight: bold\">230.6</span>, <span style=\"color: #008080; text-decoration-color: #008080; font-weight: bold\">235.9</span>, \n",
       "<span style=\"color: #008080; text-decoration-color: #008080; font-weight: bold\">235.5</span>, <span style=\"color: #008080; text-decoration-color: #008080; font-weight: bold\">227.6</span>, <span style=\"color: #008080; text-decoration-color: #008080; font-weight: bold\">226.5</span>, <span style=\"color: #008080; text-decoration-color: #008080; font-weight: bold\">227.3</span>, <span style=\"color: #008080; text-decoration-color: #008080; font-weight: bold\">234.0</span>, <span style=\"color: #008080; text-decoration-color: #008080; font-weight: bold\">233.9</span>, <span style=\"color: #008080; text-decoration-color: #008080; font-weight: bold\">235.7</span>, <span style=\"color: #008080; text-decoration-color: #008080; font-weight: bold\">224.0</span>, <span style=\"color: #008080; text-decoration-color: #008080; font-weight: bold\">227.5</span>, <span style=\"color: #008080; text-decoration-color: #008080; font-weight: bold\">227.6</span>, <span style=\"color: #008080; text-decoration-color: #008080; font-weight: bold\">233.0</span>, <span style=\"color: #008080; text-decoration-color: #008080; font-weight: bold\">24.1</span>, <span style=\"color: #008080; text-decoration-color: #008080; font-weight: bold\">27.9</span>, <span style=\"color: #008080; text-decoration-color: #008080; font-weight: bold\">28.8</span>, <span style=\"color: #008080; text-decoration-color: #008080; font-weight: bold\">34.9</span>, <span style=\"color: #008080; text-decoration-color: #008080; font-weight: bold\">24.1</span>, <span style=\"color: #008080; text-decoration-color: #008080; font-weight: bold\">30.0</span>, \n",
       "<span style=\"color: #008080; text-decoration-color: #008080; font-weight: bold\">29.3</span>, <span style=\"color: #008080; text-decoration-color: #008080; font-weight: bold\">26.8</span>, <span style=\"color: #008080; text-decoration-color: #008080; font-weight: bold\">21.9</span>, <span style=\"color: #008080; text-decoration-color: #008080; font-weight: bold\">28.8</span>, <span style=\"color: #008080; text-decoration-color: #008080; font-weight: bold\">21.6</span>, <span style=\"color: #008080; text-decoration-color: #008080; font-weight: bold\">29.3</span>, <span style=\"color: #008080; text-decoration-color: #008080; font-weight: bold\">30.1</span>, <span style=\"color: #008080; text-decoration-color: #008080; font-weight: bold\">30.3</span>, <span style=\"color: #008080; text-decoration-color: #008080; font-weight: bold\">35.0</span>, <span style=\"color: #008080; text-decoration-color: #008080; font-weight: bold\">28.0</span>, <span style=\"color: #008080; text-decoration-color: #008080; font-weight: bold\">25.1</span>, <span style=\"color: #008080; text-decoration-color: #008080; font-weight: bold\">23.1</span>, <span style=\"color: #008080; text-decoration-color: #008080; font-weight: bold\">34.0</span>, <span style=\"color: #008080; text-decoration-color: #008080; font-weight: bold\">29.3</span>, <span style=\"color: #008080; text-decoration-color: #008080; font-weight: bold\">31.4</span>, <span style=\"color: #008080; text-decoration-color: #008080; font-weight: bold\">30.7</span>, <span style=\"color: #008080; text-decoration-color: #008080; font-weight: bold\">31.0</span>, <span style=\"color: #008080; text-decoration-color: #008080; font-weight: bold\">24.3</span>, <span style=\"color: #008080; text-decoration-color: #008080; font-weight: bold\">22.1</span><span style=\"font-weight: bold\">]</span>\n",
       "</pre>\n"
      ],
      "text/plain": [
       "it.\u001b[33mfinished_at\u001b[0m=\u001b[1m[\u001b[0m\u001b[1;36m231.9\u001b[0m, \u001b[1;36m236.2\u001b[0m, \u001b[1;36m234.2\u001b[0m, \u001b[1;36m218.8\u001b[0m, \u001b[1;36m227.4\u001b[0m, \u001b[1;36m235.5\u001b[0m, \u001b[1;36m229.5\u001b[0m, \u001b[1;36m236.5\u001b[0m, \u001b[1;36m225.2\u001b[0m, \u001b[1;36m229.8\u001b[0m, \u001b[1;36m233.6\u001b[0m, \u001b[1;36m234.4\u001b[0m, \u001b[1;36m230.6\u001b[0m, \u001b[1;36m235.9\u001b[0m, \n",
       "\u001b[1;36m235.5\u001b[0m, \u001b[1;36m227.6\u001b[0m, \u001b[1;36m226.5\u001b[0m, \u001b[1;36m227.3\u001b[0m, \u001b[1;36m234.0\u001b[0m, \u001b[1;36m233.9\u001b[0m, \u001b[1;36m235.7\u001b[0m, \u001b[1;36m224.0\u001b[0m, \u001b[1;36m227.5\u001b[0m, \u001b[1;36m227.6\u001b[0m, \u001b[1;36m233.0\u001b[0m, \u001b[1;36m24.1\u001b[0m, \u001b[1;36m27.9\u001b[0m, \u001b[1;36m28.8\u001b[0m, \u001b[1;36m34.9\u001b[0m, \u001b[1;36m24.1\u001b[0m, \u001b[1;36m30.0\u001b[0m, \n",
       "\u001b[1;36m29.3\u001b[0m, \u001b[1;36m26.8\u001b[0m, \u001b[1;36m21.9\u001b[0m, \u001b[1;36m28.8\u001b[0m, \u001b[1;36m21.6\u001b[0m, \u001b[1;36m29.3\u001b[0m, \u001b[1;36m30.1\u001b[0m, \u001b[1;36m30.3\u001b[0m, \u001b[1;36m35.0\u001b[0m, \u001b[1;36m28.0\u001b[0m, \u001b[1;36m25.1\u001b[0m, \u001b[1;36m23.1\u001b[0m, \u001b[1;36m34.0\u001b[0m, \u001b[1;36m29.3\u001b[0m, \u001b[1;36m31.4\u001b[0m, \u001b[1;36m30.7\u001b[0m, \u001b[1;36m31.0\u001b[0m, \u001b[1;36m24.3\u001b[0m, \u001b[1;36m22.1\u001b[0m\u001b[1m]\u001b[0m\n"
      ]
     },
     "metadata": {},
     "output_type": "display_data"
    },
    {
     "data": {
      "text/html": [
       "<pre style=\"white-space:pre;overflow-x:auto;line-height:normal;font-family:Menlo,'DejaVu Sans Mono',consolas,'Courier New',monospace\">it.<span style=\"color: #808000; text-decoration-color: #808000\">params</span>=<span style=\"color: #800080; text-decoration-color: #800080; font-weight: bold\">ExperimentParams</span><span style=\"font-weight: bold\">(</span><span style=\"color: #808000; text-decoration-color: #808000\">internal</span>=<span style=\"color: #008080; text-decoration-color: #008080; font-weight: bold\">13</span>, <span style=\"color: #808000; text-decoration-color: #808000\">external</span>=<span style=\"color: #008080; text-decoration-color: #008080; font-weight: bold\">1</span>, <span style=\"color: #808000; text-decoration-color: #808000\">seed</span>=<span style=\"color: #008080; text-decoration-color: #008080; font-weight: bold\">0</span><span style=\"font-weight: bold\">)</span>\n",
       "</pre>\n"
      ],
      "text/plain": [
       "it.\u001b[33mparams\u001b[0m=\u001b[1;35mExperimentParams\u001b[0m\u001b[1m(\u001b[0m\u001b[33minternal\u001b[0m=\u001b[1;36m13\u001b[0m, \u001b[33mexternal\u001b[0m=\u001b[1;36m1\u001b[0m, \u001b[33mseed\u001b[0m=\u001b[1;36m0\u001b[0m\u001b[1m)\u001b[0m\n"
      ]
     },
     "metadata": {},
     "output_type": "display_data"
    },
    {
     "data": {
      "text/html": [
       "<pre style=\"white-space:pre;overflow-x:auto;line-height:normal;font-family:Menlo,'DejaVu Sans Mono',consolas,'Courier New',monospace\">it.<span style=\"color: #808000; text-decoration-color: #808000\">makespan</span>=<span style=\"color: #008080; text-decoration-color: #008080; font-weight: bold\">33.01803112030029</span>\n",
       "</pre>\n"
      ],
      "text/plain": [
       "it.\u001b[33mmakespan\u001b[0m=\u001b[1;36m33\u001b[0m\u001b[1;36m.01803112030029\u001b[0m\n"
      ]
     },
     "metadata": {},
     "output_type": "display_data"
    },
    {
     "data": {
      "text/html": [
       "<pre style=\"white-space:pre;overflow-x:auto;line-height:normal;font-family:Menlo,'DejaVu Sans Mono',consolas,'Courier New',monospace\"><span style=\"color: #808000; text-decoration-color: #808000\">t_diff</span>=<span style=\"color: #008080; text-decoration-color: #008080; font-weight: bold\">13.399999999999999</span>\n",
       "</pre>\n"
      ],
      "text/plain": [
       "\u001b[33mt_diff\u001b[0m=\u001b[1;36m13\u001b[0m\u001b[1;36m.399999999999999\u001b[0m\n"
      ]
     },
     "metadata": {},
     "output_type": "display_data"
    }
   ],
   "source": [
    "distance_travelled_avg_im: np.ndarray = np.zeros((nrows, ncols))\n",
    "distance_travelled_median_im: np.ndarray = np.zeros((nrows, ncols))\n",
    "ldj_im: np.ndarray = np.zeros((nrows, ncols))\n",
    "makespan_im: np.ndarray = np.zeros((nrows, ncols), dtype=np.float64)\n",
    "maximum_task_completion_time_difference_im = np.zeros((nrows, ncols))\n",
    "robot_collisions_im = np.zeros((nrows, ncols), dtype=np.int32)\n",
    "\n",
    "for it in processed_data:\n",
    "    x, y = as_grid_index(it.params)\n",
    "    # print(f\"{it.distance_travelled.shape=}\")\n",
    "    # if x == 6 and y == 0:\n",
    "        # print(f\"{it.distance_travelled=}\")\n",
    "        \n",
    "    distance_travelled_avg: float = np.mean(np.sort(it.distance_travelled)[:-1])\n",
    "    distance_travelled_median: float = np.median(np.sort(it.distance_travelled)[:-1])\n",
    "    # print(f\"{it.params.internal=} {it.params.external=} {x=} {y=} {distance_travelled_avg=}\")\n",
    "    # print(f\"{x=}, {y=} = {distance_travelled_avg=}\")\n",
    "    distance_travelled_avg_im[x, y] = distance_travelled_avg\n",
    "    distance_travelled_median_im[x, y] = distance_travelled_median\n",
    "    ldj_avg: float = np.mean(np.sort(it.ldj)[:-1])\n",
    "    ldj_im[x, y] = ldj_avg\n",
    "\n",
    "    t_min, t_max = minmax(np.sort(it.finished_at))\n",
    "    t_min, t_max = minmax(np.sort(it.finished_at))\n",
    "    t_diff = t_max - t_min\n",
    "    if t_diff > 100:\n",
    "        print(f\"{it.finished_at=}\")\n",
    "        print(f\"{it.params=}\")\n",
    "        print(f\"{it.makespan=}\")\n",
    "        stop = int(len(it.finished_at) / 2)\n",
    "        t_min, t_max = minmax(np.sort(it.finished_at)[0:stop])\n",
    "        t_diff = t_max - t_min\n",
    "        print(f\"{t_diff=}\")\n",
    "\n",
    "    maximum_task_completion_time_difference_im[x, y] = t_diff\n",
    "    robot_collisions_im[x, y] = it.robot_collisions\n",
    "    makespan_im[x, y] = it.makespan\n",
    "    # if x == 4 and y == 1:\n",
    "    #     print(f\"{distance_travelled_avg=}\")\n",
    "    \n"
   ]
  },
  {
   "cell_type": "code",
   "execution_count": 12,
   "metadata": {},
   "outputs": [
    {
     "data": {
      "text/html": [
       "<pre style=\"white-space:pre;overflow-x:auto;line-height:normal;font-family:Menlo,'DejaVu Sans Mono',consolas,'Courier New',monospace\"><span style=\"color: #808000; text-decoration-color: #808000\">maximum_task_completion_time_difference_im</span>=<span style=\"color: #800080; text-decoration-color: #800080; font-weight: bold\">array</span><span style=\"font-weight: bold\">([[</span><span style=\"color: #008080; text-decoration-color: #008080; font-weight: bold\">35.9</span>, <span style=\"color: #008080; text-decoration-color: #008080; font-weight: bold\">22.2</span>, <span style=\"color: #008080; text-decoration-color: #008080; font-weight: bold\">21.8</span>, <span style=\"color: #008080; text-decoration-color: #008080; font-weight: bold\">21.5</span>, <span style=\"color: #008080; text-decoration-color: #008080; font-weight: bold\">34.1</span>, <span style=\"color: #008080; text-decoration-color: #008080; font-weight: bold\">35.1</span>, <span style=\"color: #008080; text-decoration-color: #008080; font-weight: bold\">42</span>. , <span style=\"color: #008080; text-decoration-color: #008080; font-weight: bold\">42.6</span><span style=\"font-weight: bold\">]</span>,\n",
       "       <span style=\"font-weight: bold\">[</span><span style=\"color: #008080; text-decoration-color: #008080; font-weight: bold\">15.7</span>, <span style=\"color: #008080; text-decoration-color: #008080; font-weight: bold\">11.7</span>, <span style=\"color: #008080; text-decoration-color: #008080; font-weight: bold\">24.3</span>, <span style=\"color: #008080; text-decoration-color: #008080; font-weight: bold\">18</span>. , <span style=\"color: #008080; text-decoration-color: #008080; font-weight: bold\">14.2</span>, <span style=\"color: #008080; text-decoration-color: #008080; font-weight: bold\">15.1</span>, <span style=\"color: #008080; text-decoration-color: #008080; font-weight: bold\">22.3</span>, <span style=\"color: #008080; text-decoration-color: #008080; font-weight: bold\">28.9</span><span style=\"font-weight: bold\">]</span>,\n",
       "       <span style=\"font-weight: bold\">[</span><span style=\"color: #008080; text-decoration-color: #008080; font-weight: bold\">15.5</span>, <span style=\"color: #008080; text-decoration-color: #008080; font-weight: bold\">17.4</span>, <span style=\"color: #008080; text-decoration-color: #008080; font-weight: bold\">23.6</span>, <span style=\"color: #008080; text-decoration-color: #008080; font-weight: bold\">13.2</span>, <span style=\"color: #008080; text-decoration-color: #008080; font-weight: bold\">16</span>. , <span style=\"color: #008080; text-decoration-color: #008080; font-weight: bold\">11.4</span>, <span style=\"color: #008080; text-decoration-color: #008080; font-weight: bold\">20.4</span>, <span style=\"color: #008080; text-decoration-color: #008080; font-weight: bold\">15</span>. <span style=\"font-weight: bold\">]</span>,\n",
       "       <span style=\"font-weight: bold\">[</span><span style=\"color: #008080; text-decoration-color: #008080; font-weight: bold\">16.7</span>, <span style=\"color: #008080; text-decoration-color: #008080; font-weight: bold\">16.6</span>, <span style=\"color: #008080; text-decoration-color: #008080; font-weight: bold\">11.3</span>, <span style=\"color: #008080; text-decoration-color: #008080; font-weight: bold\">10.5</span>, <span style=\"color: #008080; text-decoration-color: #008080; font-weight: bold\">17</span>. , <span style=\"color: #008080; text-decoration-color: #008080; font-weight: bold\">11.5</span>,  <span style=\"color: #008080; text-decoration-color: #008080; font-weight: bold\">9.6</span>, <span style=\"color: #008080; text-decoration-color: #008080; font-weight: bold\">10.6</span><span style=\"font-weight: bold\">]</span>,\n",
       "       <span style=\"font-weight: bold\">[</span><span style=\"color: #008080; text-decoration-color: #008080; font-weight: bold\">20.3</span>, <span style=\"color: #008080; text-decoration-color: #008080; font-weight: bold\">13.5</span>,  <span style=\"color: #008080; text-decoration-color: #008080; font-weight: bold\">9</span>. ,  <span style=\"color: #008080; text-decoration-color: #008080; font-weight: bold\">9</span>. , <span style=\"color: #008080; text-decoration-color: #008080; font-weight: bold\">11.9</span>,  <span style=\"color: #008080; text-decoration-color: #008080; font-weight: bold\">9</span>. , <span style=\"color: #008080; text-decoration-color: #008080; font-weight: bold\">13.3</span>, <span style=\"color: #008080; text-decoration-color: #008080; font-weight: bold\">15.7</span><span style=\"font-weight: bold\">]</span>,\n",
       "       <span style=\"font-weight: bold\">[</span><span style=\"color: #008080; text-decoration-color: #008080; font-weight: bold\">13.4</span>,  <span style=\"color: #008080; text-decoration-color: #008080; font-weight: bold\">9.4</span>, <span style=\"color: #008080; text-decoration-color: #008080; font-weight: bold\">14.3</span>,  <span style=\"color: #008080; text-decoration-color: #008080; font-weight: bold\">6.9</span>,  <span style=\"color: #008080; text-decoration-color: #008080; font-weight: bold\">8.4</span>,  <span style=\"color: #008080; text-decoration-color: #008080; font-weight: bold\">9.7</span>, <span style=\"color: #008080; text-decoration-color: #008080; font-weight: bold\">10.4</span>,  <span style=\"color: #008080; text-decoration-color: #008080; font-weight: bold\">8.5</span><span style=\"font-weight: bold\">]</span>,\n",
       "       <span style=\"font-weight: bold\">[</span><span style=\"color: #008080; text-decoration-color: #008080; font-weight: bold\">21.3</span>, <span style=\"color: #008080; text-decoration-color: #008080; font-weight: bold\">12</span>. ,  <span style=\"color: #008080; text-decoration-color: #008080; font-weight: bold\">8.6</span>,  <span style=\"color: #008080; text-decoration-color: #008080; font-weight: bold\">7.5</span>,  <span style=\"color: #008080; text-decoration-color: #008080; font-weight: bold\">7.8</span>,  <span style=\"color: #008080; text-decoration-color: #008080; font-weight: bold\">8.9</span>,  <span style=\"color: #008080; text-decoration-color: #008080; font-weight: bold\">8.4</span>,  <span style=\"color: #008080; text-decoration-color: #008080; font-weight: bold\">9.8</span><span style=\"font-weight: bold\">]</span>,\n",
       "       <span style=\"font-weight: bold\">[</span><span style=\"color: #008080; text-decoration-color: #008080; font-weight: bold\">13.2</span>, <span style=\"color: #008080; text-decoration-color: #008080; font-weight: bold\">10.9</span>,  <span style=\"color: #008080; text-decoration-color: #008080; font-weight: bold\">9.2</span>, <span style=\"color: #008080; text-decoration-color: #008080; font-weight: bold\">10.9</span>,  <span style=\"color: #008080; text-decoration-color: #008080; font-weight: bold\">8.6</span>, <span style=\"color: #008080; text-decoration-color: #008080; font-weight: bold\">11.4</span>,  <span style=\"color: #008080; text-decoration-color: #008080; font-weight: bold\">8.9</span>, <span style=\"color: #008080; text-decoration-color: #008080; font-weight: bold\">10.6</span><span style=\"font-weight: bold\">]])</span>\n",
       "</pre>\n"
      ],
      "text/plain": [
       "\u001b[33mmaximum_task_completion_time_difference_im\u001b[0m=\u001b[1;35marray\u001b[0m\u001b[1m(\u001b[0m\u001b[1m[\u001b[0m\u001b[1m[\u001b[0m\u001b[1;36m35.9\u001b[0m, \u001b[1;36m22.2\u001b[0m, \u001b[1;36m21.8\u001b[0m, \u001b[1;36m21.5\u001b[0m, \u001b[1;36m34.1\u001b[0m, \u001b[1;36m35.1\u001b[0m, \u001b[1;36m42\u001b[0m. , \u001b[1;36m42.6\u001b[0m\u001b[1m]\u001b[0m,\n",
       "       \u001b[1m[\u001b[0m\u001b[1;36m15.7\u001b[0m, \u001b[1;36m11.7\u001b[0m, \u001b[1;36m24.3\u001b[0m, \u001b[1;36m18\u001b[0m. , \u001b[1;36m14.2\u001b[0m, \u001b[1;36m15.1\u001b[0m, \u001b[1;36m22.3\u001b[0m, \u001b[1;36m28.9\u001b[0m\u001b[1m]\u001b[0m,\n",
       "       \u001b[1m[\u001b[0m\u001b[1;36m15.5\u001b[0m, \u001b[1;36m17.4\u001b[0m, \u001b[1;36m23.6\u001b[0m, \u001b[1;36m13.2\u001b[0m, \u001b[1;36m16\u001b[0m. , \u001b[1;36m11.4\u001b[0m, \u001b[1;36m20.4\u001b[0m, \u001b[1;36m15\u001b[0m. \u001b[1m]\u001b[0m,\n",
       "       \u001b[1m[\u001b[0m\u001b[1;36m16.7\u001b[0m, \u001b[1;36m16.6\u001b[0m, \u001b[1;36m11.3\u001b[0m, \u001b[1;36m10.5\u001b[0m, \u001b[1;36m17\u001b[0m. , \u001b[1;36m11.5\u001b[0m,  \u001b[1;36m9.6\u001b[0m, \u001b[1;36m10.6\u001b[0m\u001b[1m]\u001b[0m,\n",
       "       \u001b[1m[\u001b[0m\u001b[1;36m20.3\u001b[0m, \u001b[1;36m13.5\u001b[0m,  \u001b[1;36m9\u001b[0m. ,  \u001b[1;36m9\u001b[0m. , \u001b[1;36m11.9\u001b[0m,  \u001b[1;36m9\u001b[0m. , \u001b[1;36m13.3\u001b[0m, \u001b[1;36m15.7\u001b[0m\u001b[1m]\u001b[0m,\n",
       "       \u001b[1m[\u001b[0m\u001b[1;36m13.4\u001b[0m,  \u001b[1;36m9.4\u001b[0m, \u001b[1;36m14.3\u001b[0m,  \u001b[1;36m6.9\u001b[0m,  \u001b[1;36m8.4\u001b[0m,  \u001b[1;36m9.7\u001b[0m, \u001b[1;36m10.4\u001b[0m,  \u001b[1;36m8.5\u001b[0m\u001b[1m]\u001b[0m,\n",
       "       \u001b[1m[\u001b[0m\u001b[1;36m21.3\u001b[0m, \u001b[1;36m12\u001b[0m. ,  \u001b[1;36m8.6\u001b[0m,  \u001b[1;36m7.5\u001b[0m,  \u001b[1;36m7.8\u001b[0m,  \u001b[1;36m8.9\u001b[0m,  \u001b[1;36m8.4\u001b[0m,  \u001b[1;36m9.8\u001b[0m\u001b[1m]\u001b[0m,\n",
       "       \u001b[1m[\u001b[0m\u001b[1;36m13.2\u001b[0m, \u001b[1;36m10.9\u001b[0m,  \u001b[1;36m9.2\u001b[0m, \u001b[1;36m10.9\u001b[0m,  \u001b[1;36m8.6\u001b[0m, \u001b[1;36m11.4\u001b[0m,  \u001b[1;36m8.9\u001b[0m, \u001b[1;36m10.6\u001b[0m\u001b[1m]\u001b[0m\u001b[1m]\u001b[0m\u001b[1m)\u001b[0m\n"
      ]
     },
     "metadata": {},
     "output_type": "display_data"
    }
   ],
   "source": [
    "print(f\"{maximum_task_completion_time_difference_im=}\")\n",
    "# print(f\"{distance_travelled_avg_im[6,0]=}\")\n",
    "\n",
    "# print(f\"{maximum_task_completion_time_difference_im=}\")\n",
    "\n",
    "# distance_travelled_avg_im[0, 0] = 5000.0\n",
    "# distance_travelled_avg_im[1, 0] = 5000.0\n",
    "# distance_travelled_avg_im[0, 1] = 5000.0\n",
    "# distance_travelled_avg_im[-1, -1] = 3000.0\n"
   ]
  },
  {
   "cell_type": "code",
   "execution_count": 65,
   "metadata": {},
   "outputs": [
    {
     "data": {
      "text/html": [
       "<pre style=\"white-space:pre;overflow-x:auto;line-height:normal;font-family:Menlo,'DejaVu Sans Mono',consolas,'Courier New',monospace\">image<span style=\"font-weight: bold\">[</span><span style=\"color: #008080; text-decoration-color: #008080; font-weight: bold\">6</span>, <span style=\"color: #008080; text-decoration-color: #008080; font-weight: bold\">0</span><span style=\"font-weight: bold\">]</span>=<span style=\"color: #008080; text-decoration-color: #008080; font-weight: bold\">116.05462795674353</span> image<span style=\"font-weight: bold\">[</span><span style=\"color: #008080; text-decoration-color: #008080; font-weight: bold\">0</span>,<span style=\"color: #008080; text-decoration-color: #008080; font-weight: bold\">0</span><span style=\"font-weight: bold\">]</span>=<span style=\"color: #008080; text-decoration-color: #008080; font-weight: bold\">216.80088265039262</span> image<span style=\"font-weight: bold\">[</span><span style=\"color: #008080; text-decoration-color: #008080; font-weight: bold\">-1</span>, <span style=\"color: #008080; text-decoration-color: #008080; font-weight: bold\">-1</span><span style=\"font-weight: bold\">]</span>=<span style=\"color: #008080; text-decoration-color: #008080; font-weight: bold\">108.05752734087528</span>\n",
       "</pre>\n"
      ],
      "text/plain": [
       "image\u001b[1m[\u001b[0m\u001b[1;36m6\u001b[0m, \u001b[1;36m0\u001b[0m\u001b[1m]\u001b[0m=\u001b[1;36m116.05462795674353\u001b[0m image\u001b[1m[\u001b[0m\u001b[1;36m0\u001b[0m,\u001b[1;36m0\u001b[0m\u001b[1m]\u001b[0m=\u001b[1;36m216.80088265039262\u001b[0m image\u001b[1m[\u001b[0m\u001b[1;36m-1\u001b[0m, \u001b[1;36m-1\u001b[0m\u001b[1m]\u001b[0m=\u001b[1;36m108.05752734087528\u001b[0m\n"
      ]
     },
     "metadata": {},
     "output_type": "display_data"
    },
    {
     "data": {
      "text/html": [
       "<pre style=\"white-space:pre;overflow-x:auto;line-height:normal;font-family:Menlo,'DejaVu Sans Mono',consolas,'Courier New',monospace\"></pre>\n"
      ],
      "text/plain": []
     },
     "metadata": {},
     "output_type": "display_data"
    },
    {
     "data": {
      "image/png": "[encoded data removed]",
      "text/plain": [
       "\u001b[1m<\u001b[0m\u001b[1;95mFigure\u001b[0m\u001b[39m size 45\u001b[0m\u001b[1;36m0x450\u001b[0m\u001b[39m with \u001b[0m\u001b[1;36m2\u001b[0m\u001b[39m Axes\u001b[0m\u001b[1m>\u001b[0m"
      ]
     },
     "metadata": {},
     "output_type": "display_data"
    },
    {
     "data": {
      "text/html": [
       "<pre style=\"white-space:pre;overflow-x:auto;line-height:normal;font-family:Menlo,'DejaVu Sans Mono',consolas,'Courier New',monospace\"></pre>\n"
      ],
      "text/plain": []
     },
     "metadata": {},
     "output_type": "display_data"
    },
    {
     "data": {
      "image/png": "[encoded data removed]",
      "text/plain": [
       "\u001b[1m<\u001b[0m\u001b[1;95mFigure\u001b[0m\u001b[39m size 45\u001b[0m\u001b[1;36m0x450\u001b[0m\u001b[39m with \u001b[0m\u001b[1;36m2\u001b[0m\u001b[39m Axes\u001b[0m\u001b[1m>\u001b[0m"
      ]
     },
     "metadata": {},
     "output_type": "display_data"
    },
    {
     "data": {
      "text/html": [
       "<pre style=\"white-space:pre;overflow-x:auto;line-height:normal;font-family:Menlo,'DejaVu Sans Mono',consolas,'Courier New',monospace\"></pre>\n"
      ],
      "text/plain": []
     },
     "metadata": {},
     "output_type": "display_data"
    },
    {
     "data": {
      "image/png": "[encoded data removed]",
      "text/plain": [
       "\u001b[1m<\u001b[0m\u001b[1;95mFigure\u001b[0m\u001b[39m size 45\u001b[0m\u001b[1;36m0x450\u001b[0m\u001b[39m with \u001b[0m\u001b[1;36m2\u001b[0m\u001b[39m Axes\u001b[0m\u001b[1m>\u001b[0m"
      ]
     },
     "metadata": {},
     "output_type": "display_data"
    },
    {
     "data": {
      "text/html": [
       "<pre style=\"white-space:pre;overflow-x:auto;line-height:normal;font-family:Menlo,'DejaVu Sans Mono',consolas,'Courier New',monospace\"></pre>\n"
      ],
      "text/plain": []
     },
     "metadata": {},
     "output_type": "display_data"
    },
    {
     "data": {
      "image/png": "[encoded data removed]",
      "text/plain": [
       "\u001b[1m<\u001b[0m\u001b[1;95mFigure\u001b[0m\u001b[39m size 45\u001b[0m\u001b[1;36m0x450\u001b[0m\u001b[39m with \u001b[0m\u001b[1;36m2\u001b[0m\u001b[39m Axes\u001b[0m\u001b[1m>\u001b[0m"
      ]
     },
     "metadata": {},
     "output_type": "display_data"
    }
   ],
   "source": [
    "\n",
    "\n",
    "nplots = 3\n",
    "\n",
    "# print(f\"{distance_travelled_avg_im.shape=}\")\n",
    "# print(f\"{nrows=} {ncols=}\")\n",
    "\n",
    "cmap_name = 'gray_to_red'\n",
    "custom_cmap = LinearSegmentedColormap.from_list(cmap_name, [flavor.peach.hex, flavor.mantle.hex, flavor.lavender.hex], N=32)\n",
    "\n",
    "# x, y = np.meshgrid(xticks, yticks)\n",
    "# hist2d_args = dict(\n",
    "#     x=x.flatten(),\n",
    "#     y=y.flatten(),\n",
    "#     bins=[nrows, ncols],\n",
    "#     # cmap='viridis'\n",
    "#     # cmap=custom_cmap,\n",
    "# )\n",
    "\n",
    "figsize = (5, 5)\n",
    "ax_set_args = dict(\n",
    "    # xlabel='External',\n",
    "    # ylabel='Internal',\n",
    "    # yticks=yticks,\n",
    "    # xticks=xticks,\n",
    "    \n",
    "    # yticklabels=(yticks, fontproperties=prop_jbm, fontdict=dict(color=flavor.text.hex))\n",
    ")\n",
    "\n",
    "# names = ['Average Distance Travelled', 'Average LDJ', 'Average Makespan']\n",
    "names = ['average-distance-travelled', 'average-ldj', 'average-makespan', 'largest-time-differense']\n",
    "units = [\"Distance Travelled [$m$]\", \"Log Dimensionless Jerk [$m/s^3$]\", \"Makespan [$s$]\", 'Finished At Difference [$s$]']\n",
    "# ims = [distance_travelled_median_im, ldj_im, makespan_im, maximum_task_completion_time_difference_im]\n",
    "ims = [distance_travelled_avg_im, ldj_im, makespan_im, maximum_task_completion_time_difference_im]\n",
    "colors = [flavor.red.hex, flavor.green.hex, flavor.blue.hex]\n",
    "\n",
    "cmap_name = \"my_cmap\"\n",
    "color_good = flavor.sapphire.hex\n",
    "color_good = flavor.lavender.hex\n",
    "# color_good = flavor.teal.hex\n",
    "color_bad  = flavor.peach.hex\n",
    "color_middle = flavor.mantle.hex\n",
    "\n",
    "colors = [color_good, flavor.mantle.hex, color_bad]\n",
    "cmap = LinearSegmentedColormap.from_list(cmap_name, colors, N=32)\n",
    "cmaps = [\n",
    "    LinearSegmentedColormap.from_list(name, colors, N=24)\n",
    "    for name, colors in zip([\"foo\", \"bar\", \"baz\", \"karl\"], [\n",
    "        [color_good, color_middle, color_bad],\n",
    "        [color_bad, color_middle, color_good],\n",
    "        [color_good, color_middle, color_bad],\n",
    "        [color_good, color_middle, color_bad],\n",
    "        \n",
    "\n",
    "        # [flavor.peach.hex, flavor.mantle.hex, flavor.lavender.hex],\n",
    "        # [flavor.maroon.hex, flavor.mantle.hex, flavor.sapphire.hex],\n",
    "        # [flavor.flamingo.hex, flavor.mantle.hex, flavor.sky.hex]\n",
    "    ])\n",
    "]\n",
    "\n",
    "for name, unit, image, cmap in zip(names, units, ims, cmaps):\n",
    "    # fig, ax = plt.subplots(figsize=figsize)\n",
    "    fig, ax = plt.subplots(figsize=(4.5, 4.5))\n",
    "    # hist = ax.hist2d(weights=image.flatten(), **hist2d_args, cmap=cmap, norm=LogNorm())\n",
    "    if name == 'average-distance-travelled':\n",
    "        print(f\"{image[6, 0]=} {image[0,0]=} {image[-1, -1]=}\")\n",
    "\n",
    "# x, y = np.meshgrid(xticks, yticks)\n",
    "# hist2d_args = dict(\n",
    "#     x=x.flatten(),\n",
    "#     y=y.flatten(),\n",
    "#     bins=[nrows, ncols],\n",
    "#     # cmap='viridis'\n",
    "#     # cmap=custom_cmap,\n",
    "# )\n",
    "    cell_width = 4\n",
    "    r = np.arange(cell_width, 9 * cell_width, cell_width)\n",
    "    x, y = np.meshgrid(r, r)\n",
    "    # print(f\"{xticks=}, {yticsks=}\")\n",
    "    hist = ax.hist2d(x=x.flatten(), y=y.flatten(), bins=[nrows, ncols], weights=image.flatten(), cmap=cmap, norm=\"linear\")\n",
    "    # ax.set_title(name, fontsize=12, fontproperties=prop_jbm, fontdict={'color': flavor.text.hex})\n",
    "    ax.set(**ax_set_args)\n",
    "    ax.set_xticks([])\n",
    "    ax.set_yticks([])\n",
    "    ax.set_xlabel(\"External\", fontsize=12, labelpad=30, fontproperties=prop, fontdict=dict(color=flavor.text.hex))\n",
    "    ax.set_ylabel(\"Internal\", fontsize=12, labelpad=30, fontproperties=prop, fontdict=dict(color=flavor.text.hex))\n",
    "    ax.axis('square')\n",
    "    # ax.grid(True)\n",
    "\n",
    "    # Create a divider for existing axes instance\n",
    "    divider = make_axes_locatable(ax)\n",
    "    cax = divider.append_axes(\"right\", size=\"5%\", pad=0.05)\n",
    "\n",
    "    # Create colorbar\n",
    "    cbar = plt.colorbar(hist[3], cax=cax)\n",
    "    cbar.ax.tick_params(labelsize=10, color=flavor.text.hex)\n",
    "    cbar.set_label(unit, rotation=270, labelpad=20, fontsize=12, fontproperties=prop, fontdict=dict(color=flavor.text.hex))\n",
    "    tick_labels = cbar.ax.get_yticklabels()\n",
    "    plt.setp(tick_labels, fontsize=10, fontweight='bold', color=flavor.text.hex, fontproperties=prop_jbm)\n",
    "\n",
    "\n",
    "    # cbar = plt.colorbar(hist[3], ax=ax)\n",
    "    # # cbar = plt.colorbar(hist[3], ax=ax, fraction=0.046, pad=0.025)  # Adjust fraction and pad to move the colorbar closer\n",
    "    # cbar.ax.tick_params(labelsize=10, color=flavor.text.hex)  # Customize colorbar ticks\n",
    "    # cbar.set_label(unit, rotation=270, labelpad=20, fontsize=12, fontproperties=prop, fontdict=dict(color=flavor.text.hex))  # Add label\n",
    "    # # cbar.ax.tick_params(labelsize=12, labelcolor='red', direction='in', length=10, width=2)\n",
    "    # tick_labels = cbar.ax.get_yticklabels()\n",
    "    # plt.setp(tick_labels, fontsize=10, fontweight='bold', color=flavor.text.hex, fontproperties=prop_jbm)\n",
    "    # # ax.text(0, 0, 'Text at (5, 5)', color='red', fontsize=12, ha='center', va='center')\n",
    "\n",
    "\n",
    "    initial_width_offset = 5.5\n",
    "    width = 3.55\n",
    "    cursor = initial_width_offset\n",
    "    for xtick in xticks:\n",
    "        ax.text(cursor, 2, str(xtick), color=flavor.text.hex, fontproperties=prop_jbm, fontsize=12, ha='center', va='center')\n",
    "        cursor += width\n",
    "\n",
    "    initial_height_offset = 2.8\n",
    "    height = 3.55\n",
    "    cursor = initial_width_offset\n",
    "    for ytick in yticks:\n",
    "        ax.text(2.5, cursor, str(ytick), color=flavor.text.hex, fontproperties=prop_jbm, fontsize=12, ha='center', va='center')\n",
    "        cursor += width\n",
    "\n",
    "    # ax.hlines(y=7.5,xmin=0, xmax=50, linewidth=2, color='white')\n",
    "    # ax.hlines(y=11,xmin=0, xmax=50, linewidth=2, color='white')\n",
    "    # ax.hlines(y=14.5,xmin=0, xmax=50, linewidth=2, color='white')\n",
    "    for i in range(ncols):\n",
    "        ax.hlines(y=7.5 + i * 3.5,xmin=0, xmax=50, linewidth=1, color='white')\n",
    "        ax.vlines(x=7.5 + i * 3.5,ymin=0, ymax=50, linewidth=1, color='white')\n",
    "        # xs = []\n",
    "        # ys = []\n",
    "        # ax.hline(xs, ys)\n",
    "\n",
    "\n",
    "    # ax.text(2.8, -0.5, '1', color='red', fontsize=12, ha='center', va='center')\n",
    "    # ax.text(0, 1, '1', color=flavor.text.hex, fontsize=12, ha='center', va='center')\n",
    "\n",
    "    \n",
    "    fig.tight_layout()\n",
    "    output = Path(f\"iteration-amount-{name}.svg\")\n",
    "    fig.savefig(output)\n",
    "\n",
    "plt.show()"
   ]
  },
  {
   "cell_type": "code",
   "execution_count": 40,
   "metadata": {},
   "outputs": [
    {
     "data": {
      "text/html": [
       "<pre style=\"white-space:pre;overflow-x:auto;line-height:normal;font-family:Menlo,'DejaVu Sans Mono',consolas,'Courier New',monospace\"><span style=\"color: #808000; text-decoration-color: #808000\">x</span>=<span style=\"color: #800080; text-decoration-color: #800080; font-weight: bold\">array</span><span style=\"font-weight: bold\">([[</span> <span style=\"color: #008080; text-decoration-color: #008080; font-weight: bold\">5</span>, <span style=\"color: #008080; text-decoration-color: #008080; font-weight: bold\">10</span>, <span style=\"color: #008080; text-decoration-color: #008080; font-weight: bold\">15</span>, <span style=\"color: #008080; text-decoration-color: #008080; font-weight: bold\">20</span>, <span style=\"color: #008080; text-decoration-color: #008080; font-weight: bold\">25</span>, <span style=\"color: #008080; text-decoration-color: #008080; font-weight: bold\">30</span><span style=\"font-weight: bold\">]</span>,\n",
       "       <span style=\"font-weight: bold\">[</span> <span style=\"color: #008080; text-decoration-color: #008080; font-weight: bold\">5</span>, <span style=\"color: #008080; text-decoration-color: #008080; font-weight: bold\">10</span>, <span style=\"color: #008080; text-decoration-color: #008080; font-weight: bold\">15</span>, <span style=\"color: #008080; text-decoration-color: #008080; font-weight: bold\">20</span>, <span style=\"color: #008080; text-decoration-color: #008080; font-weight: bold\">25</span>, <span style=\"color: #008080; text-decoration-color: #008080; font-weight: bold\">30</span><span style=\"font-weight: bold\">]</span>,\n",
       "       <span style=\"font-weight: bold\">[</span> <span style=\"color: #008080; text-decoration-color: #008080; font-weight: bold\">5</span>, <span style=\"color: #008080; text-decoration-color: #008080; font-weight: bold\">10</span>, <span style=\"color: #008080; text-decoration-color: #008080; font-weight: bold\">15</span>, <span style=\"color: #008080; text-decoration-color: #008080; font-weight: bold\">20</span>, <span style=\"color: #008080; text-decoration-color: #008080; font-weight: bold\">25</span>, <span style=\"color: #008080; text-decoration-color: #008080; font-weight: bold\">30</span><span style=\"font-weight: bold\">]</span>,\n",
       "       <span style=\"font-weight: bold\">[</span> <span style=\"color: #008080; text-decoration-color: #008080; font-weight: bold\">5</span>, <span style=\"color: #008080; text-decoration-color: #008080; font-weight: bold\">10</span>, <span style=\"color: #008080; text-decoration-color: #008080; font-weight: bold\">15</span>, <span style=\"color: #008080; text-decoration-color: #008080; font-weight: bold\">20</span>, <span style=\"color: #008080; text-decoration-color: #008080; font-weight: bold\">25</span>, <span style=\"color: #008080; text-decoration-color: #008080; font-weight: bold\">30</span><span style=\"font-weight: bold\">]</span>,\n",
       "       <span style=\"font-weight: bold\">[</span> <span style=\"color: #008080; text-decoration-color: #008080; font-weight: bold\">5</span>, <span style=\"color: #008080; text-decoration-color: #008080; font-weight: bold\">10</span>, <span style=\"color: #008080; text-decoration-color: #008080; font-weight: bold\">15</span>, <span style=\"color: #008080; text-decoration-color: #008080; font-weight: bold\">20</span>, <span style=\"color: #008080; text-decoration-color: #008080; font-weight: bold\">25</span>, <span style=\"color: #008080; text-decoration-color: #008080; font-weight: bold\">30</span><span style=\"font-weight: bold\">]</span>,\n",
       "       <span style=\"font-weight: bold\">[</span> <span style=\"color: #008080; text-decoration-color: #008080; font-weight: bold\">5</span>, <span style=\"color: #008080; text-decoration-color: #008080; font-weight: bold\">10</span>, <span style=\"color: #008080; text-decoration-color: #008080; font-weight: bold\">15</span>, <span style=\"color: #008080; text-decoration-color: #008080; font-weight: bold\">20</span>, <span style=\"color: #008080; text-decoration-color: #008080; font-weight: bold\">25</span>, <span style=\"color: #008080; text-decoration-color: #008080; font-weight: bold\">30</span><span style=\"font-weight: bold\">]])</span>\n",
       "</pre>\n"
      ],
      "text/plain": [
       "\u001b[33mx\u001b[0m=\u001b[1;35marray\u001b[0m\u001b[1m(\u001b[0m\u001b[1m[\u001b[0m\u001b[1m[\u001b[0m \u001b[1;36m5\u001b[0m, \u001b[1;36m10\u001b[0m, \u001b[1;36m15\u001b[0m, \u001b[1;36m20\u001b[0m, \u001b[1;36m25\u001b[0m, \u001b[1;36m30\u001b[0m\u001b[1m]\u001b[0m,\n",
       "       \u001b[1m[\u001b[0m \u001b[1;36m5\u001b[0m, \u001b[1;36m10\u001b[0m, \u001b[1;36m15\u001b[0m, \u001b[1;36m20\u001b[0m, \u001b[1;36m25\u001b[0m, \u001b[1;36m30\u001b[0m\u001b[1m]\u001b[0m,\n",
       "       \u001b[1m[\u001b[0m \u001b[1;36m5\u001b[0m, \u001b[1;36m10\u001b[0m, \u001b[1;36m15\u001b[0m, \u001b[1;36m20\u001b[0m, \u001b[1;36m25\u001b[0m, \u001b[1;36m30\u001b[0m\u001b[1m]\u001b[0m,\n",
       "       \u001b[1m[\u001b[0m \u001b[1;36m5\u001b[0m, \u001b[1;36m10\u001b[0m, \u001b[1;36m15\u001b[0m, \u001b[1;36m20\u001b[0m, \u001b[1;36m25\u001b[0m, \u001b[1;36m30\u001b[0m\u001b[1m]\u001b[0m,\n",
       "       \u001b[1m[\u001b[0m \u001b[1;36m5\u001b[0m, \u001b[1;36m10\u001b[0m, \u001b[1;36m15\u001b[0m, \u001b[1;36m20\u001b[0m, \u001b[1;36m25\u001b[0m, \u001b[1;36m30\u001b[0m\u001b[1m]\u001b[0m,\n",
       "       \u001b[1m[\u001b[0m \u001b[1;36m5\u001b[0m, \u001b[1;36m10\u001b[0m, \u001b[1;36m15\u001b[0m, \u001b[1;36m20\u001b[0m, \u001b[1;36m25\u001b[0m, \u001b[1;36m30\u001b[0m\u001b[1m]\u001b[0m\u001b[1m]\u001b[0m\u001b[1m)\u001b[0m\n"
      ]
     },
     "metadata": {},
     "output_type": "display_data"
    },
    {
     "data": {
      "text/html": [
       "<pre style=\"white-space:pre;overflow-x:auto;line-height:normal;font-family:Menlo,'DejaVu Sans Mono',consolas,'Courier New',monospace\"></pre>\n"
      ],
      "text/plain": []
     },
     "metadata": {},
     "output_type": "display_data"
    },
    {
     "data": {
      "image/png": "[encoded data removed]",
      "text/plain": [
       "\u001b[1m<\u001b[0m\u001b[1;95mFigure\u001b[0m\u001b[39m size 80\u001b[0m\u001b[1;36m0x600\u001b[0m\u001b[39m with \u001b[0m\u001b[1;36m2\u001b[0m\u001b[39m Axes\u001b[0m\u001b[1m>\u001b[0m"
      ]
     },
     "metadata": {},
     "output_type": "display_data"
    }
   ],
   "source": [
    "data = np.array([\n",
    "    [155.5, 110.1, 505.2, 120.3, 125.4, 190.5],\n",
    "    [106.6, 111.2, 116.3, 121.4, 126.5, 131.6],\n",
    "    [107.7, 112.3, 117.4, 122.5, 127.6, 132.7],\n",
    "    [108.8, 113.4, 218.5, 123.6, 128.7, 133.8],\n",
    "    [2299.9, 114.5, 119.6, 124.7, 129.8, 204.9],\n",
    "    [111.0, 115.6, 120.7, 125.8, 130.9, 1000.0]\n",
    "])\n",
    "\n",
    "# Generate x and y coordinates for the data points\n",
    "x = np.arange(5, 35, 5)\n",
    "y = np.arange(5, 35, 5)\n",
    "x, y = np.meshgrid(x, y)\n",
    "\n",
    "\n",
    "fig, ax = plt.subplots(figsize=(8, 6))\n",
    "\n",
    "# Create the 2D histogram\n",
    "hist = ax.hist2d(x.flatten(), y.flatten(), bins=[6, 6], weights=data.flatten(), cmap='viridis')\n",
    "\n",
    "# Add color bar\n",
    "plt.colorbar(hist[3], ax=ax)\n",
    "\n",
    "# Set axis labels\n",
    "ax.set_xlabel('Parameter 1')\n",
    "ax.set_ylabel('Parameter 2')\n",
    "ax.set_title('2D Histogram of Measurements')\n",
    "\n",
    "# Customize grid lines color\n",
    "ax.grid(which='both', color='gray', linestyle='-', linewidth=2)\n",
    "\n",
    "plt.show()"
   ]
  },
  {
   "cell_type": "code",
   "execution_count": 41,
   "metadata": {},
   "outputs": [
    {
     "data": {
      "text/html": [
       "<pre style=\"white-space:pre;overflow-x:auto;line-height:normal;font-family:Menlo,'DejaVu Sans Mono',consolas,'Courier New',monospace\"></pre>\n"
      ],
      "text/plain": []
     },
     "metadata": {},
     "output_type": "display_data"
    },
    {
     "data": {
      "text/plain": [
       "\n",
       "\u001b[1;35marray\u001b[0m\u001b[1m(\u001b[0m\u001b[1m[\u001b[0m\u001b[1m[\u001b[0m \u001b[1;36m1\u001b[0m,  \u001b[1;36m2\u001b[0m,  \u001b[1;36m3\u001b[0m,  \u001b[1;36m5\u001b[0m,  \u001b[1;36m8\u001b[0m, \u001b[1;36m13\u001b[0m, \u001b[1;36m21\u001b[0m, \u001b[1;36m34\u001b[0m\u001b[1m]\u001b[0m,\n",
       "       \u001b[1m[\u001b[0m \u001b[1;36m1\u001b[0m,  \u001b[1;36m2\u001b[0m,  \u001b[1;36m3\u001b[0m,  \u001b[1;36m5\u001b[0m,  \u001b[1;36m8\u001b[0m, \u001b[1;36m13\u001b[0m, \u001b[1;36m21\u001b[0m, \u001b[1;36m34\u001b[0m\u001b[1m]\u001b[0m,\n",
       "       \u001b[1m[\u001b[0m \u001b[1;36m1\u001b[0m,  \u001b[1;36m2\u001b[0m,  \u001b[1;36m3\u001b[0m,  \u001b[1;36m5\u001b[0m,  \u001b[1;36m8\u001b[0m, \u001b[1;36m13\u001b[0m, \u001b[1;36m21\u001b[0m, \u001b[1;36m34\u001b[0m\u001b[1m]\u001b[0m,\n",
       "       \u001b[1m[\u001b[0m \u001b[1;36m1\u001b[0m,  \u001b[1;36m2\u001b[0m,  \u001b[1;36m3\u001b[0m,  \u001b[1;36m5\u001b[0m,  \u001b[1;36m8\u001b[0m, \u001b[1;36m13\u001b[0m, \u001b[1;36m21\u001b[0m, \u001b[1;36m34\u001b[0m\u001b[1m]\u001b[0m,\n",
       "       \u001b[1m[\u001b[0m \u001b[1;36m1\u001b[0m,  \u001b[1;36m2\u001b[0m,  \u001b[1;36m3\u001b[0m,  \u001b[1;36m5\u001b[0m,  \u001b[1;36m8\u001b[0m, \u001b[1;36m13\u001b[0m, \u001b[1;36m21\u001b[0m, \u001b[1;36m34\u001b[0m\u001b[1m]\u001b[0m,\n",
       "       \u001b[1m[\u001b[0m \u001b[1;36m1\u001b[0m,  \u001b[1;36m2\u001b[0m,  \u001b[1;36m3\u001b[0m,  \u001b[1;36m5\u001b[0m,  \u001b[1;36m8\u001b[0m, \u001b[1;36m13\u001b[0m, \u001b[1;36m21\u001b[0m, \u001b[1;36m34\u001b[0m\u001b[1m]\u001b[0m,\n",
       "       \u001b[1m[\u001b[0m \u001b[1;36m1\u001b[0m,  \u001b[1;36m2\u001b[0m,  \u001b[1;36m3\u001b[0m,  \u001b[1;36m5\u001b[0m,  \u001b[1;36m8\u001b[0m, \u001b[1;36m13\u001b[0m, \u001b[1;36m21\u001b[0m, \u001b[1;36m34\u001b[0m\u001b[1m]\u001b[0m,\n",
       "       \u001b[1m[\u001b[0m \u001b[1;36m1\u001b[0m,  \u001b[1;36m2\u001b[0m,  \u001b[1;36m3\u001b[0m,  \u001b[1;36m5\u001b[0m,  \u001b[1;36m8\u001b[0m, \u001b[1;36m13\u001b[0m, \u001b[1;36m21\u001b[0m, \u001b[1;36m34\u001b[0m\u001b[1m]\u001b[0m\u001b[1m]\u001b[0m\u001b[1m)\u001b[0m"
      ]
     },
     "execution_count": 41,
     "metadata": {},
     "output_type": "execute_result"
    }
   ],
   "source": [
    "x = [1, 2, 3, 5, 8, 13, 21, 34]\n",
    "y = [1, 2, 3, 5, 8, 13, 21, 34]\n",
    "# print(f\"{x=}\")\n",
    "x, y = np.meshgrid(x, y)\n",
    "\n",
    "x"
   ]
  },
  {
   "cell_type": "code",
   "execution_count": 47,
   "metadata": {},
   "outputs": [
    {
     "data": {
      "text/html": [
       "<pre style=\"white-space:pre;overflow-x:auto;line-height:normal;font-family:Menlo,'DejaVu Sans Mono',consolas,'Courier New',monospace\"><span style=\"color: #808000; text-decoration-color: #808000\">Q1</span>=<span style=\"color: #008080; text-decoration-color: #008080; font-weight: bold\">1.5</span>\n",
       "</pre>\n"
      ],
      "text/plain": [
       "\u001b[33mQ1\u001b[0m=\u001b[1;36m1\u001b[0m\u001b[1;36m.5\u001b[0m\n"
      ]
     },
     "metadata": {},
     "output_type": "display_data"
    },
    {
     "data": {
      "text/html": [
       "<pre style=\"white-space:pre;overflow-x:auto;line-height:normal;font-family:Menlo,'DejaVu Sans Mono',consolas,'Courier New',monospace\">Original data: <span style=\"font-weight: bold\">[</span>  <span style=\"color: #008080; text-decoration-color: #008080; font-weight: bold\">1</span>   <span style=\"color: #008080; text-decoration-color: #008080; font-weight: bold\">2</span>   <span style=\"color: #008080; text-decoration-color: #008080; font-weight: bold\">3</span>   <span style=\"color: #008080; text-decoration-color: #008080; font-weight: bold\">4</span>   <span style=\"color: #008080; text-decoration-color: #008080; font-weight: bold\">5</span>   <span style=\"color: #008080; text-decoration-color: #008080; font-weight: bold\">6</span>   <span style=\"color: #008080; text-decoration-color: #008080; font-weight: bold\">7</span>   <span style=\"color: #008080; text-decoration-color: #008080; font-weight: bold\">8</span>   <span style=\"color: #008080; text-decoration-color: #008080; font-weight: bold\">9</span>  <span style=\"color: #008080; text-decoration-color: #008080; font-weight: bold\">10</span> <span style=\"color: #008080; text-decoration-color: #008080; font-weight: bold\">100</span><span style=\"font-weight: bold\">]</span>\n",
       "</pre>\n"
      ],
      "text/plain": [
       "Original data: \u001b[1m[\u001b[0m  \u001b[1;36m1\u001b[0m   \u001b[1;36m2\u001b[0m   \u001b[1;36m3\u001b[0m   \u001b[1;36m4\u001b[0m   \u001b[1;36m5\u001b[0m   \u001b[1;36m6\u001b[0m   \u001b[1;36m7\u001b[0m   \u001b[1;36m8\u001b[0m   \u001b[1;36m9\u001b[0m  \u001b[1;36m10\u001b[0m \u001b[1;36m100\u001b[0m\u001b[1m]\u001b[0m\n"
      ]
     },
     "metadata": {},
     "output_type": "display_data"
    },
    {
     "data": {
      "text/html": [
       "<pre style=\"white-space:pre;overflow-x:auto;line-height:normal;font-family:Menlo,'DejaVu Sans Mono',consolas,'Courier New',monospace\">Filtered data: <span style=\"font-weight: bold\">[</span>  <span style=\"color: #008080; text-decoration-color: #008080; font-weight: bold\">1</span>   <span style=\"color: #008080; text-decoration-color: #008080; font-weight: bold\">2</span>   <span style=\"color: #008080; text-decoration-color: #008080; font-weight: bold\">3</span>   <span style=\"color: #008080; text-decoration-color: #008080; font-weight: bold\">4</span>   <span style=\"color: #008080; text-decoration-color: #008080; font-weight: bold\">5</span>   <span style=\"color: #008080; text-decoration-color: #008080; font-weight: bold\">6</span>   <span style=\"color: #008080; text-decoration-color: #008080; font-weight: bold\">7</span>   <span style=\"color: #008080; text-decoration-color: #008080; font-weight: bold\">8</span>   <span style=\"color: #008080; text-decoration-color: #008080; font-weight: bold\">9</span>  <span style=\"color: #008080; text-decoration-color: #008080; font-weight: bold\">10</span> <span style=\"color: #008080; text-decoration-color: #008080; font-weight: bold\">100</span><span style=\"font-weight: bold\">]</span>\n",
       "</pre>\n"
      ],
      "text/plain": [
       "Filtered data: \u001b[1m[\u001b[0m  \u001b[1;36m1\u001b[0m   \u001b[1;36m2\u001b[0m   \u001b[1;36m3\u001b[0m   \u001b[1;36m4\u001b[0m   \u001b[1;36m5\u001b[0m   \u001b[1;36m6\u001b[0m   \u001b[1;36m7\u001b[0m   \u001b[1;36m8\u001b[0m   \u001b[1;36m9\u001b[0m  \u001b[1;36m10\u001b[0m \u001b[1;36m100\u001b[0m\u001b[1m]\u001b[0m\n"
      ]
     },
     "metadata": {},
     "output_type": "display_data"
    }
   ],
   "source": [
    "# Sample data\n",
    "data = np.array([1, 2, 3, 4, 5, 6, 7, 8, 9, 10, 100])\n",
    "\n",
    "# Calculate the first quartile (Q1) and the third quartile (Q3)\n",
    "Q1 = np.percentile(data, 5)\n",
    "Q3 = np.percentile(data, 95)\n",
    "print(f\"{Q1=}\")\n",
    "\n",
    "# Calculate the Interquartile Range (IQR)\n",
    "IQR = Q3 - Q1\n",
    "\n",
    "# Determine the lower and upper bounds for outliers\n",
    "lower_bound = Q1 - 1.5 * IQR\n",
    "upper_bound = Q3 + 1.5 * IQR\n",
    "\n",
    "# Filter the data to remove top outliers\n",
    "filtered_data = data[data <= upper_bound]\n",
    "\n",
    "print(\"Original data:\", data)\n",
    "print(\"Filtered data:\", filtered_data)"
   ]
  },
  {
   "cell_type": "code",
   "execution_count": 58,
   "metadata": {},
   "outputs": [
    {
     "data": {
      "text/html": [
       "<pre style=\"white-space:pre;overflow-x:auto;line-height:normal;font-family:Menlo,'DejaVu Sans Mono',consolas,'Courier New',monospace\"></pre>\n"
      ],
      "text/plain": []
     },
     "metadata": {},
     "output_type": "display_data"
    },
    {
     "data": {
      "text/plain": [
       "\u001b[1;35marray\u001b[0m\u001b[1m(\u001b[0m\u001b[1m[\u001b[0m \u001b[1;36m2\u001b[0m,  \u001b[1;36m3\u001b[0m,  \u001b[1;36m4\u001b[0m,  \u001b[1;36m5\u001b[0m,  \u001b[1;36m6\u001b[0m,  \u001b[1;36m7\u001b[0m,  \u001b[1;36m8\u001b[0m,  \u001b[1;36m9\u001b[0m, \u001b[1;36m10\u001b[0m\u001b[1m]\u001b[0m\u001b[1m)\u001b[0m"
      ]
     },
     "execution_count": 58,
     "metadata": {},
     "output_type": "execute_result"
    }
   ],
   "source": [
    "\n",
    "data = np.array([1, 2, 3, 4, 5, 6, 7, 8, 9, 10, 100])\n",
    "\n",
    "data[1:-1]"
   ]
  },
  {
   "cell_type": "code",
   "execution_count": 52,
   "metadata": {},
   "outputs": [
    {
     "data": {
      "text/html": [
       "<pre style=\"white-space:pre;overflow-x:auto;line-height:normal;font-family:Menlo,'DejaVu Sans Mono',consolas,'Courier New',monospace\"></pre>\n"
      ],
      "text/plain": []
     },
     "metadata": {},
     "output_type": "display_data"
    },
    {
     "data": {
      "text/plain": [
       "\u001b[1;35marray\u001b[0m\u001b[1m(\u001b[0m\u001b[1m[\u001b[0m\u001b[1;36m0\u001b[0m, \u001b[1;36m1\u001b[0m, \u001b[1;36m2\u001b[0m, \u001b[1;36m3\u001b[0m\u001b[1m]\u001b[0m\u001b[1m)\u001b[0m"
      ]
     },
     "execution_count": 52,
     "metadata": {},
     "output_type": "execute_result"
    }
   ],
   "source": [
    "a = np.array([1, 3, 2, 0])\n",
    "np.sort(a)"
   ]
  }
 ],
 "metadata": {
  "kernelspec": {
   "display_name": "Python 3",
   "language": "python",
   "name": "python3"
  },
  "language_info": {
   "codemirror_mode": {
    "name": "ipython",
    "version": 3
   },
   "file_extension": ".py",
   "mimetype": "text/x-python",
   "name": "python",
   "nbconvert_exporter": "python",
   "pygments_lexer": "ipython3",
   "version": "3.11.9"
  }
 },
 "nbformat": 4,
 "nbformat_minor": 2
}
