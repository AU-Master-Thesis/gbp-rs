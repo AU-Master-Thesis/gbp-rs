{
 "cells": [
  {
   "cell_type": "code",
   "execution_count": 1,
   "metadata": {},
   "outputs": [
    {
     "data": {
      "text/html": [
       "<pre style=\"white-space:pre;overflow-x:auto;line-height:normal;font-family:Menlo,'DejaVu Sans Mono',consolas,'Courier New',monospace\"><span style=\"color: #800080; text-decoration-color: #800080\">/home/jens/repos/master/</span><span style=\"color: #ff00ff; text-decoration-color: #ff00ff\">gbp-rs</span>\n",
       "</pre>\n"
      ],
      "text/plain": [
       "\u001b[35m/home/jens/repos/master/\u001b[0m\u001b[95mgbp-rs\u001b[0m\n"
      ]
     },
     "metadata": {},
     "output_type": "display_data"
    },
    {
     "data": {
      "text/html": [
       "<pre style=\"white-space:pre;overflow-x:auto;line-height:normal;font-family:Menlo,'DejaVu Sans Mono',consolas,'Courier New',monospace\">sys.executable = <span style=\"color: #008000; text-decoration-color: #008000\">'/etc/profiles/per-user/jens/bin/python'</span>\n",
       "</pre>\n"
      ],
      "text/plain": [
       "sys.executable = \u001b[32m'/etc/profiles/per-user/jens/bin/python'\u001b[0m\n"
      ]
     },
     "metadata": {},
     "output_type": "display_data"
    },
    {
     "data": {
      "text/html": [
       "<pre style=\"white-space:pre;overflow-x:auto;line-height:normal;font-family:Menlo,'DejaVu Sans Mono',consolas,'Courier New',monospace\">sys.version = <span style=\"color: #008000; text-decoration-color: #008000\">'3.11.9 (main, Apr  2 2024, 08:25:04) [GCC 13.2.0]'</span>\n",
       "</pre>\n"
      ],
      "text/plain": [
       "sys.version = \u001b[32m'3.11.9 \u001b[0m\u001b[32m(\u001b[0m\u001b[32mmain, Apr  2 2024, 08:25:04\u001b[0m\u001b[32m)\u001b[0m\u001b[32m \u001b[0m\u001b[32m[\u001b[0m\u001b[32mGCC 13.2.0\u001b[0m\u001b[32m]\u001b[0m\u001b[32m'\u001b[0m\n"
      ]
     },
     "metadata": {},
     "output_type": "display_data"
    },
    {
     "data": {
      "text/html": [
       "<pre style=\"white-space:pre;overflow-x:auto;line-height:normal;font-family:Menlo,'DejaVu Sans Mono',consolas,'Courier New',monospace\">sys.executable = <span style=\"color: #008000; text-decoration-color: #008000\">'/etc/profiles/per-user/jens/bin/python'</span>\n",
       "</pre>\n"
      ],
      "text/plain": [
       "sys.executable = \u001b[32m'/etc/profiles/per-user/jens/bin/python'\u001b[0m\n"
      ]
     },
     "metadata": {},
     "output_type": "display_data"
    },
    {
     "data": {
      "text/html": [
       "<pre style=\"white-space:pre;overflow-x:auto;line-height:normal;font-family:Menlo,'DejaVu Sans Mono',consolas,'Courier New',monospace\">sys.version = <span style=\"color: #008000; text-decoration-color: #008000\">'3.11.9 (main, Apr  2 2024, 08:25:04) [GCC 13.2.0]'</span>\n",
       "</pre>\n"
      ],
      "text/plain": [
       "sys.version = \u001b[32m'3.11.9 \u001b[0m\u001b[32m(\u001b[0m\u001b[32mmain, Apr  2 2024, 08:25:04\u001b[0m\u001b[32m)\u001b[0m\u001b[32m \u001b[0m\u001b[32m[\u001b[0m\u001b[32mGCC 13.2.0\u001b[0m\u001b[32m]\u001b[0m\u001b[32m'\u001b[0m\n"
      ]
     },
     "metadata": {},
     "output_type": "display_data"
    }
   ],
   "source": [
    "import sys\n",
    "import os\n",
    "\n",
    "sys.path.append('scripts')\n",
    "\n",
    "import re\n",
    "import json\n",
    "import argparse\n",
    "import itertools\n",
    "from pathlib import Path\n",
    "import collections\n",
    "from concurrent.futures import ProcessPoolExecutor\n",
    "\n",
    "import numpy as np\n",
    "import matplotlib.pyplot as plt\n",
    "# from matplotlib.font_manager import FontProperties\n",
    "import matplotlib.font_manager as fm\n",
    "from matplotlib.patches import FancyBboxPatch\n",
    "from matplotlib.patches import PathPatch\n",
    "from matplotlib.path import get_path_collection_extents\n",
    "import seaborn as sns\n",
    "\n",
    "from rich import print, pretty\n",
    "import polars as pl\n",
    "from typing import  Iterable\n",
    "import pretty_errors\n",
    "from catppuccin import PALETTE\n",
    "\n",
    "print(os.getcwd())\n",
    "\n",
    "# import .scripts.ldj\n",
    "from ldj import ldj\n",
    "from utils import *\n",
    "\n",
    "pretty.install()\n",
    "\n",
    "RESULTS_DIRS = [\n",
    "    Path('./experiments/communications-failure-lm-3-tk-13.33-gbpplanner'),\n",
    "    Path('./experiments/communications-failure-lm-3-tk-13.33-ours'),\n",
    "    # Path('./experiments/communications-failure-lm-3-tk-5'),\n",
    "    # Path('./experiments/communications-failure-lm-3-tk-'),\n",
    "]\n",
    "\n",
    "for RESULTS_DIR in RESULTS_DIRS:\n",
    "    assert RESULTS_DIR.is_dir() and RESULTS_DIR.exists()\n",
    "\n",
    "# RESULTS_DIR = Path('./experiments/circle-experiment-lm-3-th-5')\n",
    "# assert RESULTS_DIR.is_dir() and RESULTS_DIR.exists()\n",
    "\n",
    "flavor = PALETTE.latte.colors\n",
    "# num-robots-10-seed-0.json\n",
    "RES = [\n",
    "    re.compile(r\"target-speed-(\\d+)-probability-(\\d+.\\d+)-seed-(\\d+).json\"),\n",
    "    re.compile(r\"v0-(\\d+)-failure-(\\d+.\\d+)-lm-3-tk-13.33-seed-(\\d+).json\"),\n",
    "    # re.compile(r\"v0-(\\d+)-failure-(\\d+.\\d+)-lm-3-tk-5-seed-(\\d+).json\"),\n",
    "]\n",
    "\n",
    "TAG = [\n",
    "    \"Theirs\",\n",
    "    \"Ours\",\n",
    "    # \"Ours\",\n",
    "]\n"
   ]
  },
  {
   "cell_type": "code",
   "execution_count": 2,
   "metadata": {},
   "outputs": [
    {
     "data": {
      "text/html": [
       "<pre style=\"white-space:pre;overflow-x:auto;line-height:normal;font-family:Menlo,'DejaVu Sans Mono',consolas,'Courier New',monospace\">STIX Two Text\n",
       "</pre>\n"
      ],
      "text/plain": [
       "STIX Two Text\n"
      ]
     },
     "metadata": {},
     "output_type": "display_data"
    }
   ],
   "source": [
    "# use LaTeX for text with matplotlib\n",
    "sns.set_style(\"darkgrid\")\n",
    "# set background color of sns darkgrid to flavor.base.hex\n",
    "plt.rcParams['axes.facecolor'] = flavor.base.hex\n",
    "# set font color to flavor.text.hex\n",
    "plt.rcParams['text.color'] = flavor.text.hex\n",
    "\n",
    "font_dirs = [\"./scripts/fonts/\"]\n",
    "# go through all fonts in the font directory and add them\n",
    "for font_dir in font_dirs:\n",
    "    for font in os.listdir(font_dir):\n",
    "        fm.fontManager.addfont(f\"{font_dir}/{font}\")\n",
    "\n",
    "prop_jbm = fm.FontProperties(fname='./scripts/fonts/JetBrainsMonoNerdFontMono-Regular.ttf')\n",
    "prop = fm.FontProperties(fname='./scripts/fonts/STIXTwoText-VariableFont_wght.ttf')\n",
    "\n",
    "plt.rcParams.update({\n",
    "    # \"text.usetex\": True,\n",
    "    \"font.family\": prop.get_name(),\n",
    "    # \"font.family\": \"stix\",\n",
    "    # \"font.sans-serif\": prop.get_name(),\n",
    "    \"mathtext.fontset\": \"stix\",\n",
    "    # \"text.latex.preamble\": r\"\\usepackage{fontenc}\\usepackage{fontspec}\\setmainfont{JetBrainsMonoNerdFontMono-Regular}\",\n",
    "})\n",
    "\n",
    "print(prop.get_name())\n",
    "\n",
    "colors = [(flavor.lavender.hex, 1.0), (flavor.yellow.hex, 0.3), (flavor.peach.hex, 0.3)]"
   ]
  },
  {
   "cell_type": "code",
   "execution_count": 3,
   "metadata": {},
   "outputs": [],
   "source": [
    "\n",
    "def flatten(lst: Iterable) -> list:\n",
    "    return list(itertools.chain.from_iterable(lst))\n",
    "\n",
    "def process_file_(file, re, tag):\n",
    "    # print(f\"Processing {file} with {re}\")\n",
    "    match = re.match(file.name)\n",
    "    assert match is not None\n",
    "    target_speed = float(match.group(1))\n",
    "    failure_rate = float(match.group(2))\n",
    "    seed = int(match.group(3))\n",
    "\n",
    "    with open(file, 'r') as file:\n",
    "        data = json.load(file)\n",
    "\n",
    "    time_to_completion_of_each_robot: list[float] = []\n",
    "\n",
    "    collisions = len(data['collisions']['robots']) if tag == \"Ours\" else 0\n",
    "\n",
    "    for _, robot_data in data['robots'].items():\n",
    "        mission = robot_data['mission']\n",
    "        \n",
    "        t_start: float = mission['started_at']\n",
    "        t_final: float = mission['finished_at'] if mission['finished_at'] else mission['duration'] + t_start\n",
    "        time_to_completion_of_each_robot.append(t_final - t_start)\n",
    "\n",
    "    # makespan: float = data['makespan']\n",
    "    makespan: float = max(time_to_completion_of_each_robot)\n",
    "    # print(f\"{makespan=}\")\n",
    "    return target_speed, failure_rate, makespan, collisions"
   ]
  },
  {
   "cell_type": "code",
   "execution_count": 4,
   "metadata": {},
   "outputs": [
    {
     "data": {
      "text/html": [
       "<pre style=\"white-space:pre;overflow-x:auto;line-height:normal;font-family:Menlo,'DejaVu Sans Mono',consolas,'Courier New',monospace\">Processing <span style=\"color: #808000; text-decoration-color: #808000\">RESULTS_DIR</span>=<span style=\"color: #800080; text-decoration-color: #800080; font-weight: bold\">PosixPath</span><span style=\"font-weight: bold\">(</span><span style=\"color: #008000; text-decoration-color: #008000\">'experiments/communications-failure-lm-3-tk-13.33-gbpplanner'</span><span style=\"font-weight: bold\">)</span>\n",
       "</pre>\n"
      ],
      "text/plain": [
       "Processing \u001b[33mRESULTS_DIR\u001b[0m=\u001b[1;35mPosixPath\u001b[0m\u001b[1m(\u001b[0m\u001b[32m'experiments/communications-failure-lm-3-tk-13.33-gbpplanner'\u001b[0m\u001b[1m)\u001b[0m\n"
      ]
     },
     "metadata": {},
     "output_type": "display_data"
    },
    {
     "data": {
      "text/html": [
       "<pre style=\"white-space:pre;overflow-x:auto;line-height:normal;font-family:Menlo,'DejaVu Sans Mono',consolas,'Courier New',monospace\">Processing <span style=\"color: #808000; text-decoration-color: #808000\">RESULTS_DIR</span>=<span style=\"color: #800080; text-decoration-color: #800080; font-weight: bold\">PosixPath</span><span style=\"font-weight: bold\">(</span><span style=\"color: #008000; text-decoration-color: #008000\">'experiments/communications-failure-lm-3-tk-13.33-ours'</span><span style=\"font-weight: bold\">)</span>\n",
       "</pre>\n"
      ],
      "text/plain": [
       "Processing \u001b[33mRESULTS_DIR\u001b[0m=\u001b[1;35mPosixPath\u001b[0m\u001b[1m(\u001b[0m\u001b[32m'experiments/communications-failure-lm-3-tk-13.33-ours'\u001b[0m\u001b[1m)\u001b[0m\n"
      ]
     },
     "metadata": {},
     "output_type": "display_data"
    }
   ],
   "source": [
    "df = pl.DataFrame(schema={\n",
    "    \"tag\": pl.String,\n",
    "    \"target_speed\": pl.Float64,\n",
    "    \"failure_rate\": pl.Float64,\n",
    "    \"makespan\": pl.Float64,\n",
    "    \"collisions\": pl.Int64,\n",
    "})\n",
    "\n",
    "for RESULTS_DIR, RE, T in zip(RESULTS_DIRS, RES, TAG):\n",
    "    # with ProcessPoolExecutor() as executor:\n",
    "    #     results = executor.map(process_file_, RESULTS_DIR.glob('*.json'))\n",
    "\n",
    "    print(f\"Processing {RESULTS_DIR=}\")\n",
    "\n",
    "    results = [process_file_(file, RE, T) for file in RESULTS_DIR.glob('*.json')]\n",
    "\n",
    "    # Aggregate results in a single-threaded manner to avoid data\n",
    "    # aggregated_data_distance_travelled: dict[int, list[float]] = collections.defaultdict(list)\n",
    "    aggregated_data_makespan: dict[int, list[float]] = collections.defaultdict(list)\n",
    "    # aggregated_data_ldj: dict[int, list[float]] = collections.defaultdict(list)\n",
    "\n",
    "    for speed, failure_rate, makespan, collisions in results:\n",
    "        # print(f\"{comms_radius=} {makespan=}\")\n",
    "        # aggregated_data_distance_travelled[comms_radius].extend(distance_travelled_for_each_robot)\n",
    "        # aggregated_data_makespan[failure_rate].append(makespan)\n",
    "        # aggregated_data_ldj[comms_radius].extend(ldj_for_each_robot)\n",
    "\n",
    "        df2 = pl.DataFrame({\n",
    "            \"tag\": [T],\n",
    "            \"target_speed\": [speed],\n",
    "            \"failure_rate\": [failure_rate],\n",
    "            \"makespan\": [makespan],\n",
    "            \"collisions\": [collisions],\n",
    "        })\n",
    "\n",
    "        df = df.extend(df2)\n",
    "\n",
    "    # data_distance = [aggregated_data_distance_travelled[key] for key in sorted(aggregated_data_distance_travelled.keys())]\n",
    "    # labels_distance = sorted(aggregated_data_distance_travelled.keys())\n",
    "\n",
    "    # data_distance_dict = dict(zip(labels_distance, data_distance))\n",
    "\n",
    "    # data.append(\n",
    "    #     {\n",
    "    #         # 'distance': data_distance_dict,\n",
    "    #         # 'labels_distance': labels_distance,\n",
    "    #         'makespan': aggregated_data_makespan,\n",
    "    #         # 'ldj': aggregated_data_ldj\n",
    "    #     }\n",
    "    # )\n"
   ]
  },
  {
   "cell_type": "code",
   "execution_count": 5,
   "metadata": {},
   "outputs": [
    {
     "data": {
      "text/html": [
       "<pre style=\"white-space:pre;overflow-x:auto;line-height:normal;font-family:Menlo,'DejaVu Sans Mono',consolas,'Courier New',monospace\">shape: <span style=\"font-weight: bold\">(</span><span style=\"color: #008080; text-decoration-color: #008080; font-weight: bold\">8</span>, <span style=\"color: #008080; text-decoration-color: #008080; font-weight: bold\">5</span><span style=\"font-weight: bold\">)</span>\n",
       "┌────────┬──────────────┬──────────────┬────────────┬────────────┐\n",
       "│ tag    ┆ target_speed ┆ failure_rate ┆ makespan   ┆ collisions │\n",
       "│ ---    ┆ ---          ┆ ---          ┆ ---        ┆ ---        │\n",
       "│ str    ┆ f64          ┆ f64          ┆ f64        ┆ i64        │\n",
       "╞════════╪══════════════╪══════════════╪════════════╪════════════╡\n",
       "│ Theirs ┆ <span style=\"color: #008080; text-decoration-color: #008080; font-weight: bold\">10.0</span>         ┆ <span style=\"color: #008080; text-decoration-color: #008080; font-weight: bold\">0.0</span>          ┆ <span style=\"color: #008080; text-decoration-color: #008080; font-weight: bold\">86.300003</span>  ┆ <span style=\"color: #008080; text-decoration-color: #008080; font-weight: bold\">0</span>          │\n",
       "│ Theirs ┆ <span style=\"color: #008080; text-decoration-color: #008080; font-weight: bold\">10.0</span>         ┆ <span style=\"color: #008080; text-decoration-color: #008080; font-weight: bold\">0.1</span>          ┆ <span style=\"color: #008080; text-decoration-color: #008080; font-weight: bold\">146.300003</span> ┆ <span style=\"color: #008080; text-decoration-color: #008080; font-weight: bold\">0</span>          │\n",
       "│ Theirs ┆ <span style=\"color: #008080; text-decoration-color: #008080; font-weight: bold\">10.0</span>         ┆ <span style=\"color: #008080; text-decoration-color: #008080; font-weight: bold\">0.2</span>          ┆ <span style=\"color: #008080; text-decoration-color: #008080; font-weight: bold\">140.199997</span> ┆ <span style=\"color: #008080; text-decoration-color: #008080; font-weight: bold\">0</span>          │\n",
       "│ Theirs ┆ <span style=\"color: #008080; text-decoration-color: #008080; font-weight: bold\">10.0</span>         ┆ <span style=\"color: #008080; text-decoration-color: #008080; font-weight: bold\">0.3</span>          ┆ <span style=\"color: #008080; text-decoration-color: #008080; font-weight: bold\">163.699997</span> ┆ <span style=\"color: #008080; text-decoration-color: #008080; font-weight: bold\">0</span>          │\n",
       "│ Theirs ┆ <span style=\"color: #008080; text-decoration-color: #008080; font-weight: bold\">10.0</span>         ┆ <span style=\"color: #008080; text-decoration-color: #008080; font-weight: bold\">0.4</span>          ┆ <span style=\"color: #008080; text-decoration-color: #008080; font-weight: bold\">157.400009</span> ┆ <span style=\"color: #008080; text-decoration-color: #008080; font-weight: bold\">0</span>          │\n",
       "│ Theirs ┆ <span style=\"color: #008080; text-decoration-color: #008080; font-weight: bold\">10.0</span>         ┆ <span style=\"color: #008080; text-decoration-color: #008080; font-weight: bold\">0.5</span>          ┆ <span style=\"color: #008080; text-decoration-color: #008080; font-weight: bold\">231.400009</span> ┆ <span style=\"color: #008080; text-decoration-color: #008080; font-weight: bold\">0</span>          │\n",
       "│ Theirs ┆ <span style=\"color: #008080; text-decoration-color: #008080; font-weight: bold\">10.0</span>         ┆ <span style=\"color: #008080; text-decoration-color: #008080; font-weight: bold\">0.6</span>          ┆ <span style=\"color: #008080; text-decoration-color: #008080; font-weight: bold\">257.200012</span> ┆ <span style=\"color: #008080; text-decoration-color: #008080; font-weight: bold\">0</span>          │\n",
       "│ Theirs ┆ <span style=\"color: #008080; text-decoration-color: #008080; font-weight: bold\">10.0</span>         ┆ <span style=\"color: #008080; text-decoration-color: #008080; font-weight: bold\">0.7</span>          ┆ <span style=\"color: #008080; text-decoration-color: #008080; font-weight: bold\">260.899994</span> ┆ <span style=\"color: #008080; text-decoration-color: #008080; font-weight: bold\">0</span>          │\n",
       "└────────┴──────────────┴──────────────┴────────────┴────────────┘\n",
       "</pre>\n"
      ],
      "text/plain": [
       "shape: \u001b[1m(\u001b[0m\u001b[1;36m8\u001b[0m, \u001b[1;36m5\u001b[0m\u001b[1m)\u001b[0m\n",
       "┌────────┬──────────────┬──────────────┬────────────┬────────────┐\n",
       "│ tag    ┆ target_speed ┆ failure_rate ┆ makespan   ┆ collisions │\n",
       "│ ---    ┆ ---          ┆ ---          ┆ ---        ┆ ---        │\n",
       "│ str    ┆ f64          ┆ f64          ┆ f64        ┆ i64        │\n",
       "╞════════╪══════════════╪══════════════╪════════════╪════════════╡\n",
       "│ Theirs ┆ \u001b[1;36m10.0\u001b[0m         ┆ \u001b[1;36m0.0\u001b[0m          ┆ \u001b[1;36m86.300003\u001b[0m  ┆ \u001b[1;36m0\u001b[0m          │\n",
       "│ Theirs ┆ \u001b[1;36m10.0\u001b[0m         ┆ \u001b[1;36m0.1\u001b[0m          ┆ \u001b[1;36m146.300003\u001b[0m ┆ \u001b[1;36m0\u001b[0m          │\n",
       "│ Theirs ┆ \u001b[1;36m10.0\u001b[0m         ┆ \u001b[1;36m0.2\u001b[0m          ┆ \u001b[1;36m140.199997\u001b[0m ┆ \u001b[1;36m0\u001b[0m          │\n",
       "│ Theirs ┆ \u001b[1;36m10.0\u001b[0m         ┆ \u001b[1;36m0.3\u001b[0m          ┆ \u001b[1;36m163.699997\u001b[0m ┆ \u001b[1;36m0\u001b[0m          │\n",
       "│ Theirs ┆ \u001b[1;36m10.0\u001b[0m         ┆ \u001b[1;36m0.4\u001b[0m          ┆ \u001b[1;36m157.400009\u001b[0m ┆ \u001b[1;36m0\u001b[0m          │\n",
       "│ Theirs ┆ \u001b[1;36m10.0\u001b[0m         ┆ \u001b[1;36m0.5\u001b[0m          ┆ \u001b[1;36m231.400009\u001b[0m ┆ \u001b[1;36m0\u001b[0m          │\n",
       "│ Theirs ┆ \u001b[1;36m10.0\u001b[0m         ┆ \u001b[1;36m0.6\u001b[0m          ┆ \u001b[1;36m257.200012\u001b[0m ┆ \u001b[1;36m0\u001b[0m          │\n",
       "│ Theirs ┆ \u001b[1;36m10.0\u001b[0m         ┆ \u001b[1;36m0.7\u001b[0m          ┆ \u001b[1;36m260.899994\u001b[0m ┆ \u001b[1;36m0\u001b[0m          │\n",
       "└────────┴──────────────┴──────────────┴────────────┴────────────┘\n"
      ]
     },
     "metadata": {},
     "output_type": "display_data"
    },
    {
     "data": {
      "text/html": [
       "<pre style=\"white-space:pre;overflow-x:auto;line-height:normal;font-family:Menlo,'DejaVu Sans Mono',consolas,'Courier New',monospace\">shape: <span style=\"font-weight: bold\">(</span><span style=\"color: #008080; text-decoration-color: #008080; font-weight: bold\">8</span>, <span style=\"color: #008080; text-decoration-color: #008080; font-weight: bold\">5</span><span style=\"font-weight: bold\">)</span>\n",
       "┌────────┬──────────────┬──────────────┬─────────────┬────────────┐\n",
       "│ tag    ┆ target_speed ┆ failure_rate ┆ makespan    ┆ collisions │\n",
       "│ ---    ┆ ---          ┆ ---          ┆ ---         ┆ ---        │\n",
       "│ str    ┆ f64          ┆ f64          ┆ f64         ┆ i64        │\n",
       "╞════════╪══════════════╪══════════════╪═════════════╪════════════╡\n",
       "│ Theirs ┆ <span style=\"color: #008080; text-decoration-color: #008080; font-weight: bold\">15.0</span>         ┆ <span style=\"color: #008080; text-decoration-color: #008080; font-weight: bold\">0.0</span>          ┆ <span style=\"color: #008080; text-decoration-color: #008080; font-weight: bold\">238.600006</span>  ┆ <span style=\"color: #008080; text-decoration-color: #008080; font-weight: bold\">0</span>          │\n",
       "│ Theirs ┆ <span style=\"color: #008080; text-decoration-color: #008080; font-weight: bold\">15.0</span>         ┆ <span style=\"color: #008080; text-decoration-color: #008080; font-weight: bold\">0.1</span>          ┆ <span style=\"color: #008080; text-decoration-color: #008080; font-weight: bold\">203.199997</span>  ┆ <span style=\"color: #008080; text-decoration-color: #008080; font-weight: bold\">0</span>          │\n",
       "│ Theirs ┆ <span style=\"color: #008080; text-decoration-color: #008080; font-weight: bold\">15.0</span>         ┆ <span style=\"color: #008080; text-decoration-color: #008080; font-weight: bold\">0.2</span>          ┆ <span style=\"color: #008080; text-decoration-color: #008080; font-weight: bold\">329.800018</span>  ┆ <span style=\"color: #008080; text-decoration-color: #008080; font-weight: bold\">0</span>          │\n",
       "│ Theirs ┆ <span style=\"color: #008080; text-decoration-color: #008080; font-weight: bold\">15.0</span>         ┆ <span style=\"color: #008080; text-decoration-color: #008080; font-weight: bold\">0.3</span>          ┆ <span style=\"color: #008080; text-decoration-color: #008080; font-weight: bold\">231.100006</span>  ┆ <span style=\"color: #008080; text-decoration-color: #008080; font-weight: bold\">0</span>          │\n",
       "│ Theirs ┆ <span style=\"color: #008080; text-decoration-color: #008080; font-weight: bold\">15.0</span>         ┆ <span style=\"color: #008080; text-decoration-color: #008080; font-weight: bold\">0.4</span>          ┆ <span style=\"color: #008080; text-decoration-color: #008080; font-weight: bold\">220.800003</span>  ┆ <span style=\"color: #008080; text-decoration-color: #008080; font-weight: bold\">0</span>          │\n",
       "│ Theirs ┆ <span style=\"color: #008080; text-decoration-color: #008080; font-weight: bold\">15.0</span>         ┆ <span style=\"color: #008080; text-decoration-color: #008080; font-weight: bold\">0.5</span>          ┆ <span style=\"color: #008080; text-decoration-color: #008080; font-weight: bold\">221.5</span>       ┆ <span style=\"color: #008080; text-decoration-color: #008080; font-weight: bold\">0</span>          │\n",
       "│ Theirs ┆ <span style=\"color: #008080; text-decoration-color: #008080; font-weight: bold\">15.0</span>         ┆ <span style=\"color: #008080; text-decoration-color: #008080; font-weight: bold\">0.6</span>          ┆ <span style=\"color: #008080; text-decoration-color: #008080; font-weight: bold\">2.1409e-316</span> ┆ <span style=\"color: #008080; text-decoration-color: #008080; font-weight: bold\">0</span>          │\n",
       "│ Theirs ┆ <span style=\"color: #008080; text-decoration-color: #008080; font-weight: bold\">15.0</span>         ┆ <span style=\"color: #008080; text-decoration-color: #008080; font-weight: bold\">0.7</span>          ┆ <span style=\"color: #008080; text-decoration-color: #008080; font-weight: bold\">505.600006</span>  ┆ <span style=\"color: #008080; text-decoration-color: #008080; font-weight: bold\">0</span>          │\n",
       "└────────┴──────────────┴──────────────┴─────────────┴────────────┘\n",
       "</pre>\n"
      ],
      "text/plain": [
       "shape: \u001b[1m(\u001b[0m\u001b[1;36m8\u001b[0m, \u001b[1;36m5\u001b[0m\u001b[1m)\u001b[0m\n",
       "┌────────┬──────────────┬──────────────┬─────────────┬────────────┐\n",
       "│ tag    ┆ target_speed ┆ failure_rate ┆ makespan    ┆ collisions │\n",
       "│ ---    ┆ ---          ┆ ---          ┆ ---         ┆ ---        │\n",
       "│ str    ┆ f64          ┆ f64          ┆ f64         ┆ i64        │\n",
       "╞════════╪══════════════╪══════════════╪═════════════╪════════════╡\n",
       "│ Theirs ┆ \u001b[1;36m15.0\u001b[0m         ┆ \u001b[1;36m0.0\u001b[0m          ┆ \u001b[1;36m238.600006\u001b[0m  ┆ \u001b[1;36m0\u001b[0m          │\n",
       "│ Theirs ┆ \u001b[1;36m15.0\u001b[0m         ┆ \u001b[1;36m0.1\u001b[0m          ┆ \u001b[1;36m203.199997\u001b[0m  ┆ \u001b[1;36m0\u001b[0m          │\n",
       "│ Theirs ┆ \u001b[1;36m15.0\u001b[0m         ┆ \u001b[1;36m0.2\u001b[0m          ┆ \u001b[1;36m329.800018\u001b[0m  ┆ \u001b[1;36m0\u001b[0m          │\n",
       "│ Theirs ┆ \u001b[1;36m15.0\u001b[0m         ┆ \u001b[1;36m0.3\u001b[0m          ┆ \u001b[1;36m231.100006\u001b[0m  ┆ \u001b[1;36m0\u001b[0m          │\n",
       "│ Theirs ┆ \u001b[1;36m15.0\u001b[0m         ┆ \u001b[1;36m0.4\u001b[0m          ┆ \u001b[1;36m220.800003\u001b[0m  ┆ \u001b[1;36m0\u001b[0m          │\n",
       "│ Theirs ┆ \u001b[1;36m15.0\u001b[0m         ┆ \u001b[1;36m0.5\u001b[0m          ┆ \u001b[1;36m221.5\u001b[0m       ┆ \u001b[1;36m0\u001b[0m          │\n",
       "│ Theirs ┆ \u001b[1;36m15.0\u001b[0m         ┆ \u001b[1;36m0.6\u001b[0m          ┆ \u001b[1;36m2.1409e-316\u001b[0m ┆ \u001b[1;36m0\u001b[0m          │\n",
       "│ Theirs ┆ \u001b[1;36m15.0\u001b[0m         ┆ \u001b[1;36m0.7\u001b[0m          ┆ \u001b[1;36m505.600006\u001b[0m  ┆ \u001b[1;36m0\u001b[0m          │\n",
       "└────────┴──────────────┴──────────────┴─────────────┴────────────┘\n"
      ]
     },
     "metadata": {},
     "output_type": "display_data"
    }
   ],
   "source": [
    "df_theirs = df.filter(df['tag'] == \"Theirs\")\n",
    "print(df_theirs.filter(df_theirs['target_speed'] == 10).sort(\"failure_rate\"))\n",
    "print(df_theirs.filter(df_theirs['target_speed'] == 15).sort(\"failure_rate\"))"
   ]
  },
  {
   "cell_type": "code",
   "execution_count": 6,
   "metadata": {},
   "outputs": [
    {
     "data": {
      "text/html": [
       "<pre style=\"white-space:pre;overflow-x:auto;line-height:normal;font-family:Menlo,'DejaVu Sans Mono',consolas,'Courier New',monospace\">shape: <span style=\"font-weight: bold\">(</span><span style=\"color: #008080; text-decoration-color: #008080; font-weight: bold\">8</span>, <span style=\"color: #008080; text-decoration-color: #008080; font-weight: bold\">2</span><span style=\"font-weight: bold\">)</span>\n",
       "┌──────────────┬──────────┐\n",
       "│ failure_rate ┆ makespan │\n",
       "│ ---          ┆ ---      │\n",
       "│ f64          ┆ f64      │\n",
       "╞══════════════╪══════════╡\n",
       "│ <span style=\"color: #008080; text-decoration-color: #008080; font-weight: bold\">0.0</span>          ┆ <span style=\"color: #008080; text-decoration-color: #008080; font-weight: bold\">139.06</span>   │\n",
       "│ <span style=\"color: #008080; text-decoration-color: #008080; font-weight: bold\">0.1</span>          ┆ <span style=\"color: #008080; text-decoration-color: #008080; font-weight: bold\">160.36</span>   │\n",
       "│ <span style=\"color: #008080; text-decoration-color: #008080; font-weight: bold\">0.2</span>          ┆ <span style=\"color: #008080; text-decoration-color: #008080; font-weight: bold\">179.12</span>   │\n",
       "│ <span style=\"color: #008080; text-decoration-color: #008080; font-weight: bold\">0.3</span>          ┆ <span style=\"color: #008080; text-decoration-color: #008080; font-weight: bold\">194.74</span>   │\n",
       "│ <span style=\"color: #008080; text-decoration-color: #008080; font-weight: bold\">0.4</span>          ┆ <span style=\"color: #008080; text-decoration-color: #008080; font-weight: bold\">211.86</span>   │\n",
       "│ <span style=\"color: #008080; text-decoration-color: #008080; font-weight: bold\">0.5</span>          ┆ <span style=\"color: #008080; text-decoration-color: #008080; font-weight: bold\">211.58</span>   │\n",
       "│ <span style=\"color: #008080; text-decoration-color: #008080; font-weight: bold\">0.6</span>          ┆ <span style=\"color: #008080; text-decoration-color: #008080; font-weight: bold\">222.12</span>   │\n",
       "│ <span style=\"color: #008080; text-decoration-color: #008080; font-weight: bold\">0.7</span>          ┆ <span style=\"color: #008080; text-decoration-color: #008080; font-weight: bold\">276.76</span>   │\n",
       "└──────────────┴──────────┘\n",
       "</pre>\n"
      ],
      "text/plain": [
       "shape: \u001b[1m(\u001b[0m\u001b[1;36m8\u001b[0m, \u001b[1;36m2\u001b[0m\u001b[1m)\u001b[0m\n",
       "┌──────────────┬──────────┐\n",
       "│ failure_rate ┆ makespan │\n",
       "│ ---          ┆ ---      │\n",
       "│ f64          ┆ f64      │\n",
       "╞══════════════╪══════════╡\n",
       "│ \u001b[1;36m0.0\u001b[0m          ┆ \u001b[1;36m139.06\u001b[0m   │\n",
       "│ \u001b[1;36m0.1\u001b[0m          ┆ \u001b[1;36m160.36\u001b[0m   │\n",
       "│ \u001b[1;36m0.2\u001b[0m          ┆ \u001b[1;36m179.12\u001b[0m   │\n",
       "│ \u001b[1;36m0.3\u001b[0m          ┆ \u001b[1;36m194.74\u001b[0m   │\n",
       "│ \u001b[1;36m0.4\u001b[0m          ┆ \u001b[1;36m211.86\u001b[0m   │\n",
       "│ \u001b[1;36m0.5\u001b[0m          ┆ \u001b[1;36m211.58\u001b[0m   │\n",
       "│ \u001b[1;36m0.6\u001b[0m          ┆ \u001b[1;36m222.12\u001b[0m   │\n",
       "│ \u001b[1;36m0.7\u001b[0m          ┆ \u001b[1;36m276.76\u001b[0m   │\n",
       "└──────────────┴──────────┘\n"
      ]
     },
     "metadata": {},
     "output_type": "display_data"
    },
    {
     "data": {
      "text/html": [
       "<pre style=\"white-space:pre;overflow-x:auto;line-height:normal;font-family:Menlo,'DejaVu Sans Mono',consolas,'Courier New',monospace\">shape: <span style=\"font-weight: bold\">(</span><span style=\"color: #008080; text-decoration-color: #008080; font-weight: bold\">8</span>, <span style=\"color: #008080; text-decoration-color: #008080; font-weight: bold\">2</span><span style=\"font-weight: bold\">)</span>\n",
       "┌──────────────┬────────────┐\n",
       "│ failure_rate ┆ collisions │\n",
       "│ ---          ┆ ---        │\n",
       "│ f64          ┆ f64        │\n",
       "╞══════════════╪════════════╡\n",
       "│ <span style=\"color: #008080; text-decoration-color: #008080; font-weight: bold\">0.0</span>          ┆ <span style=\"color: #008080; text-decoration-color: #008080; font-weight: bold\">6.0</span>        │\n",
       "│ <span style=\"color: #008080; text-decoration-color: #008080; font-weight: bold\">0.1</span>          ┆ <span style=\"color: #008080; text-decoration-color: #008080; font-weight: bold\">11.6</span>       │\n",
       "│ <span style=\"color: #008080; text-decoration-color: #008080; font-weight: bold\">0.2</span>          ┆ <span style=\"color: #008080; text-decoration-color: #008080; font-weight: bold\">27.6</span>       │\n",
       "│ <span style=\"color: #008080; text-decoration-color: #008080; font-weight: bold\">0.3</span>          ┆ <span style=\"color: #008080; text-decoration-color: #008080; font-weight: bold\">50.2</span>       │\n",
       "│ <span style=\"color: #008080; text-decoration-color: #008080; font-weight: bold\">0.4</span>          ┆ <span style=\"color: #008080; text-decoration-color: #008080; font-weight: bold\">84.6</span>       │\n",
       "│ <span style=\"color: #008080; text-decoration-color: #008080; font-weight: bold\">0.5</span>          ┆ <span style=\"color: #008080; text-decoration-color: #008080; font-weight: bold\">89.0</span>       │\n",
       "│ <span style=\"color: #008080; text-decoration-color: #008080; font-weight: bold\">0.6</span>          ┆ <span style=\"color: #008080; text-decoration-color: #008080; font-weight: bold\">111.4</span>      │\n",
       "│ <span style=\"color: #008080; text-decoration-color: #008080; font-weight: bold\">0.7</span>          ┆ <span style=\"color: #008080; text-decoration-color: #008080; font-weight: bold\">121.4</span>      │\n",
       "└──────────────┴────────────┘\n",
       "</pre>\n"
      ],
      "text/plain": [
       "shape: \u001b[1m(\u001b[0m\u001b[1;36m8\u001b[0m, \u001b[1;36m2\u001b[0m\u001b[1m)\u001b[0m\n",
       "┌──────────────┬────────────┐\n",
       "│ failure_rate ┆ collisions │\n",
       "│ ---          ┆ ---        │\n",
       "│ f64          ┆ f64        │\n",
       "╞══════════════╪════════════╡\n",
       "│ \u001b[1;36m0.0\u001b[0m          ┆ \u001b[1;36m6.0\u001b[0m        │\n",
       "│ \u001b[1;36m0.1\u001b[0m          ┆ \u001b[1;36m11.6\u001b[0m       │\n",
       "│ \u001b[1;36m0.2\u001b[0m          ┆ \u001b[1;36m27.6\u001b[0m       │\n",
       "│ \u001b[1;36m0.3\u001b[0m          ┆ \u001b[1;36m50.2\u001b[0m       │\n",
       "│ \u001b[1;36m0.4\u001b[0m          ┆ \u001b[1;36m84.6\u001b[0m       │\n",
       "│ \u001b[1;36m0.5\u001b[0m          ┆ \u001b[1;36m89.0\u001b[0m       │\n",
       "│ \u001b[1;36m0.6\u001b[0m          ┆ \u001b[1;36m111.4\u001b[0m      │\n",
       "│ \u001b[1;36m0.7\u001b[0m          ┆ \u001b[1;36m121.4\u001b[0m      │\n",
       "└──────────────┴────────────┘\n"
      ]
     },
     "metadata": {},
     "output_type": "display_data"
    },
    {
     "data": {
      "text/html": [
       "<pre style=\"white-space:pre;overflow-x:auto;line-height:normal;font-family:Menlo,'DejaVu Sans Mono',consolas,'Courier New',monospace\">shape: <span style=\"font-weight: bold\">(</span><span style=\"color: #008080; text-decoration-color: #008080; font-weight: bold\">8</span>, <span style=\"color: #008080; text-decoration-color: #008080; font-weight: bold\">2</span><span style=\"font-weight: bold\">)</span>\n",
       "┌──────────────┬──────────┐\n",
       "│ failure_rate ┆ makespan │\n",
       "│ ---          ┆ ---      │\n",
       "│ f64          ┆ f64      │\n",
       "╞══════════════╪══════════╡\n",
       "│ <span style=\"color: #008080; text-decoration-color: #008080; font-weight: bold\">0.0</span>          ┆ <span style=\"color: #008080; text-decoration-color: #008080; font-weight: bold\">165.26</span>   │\n",
       "│ <span style=\"color: #008080; text-decoration-color: #008080; font-weight: bold\">0.1</span>          ┆ <span style=\"color: #008080; text-decoration-color: #008080; font-weight: bold\">190.64</span>   │\n",
       "│ <span style=\"color: #008080; text-decoration-color: #008080; font-weight: bold\">0.2</span>          ┆ <span style=\"color: #008080; text-decoration-color: #008080; font-weight: bold\">207.22</span>   │\n",
       "│ <span style=\"color: #008080; text-decoration-color: #008080; font-weight: bold\">0.3</span>          ┆ <span style=\"color: #008080; text-decoration-color: #008080; font-weight: bold\">189.68</span>   │\n",
       "│ <span style=\"color: #008080; text-decoration-color: #008080; font-weight: bold\">0.4</span>          ┆ <span style=\"color: #008080; text-decoration-color: #008080; font-weight: bold\">215.98</span>   │\n",
       "│ <span style=\"color: #008080; text-decoration-color: #008080; font-weight: bold\">0.5</span>          ┆ <span style=\"color: #008080; text-decoration-color: #008080; font-weight: bold\">235.92</span>   │\n",
       "│ <span style=\"color: #008080; text-decoration-color: #008080; font-weight: bold\">0.6</span>          ┆ <span style=\"color: #008080; text-decoration-color: #008080; font-weight: bold\">251.62</span>   │\n",
       "│ <span style=\"color: #008080; text-decoration-color: #008080; font-weight: bold\">0.7</span>          ┆ <span style=\"color: #008080; text-decoration-color: #008080; font-weight: bold\">363.22</span>   │\n",
       "└──────────────┴──────────┘\n",
       "</pre>\n"
      ],
      "text/plain": [
       "shape: \u001b[1m(\u001b[0m\u001b[1;36m8\u001b[0m, \u001b[1;36m2\u001b[0m\u001b[1m)\u001b[0m\n",
       "┌──────────────┬──────────┐\n",
       "│ failure_rate ┆ makespan │\n",
       "│ ---          ┆ ---      │\n",
       "│ f64          ┆ f64      │\n",
       "╞══════════════╪══════════╡\n",
       "│ \u001b[1;36m0.0\u001b[0m          ┆ \u001b[1;36m165.26\u001b[0m   │\n",
       "│ \u001b[1;36m0.1\u001b[0m          ┆ \u001b[1;36m190.64\u001b[0m   │\n",
       "│ \u001b[1;36m0.2\u001b[0m          ┆ \u001b[1;36m207.22\u001b[0m   │\n",
       "│ \u001b[1;36m0.3\u001b[0m          ┆ \u001b[1;36m189.68\u001b[0m   │\n",
       "│ \u001b[1;36m0.4\u001b[0m          ┆ \u001b[1;36m215.98\u001b[0m   │\n",
       "│ \u001b[1;36m0.5\u001b[0m          ┆ \u001b[1;36m235.92\u001b[0m   │\n",
       "│ \u001b[1;36m0.6\u001b[0m          ┆ \u001b[1;36m251.62\u001b[0m   │\n",
       "│ \u001b[1;36m0.7\u001b[0m          ┆ \u001b[1;36m363.22\u001b[0m   │\n",
       "└──────────────┴──────────┘\n"
      ]
     },
     "metadata": {},
     "output_type": "display_data"
    },
    {
     "data": {
      "text/html": [
       "<pre style=\"white-space:pre;overflow-x:auto;line-height:normal;font-family:Menlo,'DejaVu Sans Mono',consolas,'Courier New',monospace\">shape: <span style=\"font-weight: bold\">(</span><span style=\"color: #008080; text-decoration-color: #008080; font-weight: bold\">8</span>, <span style=\"color: #008080; text-decoration-color: #008080; font-weight: bold\">2</span><span style=\"font-weight: bold\">)</span>\n",
       "┌──────────────┬────────────┐\n",
       "│ failure_rate ┆ collisions │\n",
       "│ ---          ┆ ---        │\n",
       "│ f64          ┆ f64        │\n",
       "╞══════════════╪════════════╡\n",
       "│ <span style=\"color: #008080; text-decoration-color: #008080; font-weight: bold\">0.0</span>          ┆ <span style=\"color: #008080; text-decoration-color: #008080; font-weight: bold\">7.4</span>        │\n",
       "│ <span style=\"color: #008080; text-decoration-color: #008080; font-weight: bold\">0.1</span>          ┆ <span style=\"color: #008080; text-decoration-color: #008080; font-weight: bold\">12.0</span>       │\n",
       "│ <span style=\"color: #008080; text-decoration-color: #008080; font-weight: bold\">0.2</span>          ┆ <span style=\"color: #008080; text-decoration-color: #008080; font-weight: bold\">33.6</span>       │\n",
       "│ <span style=\"color: #008080; text-decoration-color: #008080; font-weight: bold\">0.3</span>          ┆ <span style=\"color: #008080; text-decoration-color: #008080; font-weight: bold\">47.8</span>       │\n",
       "│ <span style=\"color: #008080; text-decoration-color: #008080; font-weight: bold\">0.4</span>          ┆ <span style=\"color: #008080; text-decoration-color: #008080; font-weight: bold\">68.0</span>       │\n",
       "│ <span style=\"color: #008080; text-decoration-color: #008080; font-weight: bold\">0.5</span>          ┆ <span style=\"color: #008080; text-decoration-color: #008080; font-weight: bold\">107.2</span>      │\n",
       "│ <span style=\"color: #008080; text-decoration-color: #008080; font-weight: bold\">0.6</span>          ┆ <span style=\"color: #008080; text-decoration-color: #008080; font-weight: bold\">118.8</span>      │\n",
       "│ <span style=\"color: #008080; text-decoration-color: #008080; font-weight: bold\">0.7</span>          ┆ <span style=\"color: #008080; text-decoration-color: #008080; font-weight: bold\">136.8</span>      │\n",
       "└──────────────┴────────────┘\n",
       "</pre>\n"
      ],
      "text/plain": [
       "shape: \u001b[1m(\u001b[0m\u001b[1;36m8\u001b[0m, \u001b[1;36m2\u001b[0m\u001b[1m)\u001b[0m\n",
       "┌──────────────┬────────────┐\n",
       "│ failure_rate ┆ collisions │\n",
       "│ ---          ┆ ---        │\n",
       "│ f64          ┆ f64        │\n",
       "╞══════════════╪════════════╡\n",
       "│ \u001b[1;36m0.0\u001b[0m          ┆ \u001b[1;36m7.4\u001b[0m        │\n",
       "│ \u001b[1;36m0.1\u001b[0m          ┆ \u001b[1;36m12.0\u001b[0m       │\n",
       "│ \u001b[1;36m0.2\u001b[0m          ┆ \u001b[1;36m33.6\u001b[0m       │\n",
       "│ \u001b[1;36m0.3\u001b[0m          ┆ \u001b[1;36m47.8\u001b[0m       │\n",
       "│ \u001b[1;36m0.4\u001b[0m          ┆ \u001b[1;36m68.0\u001b[0m       │\n",
       "│ \u001b[1;36m0.5\u001b[0m          ┆ \u001b[1;36m107.2\u001b[0m      │\n",
       "│ \u001b[1;36m0.6\u001b[0m          ┆ \u001b[1;36m118.8\u001b[0m      │\n",
       "│ \u001b[1;36m0.7\u001b[0m          ┆ \u001b[1;36m136.8\u001b[0m      │\n",
       "└──────────────┴────────────┘\n"
      ]
     },
     "metadata": {},
     "output_type": "display_data"
    }
   ],
   "source": [
    "df_ours = df.filter(df['tag'] == \"Ours\")\n",
    "df_ours_10 = df_ours.filter(df_ours['target_speed'] == 10.0)\n",
    "df_ours_outlier_free = df_ours_10.filter(df_ours_10['makespan'] < 1000)\n",
    "print(df_ours_outlier_free.sort(\"failure_rate\").group_by(\"failure_rate\").agg(pl.mean(\"makespan\")))\n",
    "print(df_ours_outlier_free.sort(\"failure_rate\").group_by(\"failure_rate\").agg(pl.mean(\"collisions\")))\n",
    "\n",
    "df_ours_15 = df_ours.filter(df_ours['target_speed'] == 15.0)\n",
    "df_ours_outlier_free = df_ours_15.filter(df_ours_15['makespan'] < 1000)\n",
    "print(df_ours_outlier_free.sort(\"failure_rate\").group_by(\"failure_rate\").agg(pl.mean(\"makespan\")))\n",
    "print(df_ours_outlier_free.sort(\"failure_rate\").group_by(\"failure_rate\").agg(pl.mean(\"collisions\")))"
   ]
  },
  {
   "cell_type": "code",
   "execution_count": 7,
   "metadata": {},
   "outputs": [],
   "source": [
    "# for each comms radius, [20, 40, 60, 80], calculate mean makespan, distance travelled, and ldj\n",
    "\n",
    "# for i, d in enumerate(data):\n",
    "\n",
    "#     makespan_means = dict([(key, np.mean(d['makespan'][key])) for key in sorted(d['makespan'].keys())])\n",
    "#     # distance_means = dict([(key, np.mean(d['distance'][key])) for key in sorted(d['distance'].keys())])\n",
    "#     # ldj_means = dict([(key, np.mean(d['ldj'][key])) for key in sorted(d['ldj'].keys())])\n",
    "\n",
    "#     print(f\"{RESULTS_DIRS[i].name}\")\n",
    "#     print(f\"{makespan_means=}\")\n",
    "#     # print(f\"{distance_means=}\")\n",
    "#     # print(f\"{ldj_means=}\")\n",
    "    "
   ]
  },
  {
   "cell_type": "code",
   "execution_count": null,
   "metadata": {},
   "outputs": [],
   "source": []
  }
 ],
 "metadata": {
  "kernelspec": {
   "display_name": "Python 3",
   "language": "python",
   "name": "python3"
  },
  "language_info": {
   "codemirror_mode": {
    "name": "ipython",
    "version": 3
   },
   "file_extension": ".py",
   "mimetype": "text/x-python",
   "name": "python",
   "nbconvert_exporter": "python",
   "pygments_lexer": "ipython3",
   "version": "3.11.9"
  }
 },
 "nbformat": 4,
 "nbformat_minor": 2
}
