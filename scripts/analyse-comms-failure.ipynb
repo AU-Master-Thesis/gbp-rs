{
 "cells": [
  {
   "cell_type": "code",
   "execution_count": 16,
   "metadata": {},
   "outputs": [
    {
     "data": {
      "text/html": [
       "<pre style=\"white-space:pre;overflow-x:auto;line-height:normal;font-family:Menlo,'DejaVu Sans Mono',consolas,'Courier New',monospace\"><span style=\"color: #800080; text-decoration-color: #800080\">/home/jens/repos/master/</span><span style=\"color: #ff00ff; text-decoration-color: #ff00ff\">gbp-rs</span>\n",
       "</pre>\n"
      ],
      "text/plain": [
       "\u001b[35m/home/jens/repos/master/\u001b[0m\u001b[95mgbp-rs\u001b[0m\n"
      ]
     },
     "metadata": {},
     "output_type": "display_data"
    }
   ],
   "source": [
    "import sys\n",
    "import os\n",
    "\n",
    "sys.path.append('scripts')\n",
    "\n",
    "import re\n",
    "import json\n",
    "import argparse\n",
    "import itertools\n",
    "from pathlib import Path\n",
    "import collections\n",
    "from concurrent.futures import ProcessPoolExecutor\n",
    "\n",
    "import numpy as np\n",
    "import matplotlib.pyplot as plt\n",
    "# from matplotlib.font_manager import FontProperties\n",
    "import matplotlib.font_manager as fm\n",
    "from matplotlib.patches import FancyBboxPatch\n",
    "from matplotlib.patches import PathPatch\n",
    "from matplotlib.path import get_path_collection_extents\n",
    "import seaborn as sns\n",
    "\n",
    "from rich import print, pretty\n",
    "import polars as pl\n",
    "from typing import  Iterable\n",
    "import pretty_errors\n",
    "from catppuccin import PALETTE\n",
    "\n",
    "print(os.getcwd())\n",
    "\n",
    "# import .scripts.ldj\n",
    "from ldj import ldj\n",
    "from utils import *\n",
    "\n",
    "pretty.install()\n",
    "\n",
    "RESULTS_DIRS = [\n",
    "    Path('./experiments/communications-failure-gbpplanner-final'),\n",
    "    Path('./experiments/communications-failure-lm-3-tk-5'),\n",
    "]\n",
    "\n",
    "for RESULTS_DIR in RESULTS_DIRS:\n",
    "    assert RESULTS_DIR.is_dir() and RESULTS_DIR.exists()\n",
    "\n",
    "# RESULTS_DIR = Path('./experiments/circle-experiment-lm-3-th-5')\n",
    "# assert RESULTS_DIR.is_dir() and RESULTS_DIR.exists()\n",
    "\n",
    "flavor = PALETTE.latte.colors\n",
    "# num-robots-10-seed-0.json\n",
    "RES = [\n",
    "    re.compile(r\"target-speed-(\\d+)-probability-(\\d+.\\d+)-seed-(\\d+).json\"),\n",
    "    re.compile(r\"v0-(\\d+)-failure-(\\d+.\\d+)-lm-3-tk-5-seed-(\\d+).json\"),\n",
    "]\n",
    "\n",
    "TAG = [\n",
    "    \"Theirs\",\n",
    "    \"Ours\",\n",
    "]\n"
   ]
  },
  {
   "cell_type": "code",
   "execution_count": 8,
   "metadata": {},
   "outputs": [
    {
     "data": {
      "text/html": [
       "<pre style=\"white-space:pre;overflow-x:auto;line-height:normal;font-family:Menlo,'DejaVu Sans Mono',consolas,'Courier New',monospace\">STIX Two Text\n",
       "</pre>\n"
      ],
      "text/plain": [
       "STIX Two Text\n"
      ]
     },
     "metadata": {},
     "output_type": "display_data"
    }
   ],
   "source": [
    "# use LaTeX for text with matplotlib\n",
    "sns.set_style(\"darkgrid\")\n",
    "# set background color of sns darkgrid to flavor.base.hex\n",
    "plt.rcParams['axes.facecolor'] = flavor.base.hex\n",
    "# set font color to flavor.text.hex\n",
    "plt.rcParams['text.color'] = flavor.text.hex\n",
    "\n",
    "font_dirs = [\"./scripts/fonts/\"]\n",
    "# go through all fonts in the font directory and add them\n",
    "for font_dir in font_dirs:\n",
    "    for font in os.listdir(font_dir):\n",
    "        fm.fontManager.addfont(f\"{font_dir}/{font}\")\n",
    "\n",
    "prop_jbm = fm.FontProperties(fname='./scripts/fonts/JetBrainsMonoNerdFontMono-Regular.ttf')\n",
    "prop = fm.FontProperties(fname='./scripts/fonts/STIXTwoText-VariableFont_wght.ttf')\n",
    "\n",
    "plt.rcParams.update({\n",
    "    # \"text.usetex\": True,\n",
    "    \"font.family\": prop.get_name(),\n",
    "    # \"font.family\": \"stix\",\n",
    "    # \"font.sans-serif\": prop.get_name(),\n",
    "    \"mathtext.fontset\": \"stix\",\n",
    "    # \"text.latex.preamble\": r\"\\usepackage{fontenc}\\usepackage{fontspec}\\setmainfont{JetBrainsMonoNerdFontMono-Regular}\",\n",
    "})\n",
    "\n",
    "print(prop.get_name())\n",
    "\n",
    "colors = [(flavor.lavender.hex, 1.0), (flavor.yellow.hex, 0.3), (flavor.peach.hex, 0.3)]"
   ]
  },
  {
   "cell_type": "code",
   "execution_count": 55,
   "metadata": {},
   "outputs": [],
   "source": [
    "\n",
    "def flatten(lst: Iterable) -> list:\n",
    "    return list(itertools.chain.from_iterable(lst))\n",
    "\n",
    "def process_file_(file, re, tag):\n",
    "    # print(f\"Processing {file} with {re}\")\n",
    "    match = re.match(file.name)\n",
    "    assert match is not None\n",
    "    target_speed = float(match.group(1))\n",
    "    failure_rate = float(match.group(2))\n",
    "    seed = int(match.group(3))\n",
    "\n",
    "    with open(file, 'r') as file:\n",
    "        data = json.load(file)\n",
    "\n",
    "    time_to_completion_of_each_robot: list[float] = []\n",
    "\n",
    "    collisions = len(data['collisions']['robots']) if tag == \"Ours\" else 0\n",
    "\n",
    "    for _, robot_data in data['robots'].items():\n",
    "        mission = robot_data['mission']\n",
    "        \n",
    "        t_start: float = mission['started_at']\n",
    "        t_final: float = mission['finished_at'] if mission['finished_at'] else mission['duration'] + t_start\n",
    "        time_to_completion_of_each_robot.append(t_final - t_start)\n",
    "\n",
    "    # makespan: float = data['makespan']\n",
    "    makespan: float = max(time_to_completion_of_each_robot)\n",
    "    # print(f\"{makespan=}\")\n",
    "    return target_speed, failure_rate, makespan, collisions"
   ]
  },
  {
   "cell_type": "code",
   "execution_count": 56,
   "metadata": {},
   "outputs": [
    {
     "data": {
      "text/html": [
       "<pre style=\"white-space:pre;overflow-x:auto;line-height:normal;font-family:Menlo,'DejaVu Sans Mono',consolas,'Courier New',monospace\">Processing <span style=\"color: #808000; text-decoration-color: #808000\">RESULTS_DIR</span>=<span style=\"color: #800080; text-decoration-color: #800080; font-weight: bold\">PosixPath</span><span style=\"font-weight: bold\">(</span><span style=\"color: #008000; text-decoration-color: #008000\">'experiments/communications-failure-gbpplanner-final'</span><span style=\"font-weight: bold\">)</span>\n",
       "</pre>\n"
      ],
      "text/plain": [
       "Processing \u001b[33mRESULTS_DIR\u001b[0m=\u001b[1;35mPosixPath\u001b[0m\u001b[1m(\u001b[0m\u001b[32m'experiments/communications-failure-gbpplanner-final'\u001b[0m\u001b[1m)\u001b[0m\n"
      ]
     },
     "metadata": {},
     "output_type": "display_data"
    },
    {
     "data": {
      "text/html": [
       "<pre style=\"white-space:pre;overflow-x:auto;line-height:normal;font-family:Menlo,'DejaVu Sans Mono',consolas,'Courier New',monospace\">Processing <span style=\"color: #808000; text-decoration-color: #808000\">RESULTS_DIR</span>=<span style=\"color: #800080; text-decoration-color: #800080; font-weight: bold\">PosixPath</span><span style=\"font-weight: bold\">(</span><span style=\"color: #008000; text-decoration-color: #008000\">'experiments/communications-failure-lm-3-tk-5'</span><span style=\"font-weight: bold\">)</span>\n",
       "</pre>\n"
      ],
      "text/plain": [
       "Processing \u001b[33mRESULTS_DIR\u001b[0m=\u001b[1;35mPosixPath\u001b[0m\u001b[1m(\u001b[0m\u001b[32m'experiments/communications-failure-lm-3-tk-5'\u001b[0m\u001b[1m)\u001b[0m\n"
      ]
     },
     "metadata": {},
     "output_type": "display_data"
    }
   ],
   "source": [
    "df = pl.DataFrame(schema={\n",
    "    \"tag\": pl.String,\n",
    "    \"target_speed\": pl.Float64,\n",
    "    \"failure_rate\": pl.Float64,\n",
    "    \"makespan\": pl.Float64,\n",
    "    \"collisions\": pl.Int64,\n",
    "})\n",
    "\n",
    "for RESULTS_DIR, RE, T in zip(RESULTS_DIRS, RES, TAG):\n",
    "    # with ProcessPoolExecutor() as executor:\n",
    "    #     results = executor.map(process_file_, RESULTS_DIR.glob('*.json'))\n",
    "\n",
    "    print(f\"Processing {RESULTS_DIR=}\")\n",
    "\n",
    "    results = [process_file_(file, RE, T) for file in RESULTS_DIR.glob('*.json')]\n",
    "\n",
    "    # Aggregate results in a single-threaded manner to avoid data\n",
    "    # aggregated_data_distance_travelled: dict[int, list[float]] = collections.defaultdict(list)\n",
    "    aggregated_data_makespan: dict[int, list[float]] = collections.defaultdict(list)\n",
    "    # aggregated_data_ldj: dict[int, list[float]] = collections.defaultdict(list)\n",
    "\n",
    "    for speed, failure_rate, makespan, collisions in results:\n",
    "        # print(f\"{comms_radius=} {makespan=}\")\n",
    "        # aggregated_data_distance_travelled[comms_radius].extend(distance_travelled_for_each_robot)\n",
    "        # aggregated_data_makespan[failure_rate].append(makespan)\n",
    "        # aggregated_data_ldj[comms_radius].extend(ldj_for_each_robot)\n",
    "\n",
    "        df2 = pl.DataFrame({\n",
    "            \"tag\": [T],\n",
    "            \"target_speed\": [speed],\n",
    "            \"failure_rate\": [failure_rate],\n",
    "            \"makespan\": [makespan],\n",
    "            \"collisions\": [collisions],\n",
    "        })\n",
    "\n",
    "        df = df.extend(df2)\n",
    "\n",
    "    # data_distance = [aggregated_data_distance_travelled[key] for key in sorted(aggregated_data_distance_travelled.keys())]\n",
    "    # labels_distance = sorted(aggregated_data_distance_travelled.keys())\n",
    "\n",
    "    # data_distance_dict = dict(zip(labels_distance, data_distance))\n",
    "\n",
    "    # data.append(\n",
    "    #     {\n",
    "    #         # 'distance': data_distance_dict,\n",
    "    #         # 'labels_distance': labels_distance,\n",
    "    #         'makespan': aggregated_data_makespan,\n",
    "    #         # 'ldj': aggregated_data_ldj\n",
    "    #     }\n",
    "    # )\n"
   ]
  },
  {
   "cell_type": "code",
   "execution_count": 58,
   "metadata": {},
   "outputs": [
    {
     "data": {
      "text/html": [
       "<pre style=\"white-space:pre;overflow-x:auto;line-height:normal;font-family:Menlo,'DejaVu Sans Mono',consolas,'Courier New',monospace\">shape: <span style=\"font-weight: bold\">(</span><span style=\"color: #008080; text-decoration-color: #008080; font-weight: bold\">10</span>, <span style=\"color: #008080; text-decoration-color: #008080; font-weight: bold\">5</span><span style=\"font-weight: bold\">)</span>\n",
       "┌────────┬──────────────┬──────────────┬────────────┬────────────┐\n",
       "│ tag    ┆ target_speed ┆ failure_rate ┆ makespan   ┆ collisions │\n",
       "│ ---    ┆ ---          ┆ ---          ┆ ---        ┆ ---        │\n",
       "│ str    ┆ f64          ┆ f64          ┆ f64        ┆ i64        │\n",
       "╞════════╪══════════════╪══════════════╪════════════╪════════════╡\n",
       "│ Theirs ┆ <span style=\"color: #008080; text-decoration-color: #008080; font-weight: bold\">10.0</span>         ┆ <span style=\"color: #008080; text-decoration-color: #008080; font-weight: bold\">0.0</span>          ┆ <span style=\"color: #008080; text-decoration-color: #008080; font-weight: bold\">86.300003</span>  ┆ <span style=\"color: #008080; text-decoration-color: #008080; font-weight: bold\">0</span>          │\n",
       "│ Theirs ┆ <span style=\"color: #008080; text-decoration-color: #008080; font-weight: bold\">10.0</span>         ┆ <span style=\"color: #008080; text-decoration-color: #008080; font-weight: bold\">0.1</span>          ┆ <span style=\"color: #008080; text-decoration-color: #008080; font-weight: bold\">146.300003</span> ┆ <span style=\"color: #008080; text-decoration-color: #008080; font-weight: bold\">0</span>          │\n",
       "│ Theirs ┆ <span style=\"color: #008080; text-decoration-color: #008080; font-weight: bold\">10.0</span>         ┆ <span style=\"color: #008080; text-decoration-color: #008080; font-weight: bold\">0.2</span>          ┆ <span style=\"color: #008080; text-decoration-color: #008080; font-weight: bold\">140.199997</span> ┆ <span style=\"color: #008080; text-decoration-color: #008080; font-weight: bold\">0</span>          │\n",
       "│ Theirs ┆ <span style=\"color: #008080; text-decoration-color: #008080; font-weight: bold\">10.0</span>         ┆ <span style=\"color: #008080; text-decoration-color: #008080; font-weight: bold\">0.3</span>          ┆ <span style=\"color: #008080; text-decoration-color: #008080; font-weight: bold\">163.699997</span> ┆ <span style=\"color: #008080; text-decoration-color: #008080; font-weight: bold\">0</span>          │\n",
       "│ Theirs ┆ <span style=\"color: #008080; text-decoration-color: #008080; font-weight: bold\">10.0</span>         ┆ <span style=\"color: #008080; text-decoration-color: #008080; font-weight: bold\">0.4</span>          ┆ <span style=\"color: #008080; text-decoration-color: #008080; font-weight: bold\">157.400009</span> ┆ <span style=\"color: #008080; text-decoration-color: #008080; font-weight: bold\">0</span>          │\n",
       "│ Theirs ┆ <span style=\"color: #008080; text-decoration-color: #008080; font-weight: bold\">10.0</span>         ┆ <span style=\"color: #008080; text-decoration-color: #008080; font-weight: bold\">0.5</span>          ┆ <span style=\"color: #008080; text-decoration-color: #008080; font-weight: bold\">231.400009</span> ┆ <span style=\"color: #008080; text-decoration-color: #008080; font-weight: bold\">0</span>          │\n",
       "│ Theirs ┆ <span style=\"color: #008080; text-decoration-color: #008080; font-weight: bold\">10.0</span>         ┆ <span style=\"color: #008080; text-decoration-color: #008080; font-weight: bold\">0.6</span>          ┆ <span style=\"color: #008080; text-decoration-color: #008080; font-weight: bold\">257.200012</span> ┆ <span style=\"color: #008080; text-decoration-color: #008080; font-weight: bold\">0</span>          │\n",
       "│ Theirs ┆ <span style=\"color: #008080; text-decoration-color: #008080; font-weight: bold\">10.0</span>         ┆ <span style=\"color: #008080; text-decoration-color: #008080; font-weight: bold\">0.7</span>          ┆ <span style=\"color: #008080; text-decoration-color: #008080; font-weight: bold\">260.899994</span> ┆ <span style=\"color: #008080; text-decoration-color: #008080; font-weight: bold\">0</span>          │\n",
       "│ Theirs ┆ <span style=\"color: #008080; text-decoration-color: #008080; font-weight: bold\">10.0</span>         ┆ <span style=\"color: #008080; text-decoration-color: #008080; font-weight: bold\">0.8</span>          ┆ <span style=\"color: #008080; text-decoration-color: #008080; font-weight: bold\">362.100006</span> ┆ <span style=\"color: #008080; text-decoration-color: #008080; font-weight: bold\">0</span>          │\n",
       "│ Theirs ┆ <span style=\"color: #008080; text-decoration-color: #008080; font-weight: bold\">10.0</span>         ┆ <span style=\"color: #008080; text-decoration-color: #008080; font-weight: bold\">0.9</span>          ┆ <span style=\"color: #008080; text-decoration-color: #008080; font-weight: bold\">938.900024</span> ┆ <span style=\"color: #008080; text-decoration-color: #008080; font-weight: bold\">0</span>          │\n",
       "└────────┴──────────────┴──────────────┴────────────┴────────────┘\n",
       "</pre>\n"
      ],
      "text/plain": [
       "shape: \u001b[1m(\u001b[0m\u001b[1;36m10\u001b[0m, \u001b[1;36m5\u001b[0m\u001b[1m)\u001b[0m\n",
       "┌────────┬──────────────┬──────────────┬────────────┬────────────┐\n",
       "│ tag    ┆ target_speed ┆ failure_rate ┆ makespan   ┆ collisions │\n",
       "│ ---    ┆ ---          ┆ ---          ┆ ---        ┆ ---        │\n",
       "│ str    ┆ f64          ┆ f64          ┆ f64        ┆ i64        │\n",
       "╞════════╪══════════════╪══════════════╪════════════╪════════════╡\n",
       "│ Theirs ┆ \u001b[1;36m10.0\u001b[0m         ┆ \u001b[1;36m0.0\u001b[0m          ┆ \u001b[1;36m86.300003\u001b[0m  ┆ \u001b[1;36m0\u001b[0m          │\n",
       "│ Theirs ┆ \u001b[1;36m10.0\u001b[0m         ┆ \u001b[1;36m0.1\u001b[0m          ┆ \u001b[1;36m146.300003\u001b[0m ┆ \u001b[1;36m0\u001b[0m          │\n",
       "│ Theirs ┆ \u001b[1;36m10.0\u001b[0m         ┆ \u001b[1;36m0.2\u001b[0m          ┆ \u001b[1;36m140.199997\u001b[0m ┆ \u001b[1;36m0\u001b[0m          │\n",
       "│ Theirs ┆ \u001b[1;36m10.0\u001b[0m         ┆ \u001b[1;36m0.3\u001b[0m          ┆ \u001b[1;36m163.699997\u001b[0m ┆ \u001b[1;36m0\u001b[0m          │\n",
       "│ Theirs ┆ \u001b[1;36m10.0\u001b[0m         ┆ \u001b[1;36m0.4\u001b[0m          ┆ \u001b[1;36m157.400009\u001b[0m ┆ \u001b[1;36m0\u001b[0m          │\n",
       "│ Theirs ┆ \u001b[1;36m10.0\u001b[0m         ┆ \u001b[1;36m0.5\u001b[0m          ┆ \u001b[1;36m231.400009\u001b[0m ┆ \u001b[1;36m0\u001b[0m          │\n",
       "│ Theirs ┆ \u001b[1;36m10.0\u001b[0m         ┆ \u001b[1;36m0.6\u001b[0m          ┆ \u001b[1;36m257.200012\u001b[0m ┆ \u001b[1;36m0\u001b[0m          │\n",
       "│ Theirs ┆ \u001b[1;36m10.0\u001b[0m         ┆ \u001b[1;36m0.7\u001b[0m          ┆ \u001b[1;36m260.899994\u001b[0m ┆ \u001b[1;36m0\u001b[0m          │\n",
       "│ Theirs ┆ \u001b[1;36m10.0\u001b[0m         ┆ \u001b[1;36m0.8\u001b[0m          ┆ \u001b[1;36m362.100006\u001b[0m ┆ \u001b[1;36m0\u001b[0m          │\n",
       "│ Theirs ┆ \u001b[1;36m10.0\u001b[0m         ┆ \u001b[1;36m0.9\u001b[0m          ┆ \u001b[1;36m938.900024\u001b[0m ┆ \u001b[1;36m0\u001b[0m          │\n",
       "└────────┴──────────────┴──────────────┴────────────┴────────────┘\n"
      ]
     },
     "metadata": {},
     "output_type": "display_data"
    },
    {
     "data": {
      "text/html": [
       "<pre style=\"white-space:pre;overflow-x:auto;line-height:normal;font-family:Menlo,'DejaVu Sans Mono',consolas,'Courier New',monospace\">shape: <span style=\"font-weight: bold\">(</span><span style=\"color: #008080; text-decoration-color: #008080; font-weight: bold\">10</span>, <span style=\"color: #008080; text-decoration-color: #008080; font-weight: bold\">5</span><span style=\"font-weight: bold\">)</span>\n",
       "┌────────┬──────────────┬──────────────┬────────────┬────────────┐\n",
       "│ tag    ┆ target_speed ┆ failure_rate ┆ makespan   ┆ collisions │\n",
       "│ ---    ┆ ---          ┆ ---          ┆ ---        ┆ ---        │\n",
       "│ str    ┆ f64          ┆ f64          ┆ f64        ┆ i64        │\n",
       "╞════════╪══════════════╪══════════════╪════════════╪════════════╡\n",
       "│ Theirs ┆ <span style=\"color: #008080; text-decoration-color: #008080; font-weight: bold\">15.0</span>         ┆ <span style=\"color: #008080; text-decoration-color: #008080; font-weight: bold\">0.0</span>          ┆ <span style=\"color: #008080; text-decoration-color: #008080; font-weight: bold\">238.600006</span> ┆ <span style=\"color: #008080; text-decoration-color: #008080; font-weight: bold\">0</span>          │\n",
       "│ Theirs ┆ <span style=\"color: #008080; text-decoration-color: #008080; font-weight: bold\">15.0</span>         ┆ <span style=\"color: #008080; text-decoration-color: #008080; font-weight: bold\">0.1</span>          ┆ <span style=\"color: #008080; text-decoration-color: #008080; font-weight: bold\">203.199997</span> ┆ <span style=\"color: #008080; text-decoration-color: #008080; font-weight: bold\">0</span>          │\n",
       "│ Theirs ┆ <span style=\"color: #008080; text-decoration-color: #008080; font-weight: bold\">15.0</span>         ┆ <span style=\"color: #008080; text-decoration-color: #008080; font-weight: bold\">0.2</span>          ┆ <span style=\"color: #008080; text-decoration-color: #008080; font-weight: bold\">329.800018</span> ┆ <span style=\"color: #008080; text-decoration-color: #008080; font-weight: bold\">0</span>          │\n",
       "│ Theirs ┆ <span style=\"color: #008080; text-decoration-color: #008080; font-weight: bold\">15.0</span>         ┆ <span style=\"color: #008080; text-decoration-color: #008080; font-weight: bold\">0.3</span>          ┆ <span style=\"color: #008080; text-decoration-color: #008080; font-weight: bold\">231.100006</span> ┆ <span style=\"color: #008080; text-decoration-color: #008080; font-weight: bold\">0</span>          │\n",
       "│ Theirs ┆ <span style=\"color: #008080; text-decoration-color: #008080; font-weight: bold\">15.0</span>         ┆ <span style=\"color: #008080; text-decoration-color: #008080; font-weight: bold\">0.4</span>          ┆ <span style=\"color: #008080; text-decoration-color: #008080; font-weight: bold\">220.800003</span> ┆ <span style=\"color: #008080; text-decoration-color: #008080; font-weight: bold\">0</span>          │\n",
       "│ Theirs ┆ <span style=\"color: #008080; text-decoration-color: #008080; font-weight: bold\">15.0</span>         ┆ <span style=\"color: #008080; text-decoration-color: #008080; font-weight: bold\">0.5</span>          ┆ <span style=\"color: #008080; text-decoration-color: #008080; font-weight: bold\">221.5</span>      ┆ <span style=\"color: #008080; text-decoration-color: #008080; font-weight: bold\">0</span>          │\n",
       "│ Theirs ┆ <span style=\"color: #008080; text-decoration-color: #008080; font-weight: bold\">15.0</span>         ┆ <span style=\"color: #008080; text-decoration-color: #008080; font-weight: bold\">0.6</span>          ┆ <span style=\"color: #008080; text-decoration-color: #008080; font-weight: bold\">328.700012</span> ┆ <span style=\"color: #008080; text-decoration-color: #008080; font-weight: bold\">0</span>          │\n",
       "│ Theirs ┆ <span style=\"color: #008080; text-decoration-color: #008080; font-weight: bold\">15.0</span>         ┆ <span style=\"color: #008080; text-decoration-color: #008080; font-weight: bold\">0.7</span>          ┆ <span style=\"color: #008080; text-decoration-color: #008080; font-weight: bold\">505.600006</span> ┆ <span style=\"color: #008080; text-decoration-color: #008080; font-weight: bold\">0</span>          │\n",
       "│ Theirs ┆ <span style=\"color: #008080; text-decoration-color: #008080; font-weight: bold\">15.0</span>         ┆ <span style=\"color: #008080; text-decoration-color: #008080; font-weight: bold\">0.8</span>          ┆ <span style=\"color: #008080; text-decoration-color: #008080; font-weight: bold\">799.600037</span> ┆ <span style=\"color: #008080; text-decoration-color: #008080; font-weight: bold\">0</span>          │\n",
       "│ Theirs ┆ <span style=\"color: #008080; text-decoration-color: #008080; font-weight: bold\">15.0</span>         ┆ <span style=\"color: #008080; text-decoration-color: #008080; font-weight: bold\">0.9</span>          ┆ <span style=\"color: #008080; text-decoration-color: #008080; font-weight: bold\">864.600037</span> ┆ <span style=\"color: #008080; text-decoration-color: #008080; font-weight: bold\">0</span>          │\n",
       "└────────┴──────────────┴──────────────┴────────────┴────────────┘\n",
       "</pre>\n"
      ],
      "text/plain": [
       "shape: \u001b[1m(\u001b[0m\u001b[1;36m10\u001b[0m, \u001b[1;36m5\u001b[0m\u001b[1m)\u001b[0m\n",
       "┌────────┬──────────────┬──────────────┬────────────┬────────────┐\n",
       "│ tag    ┆ target_speed ┆ failure_rate ┆ makespan   ┆ collisions │\n",
       "│ ---    ┆ ---          ┆ ---          ┆ ---        ┆ ---        │\n",
       "│ str    ┆ f64          ┆ f64          ┆ f64        ┆ i64        │\n",
       "╞════════╪══════════════╪══════════════╪════════════╪════════════╡\n",
       "│ Theirs ┆ \u001b[1;36m15.0\u001b[0m         ┆ \u001b[1;36m0.0\u001b[0m          ┆ \u001b[1;36m238.600006\u001b[0m ┆ \u001b[1;36m0\u001b[0m          │\n",
       "│ Theirs ┆ \u001b[1;36m15.0\u001b[0m         ┆ \u001b[1;36m0.1\u001b[0m          ┆ \u001b[1;36m203.199997\u001b[0m ┆ \u001b[1;36m0\u001b[0m          │\n",
       "│ Theirs ┆ \u001b[1;36m15.0\u001b[0m         ┆ \u001b[1;36m0.2\u001b[0m          ┆ \u001b[1;36m329.800018\u001b[0m ┆ \u001b[1;36m0\u001b[0m          │\n",
       "│ Theirs ┆ \u001b[1;36m15.0\u001b[0m         ┆ \u001b[1;36m0.3\u001b[0m          ┆ \u001b[1;36m231.100006\u001b[0m ┆ \u001b[1;36m0\u001b[0m          │\n",
       "│ Theirs ┆ \u001b[1;36m15.0\u001b[0m         ┆ \u001b[1;36m0.4\u001b[0m          ┆ \u001b[1;36m220.800003\u001b[0m ┆ \u001b[1;36m0\u001b[0m          │\n",
       "│ Theirs ┆ \u001b[1;36m15.0\u001b[0m         ┆ \u001b[1;36m0.5\u001b[0m          ┆ \u001b[1;36m221.5\u001b[0m      ┆ \u001b[1;36m0\u001b[0m          │\n",
       "│ Theirs ┆ \u001b[1;36m15.0\u001b[0m         ┆ \u001b[1;36m0.6\u001b[0m          ┆ \u001b[1;36m328.700012\u001b[0m ┆ \u001b[1;36m0\u001b[0m          │\n",
       "│ Theirs ┆ \u001b[1;36m15.0\u001b[0m         ┆ \u001b[1;36m0.7\u001b[0m          ┆ \u001b[1;36m505.600006\u001b[0m ┆ \u001b[1;36m0\u001b[0m          │\n",
       "│ Theirs ┆ \u001b[1;36m15.0\u001b[0m         ┆ \u001b[1;36m0.8\u001b[0m          ┆ \u001b[1;36m799.600037\u001b[0m ┆ \u001b[1;36m0\u001b[0m          │\n",
       "│ Theirs ┆ \u001b[1;36m15.0\u001b[0m         ┆ \u001b[1;36m0.9\u001b[0m          ┆ \u001b[1;36m864.600037\u001b[0m ┆ \u001b[1;36m0\u001b[0m          │\n",
       "└────────┴──────────────┴──────────────┴────────────┴────────────┘\n"
      ]
     },
     "metadata": {},
     "output_type": "display_data"
    }
   ],
   "source": [
    "df_theirs = df.filter(df['tag'] == \"Theirs\")\n",
    "print(df_theirs.filter(df_theirs['target_speed'] == 10).sort(\"failure_rate\"))\n",
    "print(df_theirs.filter(df_theirs['target_speed'] == 15).sort(\"failure_rate\"))"
   ]
  },
  {
   "cell_type": "code",
   "execution_count": 61,
   "metadata": {},
   "outputs": [
    {
     "data": {
      "text/html": [
       "<pre style=\"white-space:pre;overflow-x:auto;line-height:normal;font-family:Menlo,'DejaVu Sans Mono',consolas,'Courier New',monospace\">shape: <span style=\"font-weight: bold\">(</span><span style=\"color: #008080; text-decoration-color: #008080; font-weight: bold\">8</span>, <span style=\"color: #008080; text-decoration-color: #008080; font-weight: bold\">2</span><span style=\"font-weight: bold\">)</span>\n",
       "┌──────────────┬──────────┐\n",
       "│ failure_rate ┆ makespan │\n",
       "│ ---          ┆ ---      │\n",
       "│ f64          ┆ f64      │\n",
       "╞══════════════╪══════════╡\n",
       "│ <span style=\"color: #008080; text-decoration-color: #008080; font-weight: bold\">0.0</span>          ┆ <span style=\"color: #008080; text-decoration-color: #008080; font-weight: bold\">21.125</span>   │\n",
       "│ <span style=\"color: #008080; text-decoration-color: #008080; font-weight: bold\">0.1</span>          ┆ <span style=\"color: #008080; text-decoration-color: #008080; font-weight: bold\">24.24</span>    │\n",
       "│ <span style=\"color: #008080; text-decoration-color: #008080; font-weight: bold\">0.2</span>          ┆ <span style=\"color: #008080; text-decoration-color: #008080; font-weight: bold\">27.1</span>     │\n",
       "│ <span style=\"color: #008080; text-decoration-color: #008080; font-weight: bold\">0.3</span>          ┆ <span style=\"color: #008080; text-decoration-color: #008080; font-weight: bold\">29.06</span>    │\n",
       "│ <span style=\"color: #008080; text-decoration-color: #008080; font-weight: bold\">0.4</span>          ┆ <span style=\"color: #008080; text-decoration-color: #008080; font-weight: bold\">33.16</span>    │\n",
       "│ <span style=\"color: #008080; text-decoration-color: #008080; font-weight: bold\">0.5</span>          ┆ <span style=\"color: #008080; text-decoration-color: #008080; font-weight: bold\">39.84</span>    │\n",
       "│ <span style=\"color: #008080; text-decoration-color: #008080; font-weight: bold\">0.6</span>          ┆ <span style=\"color: #008080; text-decoration-color: #008080; font-weight: bold\">48.4</span>     │\n",
       "│ <span style=\"color: #008080; text-decoration-color: #008080; font-weight: bold\">0.7</span>          ┆ <span style=\"color: #008080; text-decoration-color: #008080; font-weight: bold\">60.82</span>    │\n",
       "└──────────────┴──────────┘\n",
       "</pre>\n"
      ],
      "text/plain": [
       "shape: \u001b[1m(\u001b[0m\u001b[1;36m8\u001b[0m, \u001b[1;36m2\u001b[0m\u001b[1m)\u001b[0m\n",
       "┌──────────────┬──────────┐\n",
       "│ failure_rate ┆ makespan │\n",
       "│ ---          ┆ ---      │\n",
       "│ f64          ┆ f64      │\n",
       "╞══════════════╪══════════╡\n",
       "│ \u001b[1;36m0.0\u001b[0m          ┆ \u001b[1;36m21.125\u001b[0m   │\n",
       "│ \u001b[1;36m0.1\u001b[0m          ┆ \u001b[1;36m24.24\u001b[0m    │\n",
       "│ \u001b[1;36m0.2\u001b[0m          ┆ \u001b[1;36m27.1\u001b[0m     │\n",
       "│ \u001b[1;36m0.3\u001b[0m          ┆ \u001b[1;36m29.06\u001b[0m    │\n",
       "│ \u001b[1;36m0.4\u001b[0m          ┆ \u001b[1;36m33.16\u001b[0m    │\n",
       "│ \u001b[1;36m0.5\u001b[0m          ┆ \u001b[1;36m39.84\u001b[0m    │\n",
       "│ \u001b[1;36m0.6\u001b[0m          ┆ \u001b[1;36m48.4\u001b[0m     │\n",
       "│ \u001b[1;36m0.7\u001b[0m          ┆ \u001b[1;36m60.82\u001b[0m    │\n",
       "└──────────────┴──────────┘\n"
      ]
     },
     "metadata": {},
     "output_type": "display_data"
    },
    {
     "data": {
      "text/html": [
       "<pre style=\"white-space:pre;overflow-x:auto;line-height:normal;font-family:Menlo,'DejaVu Sans Mono',consolas,'Courier New',monospace\">shape: <span style=\"font-weight: bold\">(</span><span style=\"color: #008080; text-decoration-color: #008080; font-weight: bold\">8</span>, <span style=\"color: #008080; text-decoration-color: #008080; font-weight: bold\">2</span><span style=\"font-weight: bold\">)</span>\n",
       "┌──────────────┬────────────┐\n",
       "│ failure_rate ┆ collisions │\n",
       "│ ---          ┆ ---        │\n",
       "│ f64          ┆ f64        │\n",
       "╞══════════════╪════════════╡\n",
       "│ <span style=\"color: #008080; text-decoration-color: #008080; font-weight: bold\">0.0</span>          ┆ <span style=\"color: #008080; text-decoration-color: #008080; font-weight: bold\">0.5</span>        │\n",
       "│ <span style=\"color: #008080; text-decoration-color: #008080; font-weight: bold\">0.1</span>          ┆ <span style=\"color: #008080; text-decoration-color: #008080; font-weight: bold\">1.8</span>        │\n",
       "│ <span style=\"color: #008080; text-decoration-color: #008080; font-weight: bold\">0.2</span>          ┆ <span style=\"color: #008080; text-decoration-color: #008080; font-weight: bold\">6.8</span>        │\n",
       "│ <span style=\"color: #008080; text-decoration-color: #008080; font-weight: bold\">0.3</span>          ┆ <span style=\"color: #008080; text-decoration-color: #008080; font-weight: bold\">11.0</span>       │\n",
       "│ <span style=\"color: #008080; text-decoration-color: #008080; font-weight: bold\">0.4</span>          ┆ <span style=\"color: #008080; text-decoration-color: #008080; font-weight: bold\">18.4</span>       │\n",
       "│ <span style=\"color: #008080; text-decoration-color: #008080; font-weight: bold\">0.5</span>          ┆ <span style=\"color: #008080; text-decoration-color: #008080; font-weight: bold\">33.0</span>       │\n",
       "│ <span style=\"color: #008080; text-decoration-color: #008080; font-weight: bold\">0.6</span>          ┆ <span style=\"color: #008080; text-decoration-color: #008080; font-weight: bold\">39.6</span>       │\n",
       "│ <span style=\"color: #008080; text-decoration-color: #008080; font-weight: bold\">0.7</span>          ┆ <span style=\"color: #008080; text-decoration-color: #008080; font-weight: bold\">51.8</span>       │\n",
       "└──────────────┴────────────┘\n",
       "</pre>\n"
      ],
      "text/plain": [
       "shape: \u001b[1m(\u001b[0m\u001b[1;36m8\u001b[0m, \u001b[1;36m2\u001b[0m\u001b[1m)\u001b[0m\n",
       "┌──────────────┬────────────┐\n",
       "│ failure_rate ┆ collisions │\n",
       "│ ---          ┆ ---        │\n",
       "│ f64          ┆ f64        │\n",
       "╞══════════════╪════════════╡\n",
       "│ \u001b[1;36m0.0\u001b[0m          ┆ \u001b[1;36m0.5\u001b[0m        │\n",
       "│ \u001b[1;36m0.1\u001b[0m          ┆ \u001b[1;36m1.8\u001b[0m        │\n",
       "│ \u001b[1;36m0.2\u001b[0m          ┆ \u001b[1;36m6.8\u001b[0m        │\n",
       "│ \u001b[1;36m0.3\u001b[0m          ┆ \u001b[1;36m11.0\u001b[0m       │\n",
       "│ \u001b[1;36m0.4\u001b[0m          ┆ \u001b[1;36m18.4\u001b[0m       │\n",
       "│ \u001b[1;36m0.5\u001b[0m          ┆ \u001b[1;36m33.0\u001b[0m       │\n",
       "│ \u001b[1;36m0.6\u001b[0m          ┆ \u001b[1;36m39.6\u001b[0m       │\n",
       "│ \u001b[1;36m0.7\u001b[0m          ┆ \u001b[1;36m51.8\u001b[0m       │\n",
       "└──────────────┴────────────┘\n"
      ]
     },
     "metadata": {},
     "output_type": "display_data"
    },
    {
     "data": {
      "text/html": [
       "<pre style=\"white-space:pre;overflow-x:auto;line-height:normal;font-family:Menlo,'DejaVu Sans Mono',consolas,'Courier New',monospace\">shape: <span style=\"font-weight: bold\">(</span><span style=\"color: #008080; text-decoration-color: #008080; font-weight: bold\">8</span>, <span style=\"color: #008080; text-decoration-color: #008080; font-weight: bold\">2</span><span style=\"font-weight: bold\">)</span>\n",
       "┌──────────────┬──────────┐\n",
       "│ failure_rate ┆ makespan │\n",
       "│ ---          ┆ ---      │\n",
       "│ f64          ┆ f64      │\n",
       "╞══════════════╪══════════╡\n",
       "│ <span style=\"color: #008080; text-decoration-color: #008080; font-weight: bold\">0.0</span>          ┆ <span style=\"color: #008080; text-decoration-color: #008080; font-weight: bold\">20.3</span>     │\n",
       "│ <span style=\"color: #008080; text-decoration-color: #008080; font-weight: bold\">0.1</span>          ┆ <span style=\"color: #008080; text-decoration-color: #008080; font-weight: bold\">23.8</span>     │\n",
       "│ <span style=\"color: #008080; text-decoration-color: #008080; font-weight: bold\">0.2</span>          ┆ <span style=\"color: #008080; text-decoration-color: #008080; font-weight: bold\">26.9</span>     │\n",
       "│ <span style=\"color: #008080; text-decoration-color: #008080; font-weight: bold\">0.3</span>          ┆ <span style=\"color: #008080; text-decoration-color: #008080; font-weight: bold\">29.6</span>     │\n",
       "│ <span style=\"color: #008080; text-decoration-color: #008080; font-weight: bold\">0.4</span>          ┆ <span style=\"color: #008080; text-decoration-color: #008080; font-weight: bold\">33.5</span>     │\n",
       "│ <span style=\"color: #008080; text-decoration-color: #008080; font-weight: bold\">0.5</span>          ┆ <span style=\"color: #008080; text-decoration-color: #008080; font-weight: bold\">40.2</span>     │\n",
       "│ <span style=\"color: #008080; text-decoration-color: #008080; font-weight: bold\">0.6</span>          ┆ <span style=\"color: #008080; text-decoration-color: #008080; font-weight: bold\">48.78</span>    │\n",
       "│ <span style=\"color: #008080; text-decoration-color: #008080; font-weight: bold\">0.7</span>          ┆ <span style=\"color: #008080; text-decoration-color: #008080; font-weight: bold\">68.2</span>     │\n",
       "└──────────────┴──────────┘\n",
       "</pre>\n"
      ],
      "text/plain": [
       "shape: \u001b[1m(\u001b[0m\u001b[1;36m8\u001b[0m, \u001b[1;36m2\u001b[0m\u001b[1m)\u001b[0m\n",
       "┌──────────────┬──────────┐\n",
       "│ failure_rate ┆ makespan │\n",
       "│ ---          ┆ ---      │\n",
       "│ f64          ┆ f64      │\n",
       "╞══════════════╪══════════╡\n",
       "│ \u001b[1;36m0.0\u001b[0m          ┆ \u001b[1;36m20.3\u001b[0m     │\n",
       "│ \u001b[1;36m0.1\u001b[0m          ┆ \u001b[1;36m23.8\u001b[0m     │\n",
       "│ \u001b[1;36m0.2\u001b[0m          ┆ \u001b[1;36m26.9\u001b[0m     │\n",
       "│ \u001b[1;36m0.3\u001b[0m          ┆ \u001b[1;36m29.6\u001b[0m     │\n",
       "│ \u001b[1;36m0.4\u001b[0m          ┆ \u001b[1;36m33.5\u001b[0m     │\n",
       "│ \u001b[1;36m0.5\u001b[0m          ┆ \u001b[1;36m40.2\u001b[0m     │\n",
       "│ \u001b[1;36m0.6\u001b[0m          ┆ \u001b[1;36m48.78\u001b[0m    │\n",
       "│ \u001b[1;36m0.7\u001b[0m          ┆ \u001b[1;36m68.2\u001b[0m     │\n",
       "└──────────────┴──────────┘\n"
      ]
     },
     "metadata": {},
     "output_type": "display_data"
    },
    {
     "data": {
      "text/html": [
       "<pre style=\"white-space:pre;overflow-x:auto;line-height:normal;font-family:Menlo,'DejaVu Sans Mono',consolas,'Courier New',monospace\">shape: <span style=\"font-weight: bold\">(</span><span style=\"color: #008080; text-decoration-color: #008080; font-weight: bold\">8</span>, <span style=\"color: #008080; text-decoration-color: #008080; font-weight: bold\">2</span><span style=\"font-weight: bold\">)</span>\n",
       "┌──────────────┬────────────┐\n",
       "│ failure_rate ┆ collisions │\n",
       "│ ---          ┆ ---        │\n",
       "│ f64          ┆ f64        │\n",
       "╞══════════════╪════════════╡\n",
       "│ <span style=\"color: #008080; text-decoration-color: #008080; font-weight: bold\">0.0</span>          ┆ <span style=\"color: #008080; text-decoration-color: #008080; font-weight: bold\">1.2</span>        │\n",
       "│ <span style=\"color: #008080; text-decoration-color: #008080; font-weight: bold\">0.1</span>          ┆ <span style=\"color: #008080; text-decoration-color: #008080; font-weight: bold\">1.8</span>        │\n",
       "│ <span style=\"color: #008080; text-decoration-color: #008080; font-weight: bold\">0.2</span>          ┆ <span style=\"color: #008080; text-decoration-color: #008080; font-weight: bold\">6.2</span>        │\n",
       "│ <span style=\"color: #008080; text-decoration-color: #008080; font-weight: bold\">0.3</span>          ┆ <span style=\"color: #008080; text-decoration-color: #008080; font-weight: bold\">11.2</span>       │\n",
       "│ <span style=\"color: #008080; text-decoration-color: #008080; font-weight: bold\">0.4</span>          ┆ <span style=\"color: #008080; text-decoration-color: #008080; font-weight: bold\">18.2</span>       │\n",
       "│ <span style=\"color: #008080; text-decoration-color: #008080; font-weight: bold\">0.5</span>          ┆ <span style=\"color: #008080; text-decoration-color: #008080; font-weight: bold\">36.0</span>       │\n",
       "│ <span style=\"color: #008080; text-decoration-color: #008080; font-weight: bold\">0.6</span>          ┆ <span style=\"color: #008080; text-decoration-color: #008080; font-weight: bold\">41.6</span>       │\n",
       "│ <span style=\"color: #008080; text-decoration-color: #008080; font-weight: bold\">0.7</span>          ┆ <span style=\"color: #008080; text-decoration-color: #008080; font-weight: bold\">55.6</span>       │\n",
       "└──────────────┴────────────┘\n",
       "</pre>\n"
      ],
      "text/plain": [
       "shape: \u001b[1m(\u001b[0m\u001b[1;36m8\u001b[0m, \u001b[1;36m2\u001b[0m\u001b[1m)\u001b[0m\n",
       "┌──────────────┬────────────┐\n",
       "│ failure_rate ┆ collisions │\n",
       "│ ---          ┆ ---        │\n",
       "│ f64          ┆ f64        │\n",
       "╞══════════════╪════════════╡\n",
       "│ \u001b[1;36m0.0\u001b[0m          ┆ \u001b[1;36m1.2\u001b[0m        │\n",
       "│ \u001b[1;36m0.1\u001b[0m          ┆ \u001b[1;36m1.8\u001b[0m        │\n",
       "│ \u001b[1;36m0.2\u001b[0m          ┆ \u001b[1;36m6.2\u001b[0m        │\n",
       "│ \u001b[1;36m0.3\u001b[0m          ┆ \u001b[1;36m11.2\u001b[0m       │\n",
       "│ \u001b[1;36m0.4\u001b[0m          ┆ \u001b[1;36m18.2\u001b[0m       │\n",
       "│ \u001b[1;36m0.5\u001b[0m          ┆ \u001b[1;36m36.0\u001b[0m       │\n",
       "│ \u001b[1;36m0.6\u001b[0m          ┆ \u001b[1;36m41.6\u001b[0m       │\n",
       "│ \u001b[1;36m0.7\u001b[0m          ┆ \u001b[1;36m55.6\u001b[0m       │\n",
       "└──────────────┴────────────┘\n"
      ]
     },
     "metadata": {},
     "output_type": "display_data"
    }
   ],
   "source": [
    "df_ours = df.filter(df['tag'] == \"Ours\")\n",
    "df_ours_10 = df_ours.filter(df_ours['target_speed'] == 10.0)\n",
    "df_ours_outlier_free = df_ours_10.filter(df_ours_10['makespan'] < 1000)\n",
    "print(df_ours_outlier_free.sort(\"failure_rate\").group_by(\"failure_rate\").agg(pl.mean(\"makespan\")))\n",
    "print(df_ours_outlier_free.sort(\"failure_rate\").group_by(\"failure_rate\").agg(pl.mean(\"collisions\")))\n",
    "\n",
    "df_ours_15 = df_ours.filter(df_ours['target_speed'] == 15.0)\n",
    "df_ours_outlier_free = df_ours_15.filter(df_ours_15['makespan'] < 1000)\n",
    "print(df_ours_outlier_free.sort(\"failure_rate\").group_by(\"failure_rate\").agg(pl.mean(\"makespan\")))\n",
    "print(df_ours_outlier_free.sort(\"failure_rate\").group_by(\"failure_rate\").agg(pl.mean(\"collisions\")))"
   ]
  },
  {
   "cell_type": "code",
   "execution_count": null,
   "metadata": {},
   "outputs": [],
   "source": [
    "# for each comms radius, [20, 40, 60, 80], calculate mean makespan, distance travelled, and ldj\n",
    "\n",
    "# for i, d in enumerate(data):\n",
    "\n",
    "#     makespan_means = dict([(key, np.mean(d['makespan'][key])) for key in sorted(d['makespan'].keys())])\n",
    "#     # distance_means = dict([(key, np.mean(d['distance'][key])) for key in sorted(d['distance'].keys())])\n",
    "#     # ldj_means = dict([(key, np.mean(d['ldj'][key])) for key in sorted(d['ldj'].keys())])\n",
    "\n",
    "#     print(f\"{RESULTS_DIRS[i].name}\")\n",
    "#     print(f\"{makespan_means=}\")\n",
    "#     # print(f\"{distance_means=}\")\n",
    "#     # print(f\"{ldj_means=}\")\n",
    "    "
   ]
  },
  {
   "cell_type": "code",
   "execution_count": null,
   "metadata": {},
   "outputs": [],
   "source": []
  }
 ],
 "metadata": {
  "kernelspec": {
   "display_name": "Python 3",
   "language": "python",
   "name": "python3"
  },
  "language_info": {
   "codemirror_mode": {
    "name": "ipython",
    "version": 3
   },
   "file_extension": ".py",
   "mimetype": "text/x-python",
   "name": "python",
   "nbconvert_exporter": "python",
   "pygments_lexer": "ipython3",
   "version": "3.11.9"
  }
 },
 "nbformat": 4,
 "nbformat_minor": 2
}
