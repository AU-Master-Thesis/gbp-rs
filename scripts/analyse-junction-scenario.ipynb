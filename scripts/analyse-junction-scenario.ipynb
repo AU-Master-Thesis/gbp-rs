{
 "cells": [
  {
   "cell_type": "code",
   "execution_count": 1,
   "metadata": {},
   "outputs": [],
   "source": [
    "import sys\n",
    "import os\n",
    "\n",
    "sys.path.append('scripts')\n",
    "\n",
    "import json\n",
    "import sys\n",
    "import argparse\n",
    "import itertools\n",
    "from pathlib import Path\n",
    "import collections\n",
    "from concurrent.futures import ProcessPoolExecutor\n",
    "import matplotlib.font_manager as fm\n",
    "\n",
    "import numpy as np\n",
    "from matplotlib.patches import FancyBboxPatch\n",
    "from matplotlib.patches import PathPatch\n",
    "from matplotlib.path import get_path_collection_extents\n",
    "import matplotlib.pyplot as plt\n",
    "import seaborn as sns\n",
    "\n",
    "from rich import print, pretty\n",
    "from typing import  Iterable\n",
    "import pretty_errors\n",
    "from catppuccin import PALETTE\n",
    "\n",
    "pretty.install()\n",
    "\n",
    "RESULTS_DIR = Path('./experiments/junction')\n",
    "assert RESULTS_DIR.is_dir() and RESULTS_DIR.exists()\n",
    "\n",
    "flavor = PALETTE.latte.colors\n",
    "\n"
   ]
  },
  {
   "cell_type": "code",
   "execution_count": 2,
   "metadata": {},
   "outputs": [
    {
     "data": {
      "text/html": [
       "<pre style=\"white-space:pre;overflow-x:auto;line-height:normal;font-family:Menlo,'DejaVu Sans Mono',consolas,'Courier New',monospace\">STIX Two Text\n",
       "</pre>\n"
      ],
      "text/plain": [
       "STIX Two Text\n"
      ]
     },
     "metadata": {},
     "output_type": "display_data"
    }
   ],
   "source": [
    "# use LaTeX for text with matplotlib\n",
    "sns.set_style(\"darkgrid\")\n",
    "# set background color of sns darkgrid to flavor.base.hex\n",
    "plt.rcParams['axes.facecolor'] = flavor.base.hex\n",
    "# set font color to flavor.text.hex\n",
    "plt.rcParams['text.color'] = flavor.text.hex\n",
    "\n",
    "font_dirs = [\"./scripts/fonts/\"]\n",
    "# go through all fonts in the font directory and add them\n",
    "for font_dir in font_dirs:\n",
    "    for font in os.listdir(font_dir):\n",
    "        fm.fontManager.addfont(f\"{font_dir}/{font}\")\n",
    "\n",
    "prop_jbm = fm.FontProperties(fname='./scripts/fonts/JetBrainsMonoNerdFontMono-Regular.ttf')\n",
    "prop = fm.FontProperties(fname='./scripts/fonts/STIXTwoText-VariableFont_wght.ttf')\n",
    "\n",
    "plt.rcParams.update({\n",
    "    # \"text.usetex\": True,\n",
    "    \"font.family\": prop.get_name(),\n",
    "    # \"font.family\": \"stix\",\n",
    "    # \"font.sans-serif\": prop.get_name(),\n",
    "    \"mathtext.fontset\": \"stix\",\n",
    "    # \"text.latex.preamble\": r\"\\usepackage{fontenc}\\usepackage{fontspec}\\setmainfont{JetBrainsMonoNerdFontMono-Regular}\",\n",
    "})\n",
    "\n",
    "print(prop.get_name())\n",
    "\n",
    "colors = [(flavor.lavender.hex, 1.0), (flavor.yellow.hex, 0.3), (flavor.peach.hex, 0.3)]"
   ]
  },
  {
   "cell_type": "code",
   "execution_count": 3,
   "metadata": {},
   "outputs": [],
   "source": [
    "\n",
    "def flatten(lst: Iterable) -> list:\n",
    "    return list(itertools.chain.from_iterable(lst))\n",
    "\n",
    "def extract_data_from_file(file_path):\n",
    "    with open(file_path, 'r') as file:\n",
    "        data = json.load(file)\n",
    "    # Assuming the JSON structure and extracting necessary information\n",
    "    # Replace 'key' with actual key names in your JSON files\n",
    "\n",
    "    durations: list[float] = []\n",
    "    bins: list[int] = []\n",
    "\n",
    "\n",
    "    goal_areas: list = [v for _, v in data['goal_areas'].items()]\n",
    "    # print(f\"{goal_areas=}\")\n",
    "\n",
    "    makespan = data['makespan']\n",
    "    num_of_robots_reached_goal: int = sum((len(goal_area['history']) for goal_area in goal_areas))\n",
    "    num_robots: int = len(data['robots'])\n",
    "    # print(f\"{num_of_robots_reached_goal=}, {num_robots=} {makespan=}\")\n",
    "\n",
    "    robot_ids: set[str] = set(data['robots'].keys())\n",
    "    robots_not_reached_goal: set[str] = robot_ids - set(flatten((goal_area['history'].keys() for goal_area in goal_areas)))\n",
    "    # print(f\"{robots_not_reached_goal=}\")\n",
    "\n",
    "    # print the start time of the robots not reached goal\n",
    "    # for entity, robot_data in data['robots'].items():\n",
    "    #     if entity in robots_not_reached_goal:\n",
    "    #         print(f\"{entity=} {robot_data['mission']['started_at']=}\")\n",
    "\n",
    "\n",
    "    # start_at: float = 6.7\n",
    "    ignore_after: float = 50.0\n",
    "    num_robots_reached_goal: int = 0\n",
    "    num_robots_after_ten_secs: int = 0\n",
    "    for entity, robot_data in data['robots'].items():\n",
    "        started_at: float = robot_data['mission']['started_at']\n",
    "        if started_at >= ignore_after:\n",
    "        # if started_at <= start_at:\n",
    "            continue\n",
    "\n",
    "        reached_goal: bool = False\n",
    "        for goal_area in goal_areas:\n",
    "            # print(f\"{goal_area=}\")\n",
    "            for key, reached_at in goal_area['history'].items():\n",
    "                if entity == key:\n",
    "                    reached_goal = True\n",
    "                    break\n",
    "\n",
    "        if not reached_goal:\n",
    "            continue\n",
    "\n",
    "        num_robots_reached_goal += 1\n",
    "        num_robots_after_ten_secs += 1\n",
    "\n",
    "    # print(f\"{num_robots=} {num_robots_reached_goal=} {num_robots_after_ten_secs=}\")\n",
    "\n",
    "\n",
    "    # t: float = makespan -  start_at\n",
    "    t: float = ignore_after\n",
    "    return (1 / (t / num_robots_reached_goal))\n",
    "\n",
    "\n",
    "    num_robo\n",
    "\n",
    "def process_file(file):\n",
    "    qin_value = float(file.stem.split('-')[1])\n",
    "    extracted_value = extract_data_from_file(file)\n",
    "    return qin_value, extracted_value"
   ]
  },
  {
   "cell_type": "code",
   "execution_count": 41,
   "metadata": {},
   "outputs": [
    {
     "name": "stderr",
     "output_type": "stream",
     "text": [
      "/tmp/ipykernel_25412/1608157008.py:26: UserWarning: FigureCanvasAgg is non-interactive, and thus cannot be shown\n",
      "  fig.show()\n"
     ]
    },
    {
     "data": {
      "text/html": [
       "<pre style=\"white-space:pre;overflow-x:auto;line-height:normal;font-family:Menlo,'DejaVu Sans Mono',consolas,'Courier New',monospace\"></pre>\n"
      ],
      "text/plain": []
     },
     "metadata": {},
     "output_type": "display_data"
    },
    {
     "data": {
      "image/png": "[encoded data removed]",
      "text/plain": [
       "\u001b[1m<\u001b[0m\u001b[1;95mFigure\u001b[0m\u001b[39m size 64\u001b[0m\u001b[1;36m0x480\u001b[0m\u001b[39m with \u001b[0m\u001b[1;36m1\u001b[0m\u001b[39m Axes\u001b[0m\u001b[1m>\u001b[0m"
      ]
     },
     "metadata": {},
     "output_type": "display_data"
    },
    {
     "data": {
      "text/html": [
       "<pre style=\"white-space:pre;overflow-x:auto;line-height:normal;font-family:Menlo,'DejaVu Sans Mono',consolas,'Courier New',monospace\"></pre>\n"
      ],
      "text/plain": []
     },
     "metadata": {},
     "output_type": "display_data"
    },
    {
     "data": {
      "image/png": "[encoded data removed]",
      "text/plain": [
       "\u001b[1m<\u001b[0m\u001b[1;95mFigure\u001b[0m\u001b[39m size 64\u001b[0m\u001b[1;36m0x480\u001b[0m\u001b[39m with \u001b[0m\u001b[1;36m1\u001b[0m\u001b[39m Axes\u001b[0m\u001b[1m>\u001b[0m"
      ]
     },
     "metadata": {},
     "output_type": "display_data"
    }
   ],
   "source": [
    "# make a legend with a patch for each parameter setup\n",
    "labels = [\"$l_m$ = 3, $t_{K-1}$ = 5s\", \"$l_m$ = 1, $t_{K-1}$ = 13.33s\", \"$l_m$ = 3, $t_{K-1}$ = 13.33s\"]\n",
    "f = lambda m,c,a: plt.plot([],[],marker=\"o\", markersize=10, color=c, alpha=a, ls=\"none\")[0]\n",
    "# patches = [FancyBboxPatch((0, 0), 0.5, 2, boxstyle=\"round,pad=0.1,rounding_size=10\", fc=color, ec=color, alpha=a) for color, a in colors]\n",
    "patches = [f(\"s\", color, min(a+0.25, 0.9)) for color, a in colors]\n",
    "#plt.legend(patches, labels, loc='upper right', prop=prop, fontsize=12)\n",
    "# above makes a plot, I want just the legend\n",
    "fig, ax = plt.subplots()\n",
    "\n",
    "# ax.gca().set_axis_off()\n",
    "ax.set_axis_off()\n",
    "legend = ax.legend(patches, labels, loc='center', fontsize=12, borderpad=0.5, framealpha=0.8, frameon=False)\n",
    "\n",
    "for (text, (c, a)) in zip(legend.get_texts(), colors):\n",
    "    text.set_color(c)\n",
    "    text.set_alpha(min(a+0.25, 1))\n",
    "\n",
    "bbox = legend.get_window_extent()\n",
    "bbox = bbox.from_extents(*(bbox.extents + np.array([-9,4,-7,0])))\n",
    "bbox = bbox.transformed(fig.dpi_scale_trans.inverted())\n",
    "\n",
    "fig.tight_layout()\n",
    "\n",
    "fig.savefig('./scripts/out/legend.svg', bbox_inches=bbox)\n",
    "\n",
    "fig.show()"
   ]
  },
  {
   "cell_type": "code",
   "execution_count": 54,
   "metadata": {},
   "outputs": [
    {
     "name": "stderr",
     "output_type": "stream",
     "text": [
      "/tmp/ipykernel_25412/2234383292.py:71: UserWarning: FigureCanvasAgg is non-interactive, and thus cannot be shown\n",
      "  fig.show()\n"
     ]
    },
    {
     "data": {
      "text/html": [
       "<pre style=\"white-space:pre;overflow-x:auto;line-height:normal;font-family:Menlo,'DejaVu Sans Mono',consolas,'Courier New',monospace\"></pre>\n"
      ],
      "text/plain": []
     },
     "metadata": {},
     "output_type": "display_data"
    },
    {
     "data": {
      "image/png": "[encoded data removed]",
      "text/plain": [
       "\u001b[1m<\u001b[0m\u001b[1;95mFigure\u001b[0m\u001b[39m size 50\u001b[0m\u001b[1;36m0x300\u001b[0m\u001b[39m with \u001b[0m\u001b[1;36m1\u001b[0m\u001b[39m Axes\u001b[0m\u001b[1m>\u001b[0m"
      ]
     },
     "metadata": {
      "needs_background": "light"
     },
     "output_type": "display_data"
    }
   ],
   "source": [
    "aggregated_data = collections.defaultdict(list)\n",
    "\n",
    "with ProcessPoolExecutor() as executor:\n",
    "    results = executor.map(process_file, RESULTS_DIR.glob('qin-*.json'))\n",
    "\n",
    "# Aggregate results in a single-threaded manner to avoid data races\n",
    "for Qin, extracted_value in results:\n",
    "    aggregated_data[Qin].append(extracted_value)\n",
    "\n",
    "xs: list[float] = []\n",
    "ys: list[float] = []\n",
    "for Qin, values in sorted(aggregated_data.items(), key=lambda x: x[0]):\n",
    "    avg = sum(values) / len(values)\n",
    "    ys.append(avg)\n",
    "    xs.append(Qin)\n",
    "    # print(f\"{Qin=} {avg=}\")\n",
    "\n",
    "xs.insert(0, 0.)\n",
    "ys.insert(0, 0.)\n",
    "\n",
    "# plt.plot(xs, xs, color=flavor.red.hex)\n",
    "# plt.plot(range(0, 8), range(0, 8), linestyle='--', dashes=(10, 5), color=flavor.overlay2.hex, legend='Ideal')\n",
    "# plt.plot([0., 7.], [0., 7.], linestyle='--', dashes=(10, 5), color=flavor.overlay2.hex, label='Ideal')\n",
    "fig, ax = plt.subplots(figsize=(5, 3))\n",
    "\n",
    "x_max, y_max = (8., 8.)\n",
    "ax.plot([0., x_max], [0., y_max], dashes=(1, 1), color=flavor.overlay1.hex, label=\"$Q_{in} = Q_{out}$\")\n",
    "ax.plot(xs[:-1], ys[:-1], marker='o', color=flavor.lavender.hex, label='Average flowrate over $50s$')\n",
    "\n",
    "# plots the extra diverging point\n",
    "ax.plot(xs[-2:], ys[-2:], marker=None, linestyle='--', color=flavor.lavender.hex)\n",
    "# above puts a marker on both points, where I only want it on the last point\n",
    "ax.plot(xs[-1], ys[-1], marker='x', linestyle='--', color=flavor.lavender.hex)\n",
    "\n",
    "ax.set_xlabel(r'Input Flowrate $Q_{in}$ [robots/s]', fontsize=12, fontdict={'color': flavor.text.hex})\n",
    "ax.set_ylabel(r'Output Flowrate $Q_{out}$ [robots/s]', fontsize=12, fontdict={'color': flavor.text.hex})\n",
    "ax.tick_params(axis='both', which='major', labelsize=10)\n",
    "ax.set_ylim(-0.02, 7.04)\n",
    "ax.set_xlim(-0.02, 7.04)\n",
    "\n",
    "x_ticks = np.arange(0, x_max + 0.5, 1)\n",
    "ax.set_xticks(x_ticks)\n",
    "ax.set_xticklabels(x_ticks, fontproperties=prop_jbm, fontdict={'color': flavor.text.hex})\n",
    "\n",
    "y_ticks = np.arange(0, y_max + 0.5, 1)\n",
    "ax.set_yticks(y_ticks)\n",
    "ax.set_yticklabels(y_ticks, fontproperties=prop_jbm, fontdict={'color': flavor.text.hex})\n",
    "\n",
    "# plt.aspect(1 / 1.414) # A4 paper\n",
    "# plt.gca().set_aspect(1 / 1.414) # A4 paper\n",
    "\n",
    "legend = fig.legend(borderpad=0.5, framealpha=0.8, frameon=True, bbox_to_anchor=(0.94, 0.45))\n",
    "# set text color of legend\n",
    "# plt.setp(legend.get_texts(), color=flavor.text.hex)\n",
    "cs = [flavor.overlay2.hex, flavor.lavender.hex]\n",
    "for text, c in zip(legend.get_texts(), cs):\n",
    "    text.set_color(c)\n",
    "\n",
    "# remove white background of figure\n",
    "fig.patch.set_facecolor((0, 0, 0, 0))\n",
    "# make gridlines thicker\n",
    "ax.grid(True, which='major', linewidth=1.5, color=\"white\")\n",
    "\n",
    "# legend = plt.legend(loc='upper left', bbox_to_anchor=(1.05, 1), borderaxespad=0.)\n",
    "# legend.get_frame().set_facecolor('lightgrey')  # Change background color\n",
    "fig.tight_layout()\n",
    "legend.get_frame().set_facecolor(flavor.surface0.hex)  # Change background color\n",
    "# plt.legend()\n",
    "fig.savefig('./scripts/out/qin-vs-qout.svg')\n",
    "fig.show()\n"
   ]
  }
 ],
 "metadata": {
  "kernelspec": {
   "display_name": "Python 3",
   "language": "python",
   "name": "python3"
  },
  "language_info": {
   "codemirror_mode": {
    "name": "ipython",
    "version": 3
   },
   "file_extension": ".py",
   "mimetype": "text/x-python",
   "name": "python",
   "nbconvert_exporter": "python",
   "pygments_lexer": "ipython3",
   "version": "3.11.9"
  }
 },
 "nbformat": 4,
 "nbformat_minor": 2
}
