{
 "cells": [
  {
   "cell_type": "code",
   "execution_count": 9,
   "metadata": {},
   "outputs": [
    {
     "data": {
      "text/html": [
       "<pre style=\"white-space:pre;overflow-x:auto;line-height:normal;font-family:Menlo,'DejaVu Sans Mono',consolas,'Courier New',monospace\"><span style=\"color: #800080; text-decoration-color: #800080\">/home/jens/repos/master/</span><span style=\"color: #ff00ff; text-decoration-color: #ff00ff\">gbp-rs</span>\n",
       "</pre>\n"
      ],
      "text/plain": [
       "\u001b[35m/home/jens/repos/master/\u001b[0m\u001b[95mgbp-rs\u001b[0m\n"
      ]
     },
     "metadata": {},
     "output_type": "display_data"
    }
   ],
   "source": [
    "import sys\n",
    "import os\n",
    "\n",
    "sys.path.append('scripts')\n",
    "\n",
    "import re\n",
    "import json\n",
    "import argparse\n",
    "import itertools\n",
    "from pathlib import Path\n",
    "import collections\n",
    "from concurrent.futures import ProcessPoolExecutor\n",
    "\n",
    "import numpy as np\n",
    "import matplotlib.pyplot as plt\n",
    "# from matplotlib.font_manager import FontProperties\n",
    "import matplotlib.font_manager as fm\n",
    "from matplotlib.patches import FancyBboxPatch\n",
    "from matplotlib.patches import PathPatch\n",
    "from matplotlib.path import get_path_collection_extents\n",
    "import seaborn as sns\n",
    "\n",
    "from rich import print, pretty\n",
    "from typing import  Iterable\n",
    "import pretty_errors\n",
    "from catppuccin import PALETTE\n",
    "\n",
    "print(os.getcwd())\n",
    "\n",
    "# import .scripts.ldj\n",
    "from ldj import ldj\n",
    "from utils import *\n",
    "\n",
    "pretty.install()\n",
    "\n",
    "RESULTS_DIRS = [\n",
    "    Path('./experiments/varying-network-connectivity-lm-3-th-13-sd-2.5'),\n",
    "]\n",
    "\n",
    "for RESULTS_DIR in RESULTS_DIRS:\n",
    "    assert RESULTS_DIR.is_dir() and RESULTS_DIR.exists()\n",
    "\n",
    "# RESULTS_DIR = Path('./experiments/circle-experiment-lm-3-th-5')\n",
    "# assert RESULTS_DIR.is_dir() and RESULTS_DIR.exists()\n",
    "\n",
    "flavor = PALETTE.latte.colors\n",
    "# num-robots-10-seed-0.json\n",
    "RE = re.compile(r\"comms-radius-(\\d+)-seed-(\\d+).json\")\n"
   ]
  },
  {
   "cell_type": "code",
   "execution_count": 10,
   "metadata": {},
   "outputs": [
    {
     "data": {
      "text/html": [
       "<pre style=\"white-space:pre;overflow-x:auto;line-height:normal;font-family:Menlo,'DejaVu Sans Mono',consolas,'Courier New',monospace\">STIX Two Text\n",
       "</pre>\n"
      ],
      "text/plain": [
       "STIX Two Text\n"
      ]
     },
     "metadata": {},
     "output_type": "display_data"
    }
   ],
   "source": [
    "# use LaTeX for text with matplotlib\n",
    "sns.set_style(\"darkgrid\")\n",
    "# set background color of sns darkgrid to flavor.base.hex\n",
    "plt.rcParams['axes.facecolor'] = flavor.base.hex\n",
    "# set font color to flavor.text.hex\n",
    "plt.rcParams['text.color'] = flavor.text.hex\n",
    "\n",
    "font_dirs = [\"./scripts/fonts/\"]\n",
    "# go through all fonts in the font directory and add them\n",
    "for font_dir in font_dirs:\n",
    "    for font in os.listdir(font_dir):\n",
    "        fm.fontManager.addfont(f\"{font_dir}/{font}\")\n",
    "\n",
    "prop_jbm = fm.FontProperties(fname='./scripts/fonts/JetBrainsMonoNerdFontMono-Regular.ttf')\n",
    "prop = fm.FontProperties(fname='./scripts/fonts/STIXTwoText-VariableFont_wght.ttf')\n",
    "\n",
    "plt.rcParams.update({\n",
    "    # \"text.usetex\": True,\n",
    "    \"font.family\": prop.get_name(),\n",
    "    # \"font.family\": \"stix\",\n",
    "    # \"font.sans-serif\": prop.get_name(),\n",
    "    \"mathtext.fontset\": \"stix\",\n",
    "    # \"text.latex.preamble\": r\"\\usepackage{fontenc}\\usepackage{fontspec}\\setmainfont{JetBrainsMonoNerdFontMono-Regular}\",\n",
    "})\n",
    "\n",
    "print(prop.get_name())\n",
    "\n",
    "colors = [(flavor.lavender.hex, 1.0), (flavor.yellow.hex, 0.3), (flavor.peach.hex, 0.3)]"
   ]
  },
  {
   "cell_type": "code",
   "execution_count": 13,
   "metadata": {},
   "outputs": [],
   "source": [
    "\n",
    "def flatten(lst: Iterable) -> list:\n",
    "    return list(itertools.chain.from_iterable(lst))\n",
    "\n",
    "def process_file(file):\n",
    "    match = RE.match(file.name)\n",
    "    assert match is not None\n",
    "    comms_radius = int(match.group(1))\n",
    "    seed = int(match.group(2))\n",
    "\n",
    "    with open(file, 'r') as file:\n",
    "        data = json.load(file)\n",
    "\n",
    "    distance_travelled_of_each_robot: list[float] = []\n",
    "    ldj_of_each_robot: list[float] = []\n",
    "\n",
    "    for _, robot_data in data['robots'].items():\n",
    "        positions = np.array(robot_data['positions'])\n",
    "        # print(f\"{positions.shape=}\")\n",
    "        # assert positions.shape == (comms_radius, 2)\n",
    "        # n x 2 matrix\n",
    "        # sum the length between each pair of points\n",
    "        distance_travelled = np.sum(np.linalg.norm(np.diff(positions, axis=0), axis=1))\n",
    "        # print(f\"{distance_travelled=}\")\n",
    "        distance_travelled_of_each_robot.append(distance_travelled)\n",
    "        mission = robot_data['mission']\n",
    "        # mission = robot_data.get(\"mission\", None)\n",
    "        # if not mission:\n",
    "        #     continue\n",
    "        t_start: float = mission['started_at']\n",
    "        t_final: float = mission['finished_at'] if mission['finished_at'] else mission['duration'] + t_start\n",
    "        timestamps: np.ndarray = np.array([measurement['timestamp'] for measurement in robot_data['velocities']])\n",
    "        velocities3d_bevy: np.ndarray = np.array([measurement['velocity'] for measurement in robot_data['velocities']])\n",
    "        velocities = velocities3d_bevy[:, [0, 2]]\n",
    "\n",
    "        metric = ldj(velocities, timestamps)\n",
    "        ldj_of_each_robot.append(metric)\n",
    "\n",
    "    makespan: float = data['makespan']\n",
    "    return comms_radius, distance_travelled_of_each_robot, makespan, ldj_of_each_robot"
   ]
  },
  {
   "cell_type": "code",
   "execution_count": 25,
   "metadata": {},
   "outputs": [],
   "source": [
    "\n",
    "data = []\n",
    "for RESULTS_DIR in RESULTS_DIRS:\n",
    "    with ProcessPoolExecutor() as executor:\n",
    "        results = executor.map(process_file, RESULTS_DIR.glob('*.json'))\n",
    "\n",
    "    # Aggregate results in a single-threaded manner to avoid data\n",
    "    aggregated_data_distance_travelled: dict[int, list[float]] = collections.defaultdict(list)\n",
    "    aggregated_data_makespan: dict[int, list[float]] = collections.defaultdict(list)\n",
    "    aggregated_data_ldj: dict[int, list[float]] = collections.defaultdict(list)\n",
    "\n",
    "    for comms_radius, distance_travelled_for_each_robot, makespan, ldj_for_each_robot in results:\n",
    "        aggregated_data_distance_travelled[comms_radius].extend(distance_travelled_for_each_robot)\n",
    "        aggregated_data_makespan[comms_radius].append(makespan)\n",
    "        aggregated_data_ldj[comms_radius].extend(ldj_for_each_robot)\n",
    "\n",
    "    data_distance = [aggregated_data_distance_travelled[key] for key in sorted(aggregated_data_distance_travelled.keys())]\n",
    "    labels_distance = sorted(aggregated_data_distance_travelled.keys())\n",
    "\n",
    "    data_distance_dict = dict(zip(labels_distance, data_distance))\n",
    "\n",
    "    data.append(\n",
    "        {\n",
    "            'distance': data_distance_dict,\n",
    "            # 'labels_distance': labels_distance,\n",
    "            'makespan': aggregated_data_makespan,\n",
    "            'ldj': aggregated_data_ldj\n",
    "        }\n",
    "    )\n"
   ]
  },
  {
   "cell_type": "code",
   "execution_count": 43,
   "metadata": {},
   "outputs": [
    {
     "data": {
      "text/html": [
       "<pre style=\"white-space:pre;overflow-x:auto;line-height:normal;font-family:Menlo,'DejaVu Sans Mono',consolas,'Courier New',monospace\">varying-network-connectivity-lm-<span style=\"color: #008080; text-decoration-color: #008080; font-weight: bold\">3</span>-th-<span style=\"color: #008080; text-decoration-color: #008080; font-weight: bold\">13</span>-sd-<span style=\"color: #008080; text-decoration-color: #008080; font-weight: bold\">2.5</span>\n",
       "</pre>\n"
      ],
      "text/plain": [
       "varying-network-connectivity-lm-\u001b[1;36m3\u001b[0m-th-\u001b[1;36m13\u001b[0m-sd-\u001b[1;36m2.5\u001b[0m\n"
      ]
     },
     "metadata": {},
     "output_type": "display_data"
    },
    {
     "data": {
      "text/html": [
       "<pre style=\"white-space:pre;overflow-x:auto;line-height:normal;font-family:Menlo,'DejaVu Sans Mono',consolas,'Courier New',monospace\"><span style=\"color: #808000; text-decoration-color: #808000\">makespand_means</span>=<span style=\"font-weight: bold\">{</span><span style=\"color: #008080; text-decoration-color: #008080; font-weight: bold\">20</span>: <span style=\"color: #008080; text-decoration-color: #008080; font-weight: bold\">46.012491607666014</span>, <span style=\"color: #008080; text-decoration-color: #008080; font-weight: bold\">40</span>: <span style=\"color: #008080; text-decoration-color: #008080; font-weight: bold\">64.58217391967773</span>, <span style=\"color: #008080; text-decoration-color: #008080; font-weight: bold\">60</span>: <span style=\"color: #008080; text-decoration-color: #008080; font-weight: bold\">65.34115142822266</span>, <span style=\"color: #008080; text-decoration-color: #008080; font-weight: bold\">80</span>: <span style=\"color: #008080; text-decoration-color: #008080; font-weight: bold\">64.63148651123046</span><span style=\"font-weight: bold\">}</span>\n",
       "</pre>\n"
      ],
      "text/plain": [
       "\u001b[33mmakespand_means\u001b[0m=\u001b[1m{\u001b[0m\u001b[1;36m20\u001b[0m: \u001b[1;36m46.012491607666014\u001b[0m, \u001b[1;36m40\u001b[0m: \u001b[1;36m64.58217391967773\u001b[0m, \u001b[1;36m60\u001b[0m: \u001b[1;36m65.34115142822266\u001b[0m, \u001b[1;36m80\u001b[0m: \u001b[1;36m64.63148651123046\u001b[0m\u001b[1m}\u001b[0m\n"
      ]
     },
     "metadata": {},
     "output_type": "display_data"
    },
    {
     "data": {
      "text/html": [
       "<pre style=\"white-space:pre;overflow-x:auto;line-height:normal;font-family:Menlo,'DejaVu Sans Mono',consolas,'Courier New',monospace\"><span style=\"color: #808000; text-decoration-color: #808000\">distance_means</span>=<span style=\"font-weight: bold\">{</span><span style=\"color: #008080; text-decoration-color: #008080; font-weight: bold\">20</span>: <span style=\"color: #008080; text-decoration-color: #008080; font-weight: bold\">236.89510927868324</span>, <span style=\"color: #008080; text-decoration-color: #008080; font-weight: bold\">40</span>: <span style=\"color: #008080; text-decoration-color: #008080; font-weight: bold\">285.9908325030257</span>, <span style=\"color: #008080; text-decoration-color: #008080; font-weight: bold\">60</span>: <span style=\"color: #008080; text-decoration-color: #008080; font-weight: bold\">295.2933289314799</span>, <span style=\"color: #008080; text-decoration-color: #008080; font-weight: bold\">80</span>: <span style=\"color: #008080; text-decoration-color: #008080; font-weight: bold\">283.24733969761115</span><span style=\"font-weight: bold\">}</span>\n",
       "</pre>\n"
      ],
      "text/plain": [
       "\u001b[33mdistance_means\u001b[0m=\u001b[1m{\u001b[0m\u001b[1;36m20\u001b[0m: \u001b[1;36m236.89510927868324\u001b[0m, \u001b[1;36m40\u001b[0m: \u001b[1;36m285.9908325030257\u001b[0m, \u001b[1;36m60\u001b[0m: \u001b[1;36m295.2933289314799\u001b[0m, \u001b[1;36m80\u001b[0m: \u001b[1;36m283.24733969761115\u001b[0m\u001b[1m}\u001b[0m\n"
      ]
     },
     "metadata": {},
     "output_type": "display_data"
    },
    {
     "data": {
      "text/html": [
       "<pre style=\"white-space:pre;overflow-x:auto;line-height:normal;font-family:Menlo,'DejaVu Sans Mono',consolas,'Courier New',monospace\"><span style=\"color: #808000; text-decoration-color: #808000\">ldj_means</span>=<span style=\"font-weight: bold\">{</span><span style=\"color: #008080; text-decoration-color: #008080; font-weight: bold\">20</span>: <span style=\"color: #008080; text-decoration-color: #008080; font-weight: bold\">-14.479386124124115</span>, <span style=\"color: #008080; text-decoration-color: #008080; font-weight: bold\">40</span>: <span style=\"color: #008080; text-decoration-color: #008080; font-weight: bold\">-15.966531007631174</span>, <span style=\"color: #008080; text-decoration-color: #008080; font-weight: bold\">60</span>: <span style=\"color: #008080; text-decoration-color: #008080; font-weight: bold\">-16.334361227393277</span>, <span style=\"color: #008080; text-decoration-color: #008080; font-weight: bold\">80</span>: <span style=\"color: #008080; text-decoration-color: #008080; font-weight: bold\">-16.105878378955726</span><span style=\"font-weight: bold\">}</span>\n",
       "</pre>\n"
      ],
      "text/plain": [
       "\u001b[33mldj_means\u001b[0m=\u001b[1m{\u001b[0m\u001b[1;36m20\u001b[0m: \u001b[1;36m-14.479386124124115\u001b[0m, \u001b[1;36m40\u001b[0m: \u001b[1;36m-15.966531007631174\u001b[0m, \u001b[1;36m60\u001b[0m: \u001b[1;36m-16.334361227393277\u001b[0m, \u001b[1;36m80\u001b[0m: \u001b[1;36m-16.105878378955726\u001b[0m\u001b[1m}\u001b[0m\n"
      ]
     },
     "metadata": {},
     "output_type": "display_data"
    }
   ],
   "source": [
    "# for each comms radius, [20, 40, 60, 80], calculate mean makespan, distance travelled, and ldj\n",
    "\n",
    "for i, d in enumerate(data):\n",
    "\n",
    "    makespand_means = dict([(key, np.mean(d['makespan'][key])) for key in sorted(d['makespan'].keys())])\n",
    "    distance_means = dict([(key, np.mean(d['distance'][key])) for key in sorted(d['distance'].keys())])\n",
    "    ldj_means = dict([(key, np.mean(d['ldj'][key])) for key in sorted(d['ldj'].keys())])\n",
    "\n",
    "    print(f\"{RESULTS_DIRS[i].name}\")\n",
    "    print(f\"{makespand_means=}\")\n",
    "    print(f\"{oursdistance_means=}\")\n",
    "    print(f\"{ldj_means=}\")\n",
    "    "
   ]
  }
 ],
 "metadata": {
  "kernelspec": {
   "display_name": "Python 3",
   "language": "python",
   "name": "python3"
  },
  "language_info": {
   "codemirror_mode": {
    "name": "ipython",
    "version": 3
   },
   "file_extension": ".py",
   "mimetype": "text/x-python",
   "name": "python",
   "nbconvert_exporter": "python",
   "pygments_lexer": "ipython3",
   "version": "3.11.9"
  }
 },
 "nbformat": 4,
 "nbformat_minor": 2
}
