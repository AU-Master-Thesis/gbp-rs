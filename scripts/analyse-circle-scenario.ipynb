{
 "cells": [
  {
   "cell_type": "code",
   "execution_count": 26,
   "metadata": {},
   "outputs": [
    {
     "data": {
      "text/html": [
       "<pre style=\"white-space:pre;overflow-x:auto;line-height:normal;font-family:Menlo,'DejaVu Sans Mono',consolas,'Courier New',monospace\"><span style=\"color: #800080; text-decoration-color: #800080\">/home/jens/repos/master/</span><span style=\"color: #ff00ff; text-decoration-color: #ff00ff\">gbp-rs</span>\n",
       "</pre>\n"
      ],
      "text/plain": [
       "\u001b[35m/home/jens/repos/master/\u001b[0m\u001b[95mgbp-rs\u001b[0m\n"
      ]
     },
     "metadata": {},
     "output_type": "display_data"
    }
   ],
   "source": [
    "import sys\n",
    "import os\n",
    "\n",
    "sys.path.append('scripts')\n",
    "\n",
    "import re\n",
    "import json\n",
    "import argparse\n",
    "import itertools\n",
    "from pathlib import Path\n",
    "import collections\n",
    "from concurrent.futures import ProcessPoolExecutor\n",
    "\n",
    "import numpy as np\n",
    "import matplotlib.pyplot as plt\n",
    "from matplotlib.font_manager import FontProperties\n",
    "from matplotlib.patches import FancyBboxPatch\n",
    "from matplotlib.patches import PathPatch\n",
    "from matplotlib.path import get_path_collection_extents\n",
    "import seaborn as sns\n",
    "\n",
    "from rich import print, pretty\n",
    "from typing import  Iterable\n",
    "import pretty_errors\n",
    "from catppuccin import PALETTE\n",
    "\n",
    "print(os.getcwd())\n",
    "\n",
    "# import .scripts.ldj\n",
    "from ldj import ldj\n",
    "from utils import *\n",
    "\n",
    "pretty.install()\n",
    "\n",
    "RESULTS_DIRS = [\n",
    "    Path('./experiments/circle-experiment-lm-3-th-13'),\n",
    "    Path('./experiments/circle-experiment-lm-1-th-13'),\n",
    "    Path('./experiments/circle-experiment-lm-3-th-5'),\n",
    "]\n",
    "\n",
    "for RESULTS_DIR in RESULTS_DIRS:\n",
    "    assert RESULTS_DIR.is_dir() and RESULTS_DIR.exists()\n",
    "\n",
    "# RESULTS_DIR = Path('./experiments/circle-experiment-lm-3-th-5')\n",
    "# assert RESULTS_DIR.is_dir() and RESULTS_DIR.exists()\n",
    "\n",
    "flavor = PALETTE.latte.colors\n",
    "# num-robots-10-seed-0.json\n",
    "RE = re.compile(r\"num-robots-(\\d+)-seed-(\\d+).json\")\n"
   ]
  },
  {
   "cell_type": "code",
   "execution_count": 2,
   "metadata": {},
   "outputs": [],
   "source": [
    "# use LaTeX for text with matplotlib\n",
    "sns.set_style(\"darkgrid\")\n",
    "\n",
    "\n",
    "prop = FontProperties(fname='/nix/store/rcf2498hl65wpi1h8q43pw2jrb9ny90s-nerdfonts-3.2.1/share/fonts/truetype/NerdFonts/JetBrainsMonoNerdFont-Medium.ttf')\n",
    "plt.rcParams.update({\n",
    "    \"text.usetex\": True,\n",
    "    \"font.family\": prop.get_name(),\n",
    "})\n",
    "\n",
    "# use JetBrains Mono font\n",
    "# plt.rcParams[\"font.family\"] = prop.get_name()\n",
    "# make bold\n",
    "# plt.rcParams[\"font.weight\"] = \"bold\""
   ]
  },
  {
   "cell_type": "code",
   "execution_count": 3,
   "metadata": {},
   "outputs": [],
   "source": [
    "\n",
    "def flatten(lst: Iterable) -> list:\n",
    "    return list(itertools.chain.from_iterable(lst))\n",
    "\n",
    "def process_file(file):\n",
    "    match = RE.match(file.name)\n",
    "    assert match is not None\n",
    "    num_robots = int(match.group(1))\n",
    "    seed = int(match.group(2))\n",
    "\n",
    "    with open(file, 'r') as file:\n",
    "        data = json.load(file)\n",
    "\n",
    "    distance_travelled_of_each_robot: list[float] = []\n",
    "    ldj_of_each_robot: list[float] = []\n",
    "\n",
    "    for _, robot_data in data['robots'].items():\n",
    "        positions = np.array(robot_data['positions'])\n",
    "        # print(f\"{positions.shape=}\")\n",
    "        # assert positions.shape == (num_robots, 2)\n",
    "        # n x 2 matrix\n",
    "        # sum the length between each pair of points\n",
    "        distance_travelled = np.sum(np.linalg.norm(np.diff(positions, axis=0), axis=1))\n",
    "        # print(f\"{distance_travelled=}\")\n",
    "        distance_travelled_of_each_robot.append(distance_travelled)\n",
    "        mission = robot_data['mission']\n",
    "        # mission = robot_data.get(\"mission\", None)\n",
    "        # if not mission:\n",
    "        #     continue\n",
    "        t_start: float = mission['started_at']\n",
    "        t_final: float = mission['finished_at'] if mission['finished_at'] else mission['duration'] + t_start\n",
    "        timestamps: np.ndarray = np.array([measurement['timestamp'] for measurement in robot_data['velocities']])\n",
    "        velocities3d_bevy: np.ndarray = np.array([measurement['velocity'] for measurement in robot_data['velocities']])\n",
    "        velocities = velocities3d_bevy[:, [0, 2]]\n",
    "\n",
    "        metric = ldj(velocities, timestamps)\n",
    "        ldj_of_each_robot.append(metric)\n",
    "\n",
    "    makespan: float = data['makespan']\n",
    "    return num_robots, distance_travelled_of_each_robot, makespan, ldj_of_each_robot\n",
    "\n",
    "    # for robot_id, robot_data in data['robots'].items():\n",
    "    #     # print(f\"{robot_data=}\")\n",
    "    #     # sys.exit(0)\n",
    "    #     mission = robot_data['mission']\n",
    "    #     # mission = robot_data.get(\"mission\", None)\n",
    "    #     # if not mission:\n",
    "    #     #     continue\n",
    "    #     t_start: float = mission['started_at']\n",
    "    #     t_final: float = mission['finished_at'] if mission['finished_at'] else mission['duration'] + t_start\n",
    "    #     timestamps: np.ndarray = np.array([measurement['timestamp'] for measurement in robot_data['velocities']])\n",
    "    #     velocities3d_bevy: np.ndarray = np.array([measurement['velocity'] for measurement in robot_data['velocities']])\n",
    "    #     velocities = velocities3d_bevy[:, [0, 2]]\n",
    "    #\n",
    "    #     metric = ldj(velocities, timestamps)\n",
    "    #     ldj_of_each_robot[robot_id] = metric"
   ]
  },
  {
   "cell_type": "code",
   "execution_count": 4,
   "metadata": {},
   "outputs": [],
   "source": [
    "\n",
    "data = []\n",
    "for RESULTS_DIR in RESULTS_DIRS:\n",
    "    with ProcessPoolExecutor() as executor:\n",
    "        results = executor.map(process_file, RESULTS_DIR.glob('*.json'))\n",
    "\n",
    "    # Aggregate results in a single-threaded manner to avoid data\n",
    "    aggregated_data_distance_travelled: dict[int, list[float]] = collections.defaultdict(list)\n",
    "    aggregated_data_makespan: dict[int, list[float]] = collections.defaultdict(list)\n",
    "    aggregated_data_ldj: dict[int, list[float]] = collections.defaultdict(list)\n",
    "\n",
    "    for num_robots, distance_travelled_for_each_robot, makespan, ldj_for_each_robot in results:\n",
    "        aggregated_data_distance_travelled[num_robots].extend(distance_travelled_for_each_robot)\n",
    "        aggregated_data_makespan[num_robots].append(makespan)\n",
    "        aggregated_data_ldj[num_robots].extend(ldj_for_each_robot)\n",
    "\n",
    "    data_distance = [aggregated_data_distance_travelled[key] for key in sorted(aggregated_data_distance_travelled.keys())]\n",
    "    labels_distance = sorted(aggregated_data_distance_travelled.keys())\n",
    "\n",
    "    data.append(\n",
    "        {\n",
    "            'distance': data_distance,\n",
    "            'labels_distance': labels_distance,\n",
    "            'makespan': aggregated_data_makespan,\n",
    "            'ldj': aggregated_data_ldj\n",
    "        }\n",
    "    )\n"
   ]
  },
  {
   "cell_type": "code",
   "execution_count": 87,
   "metadata": {},
   "outputs": [
    {
     "data": {
      "text/html": [
       "<pre style=\"white-space:pre;overflow-x:auto;line-height:normal;font-family:Menlo,'DejaVu Sans Mono',consolas,'Courier New',monospace\"><span style=\"color: #808000; text-decoration-color: #808000\">colors</span>=<span style=\"font-weight: bold\">[(</span><span style=\"color: #008000; text-decoration-color: #008000\">'#df8e1d'</span>, <span style=\"color: #008080; text-decoration-color: #008080; font-weight: bold\">0.25</span><span style=\"font-weight: bold\">)</span>, <span style=\"font-weight: bold\">(</span><span style=\"color: #008000; text-decoration-color: #008000\">'#fe640b'</span>, <span style=\"color: #008080; text-decoration-color: #008080; font-weight: bold\">0.25</span><span style=\"font-weight: bold\">)</span>, <span style=\"font-weight: bold\">(</span><span style=\"color: #008000; text-decoration-color: #008000\">'#7287fd'</span>, <span style=\"color: #008080; text-decoration-color: #008080; font-weight: bold\">1.0</span><span style=\"font-weight: bold\">)]</span>\n",
       "</pre>\n"
      ],
      "text/plain": [
       "\u001b[33mcolors\u001b[0m=\u001b[1m[\u001b[0m\u001b[1m(\u001b[0m\u001b[32m'#df8e1d'\u001b[0m, \u001b[1;36m0.25\u001b[0m\u001b[1m)\u001b[0m, \u001b[1m(\u001b[0m\u001b[32m'#fe640b'\u001b[0m, \u001b[1;36m0.25\u001b[0m\u001b[1m)\u001b[0m, \u001b[1m(\u001b[0m\u001b[32m'#7287fd'\u001b[0m, \u001b[1;36m1.0\u001b[0m\u001b[1m)\u001b[0m\u001b[1m]\u001b[0m\n"
      ]
     },
     "metadata": {},
     "output_type": "display_data"
    },
    {
     "data": {
      "text/html": [
       "<pre style=\"white-space:pre;overflow-x:auto;line-height:normal;font-family:Menlo,'DejaVu Sans Mono',consolas,'Courier New',monospace\"></pre>\n"
      ],
      "text/plain": []
     },
     "metadata": {},
     "output_type": "display_data"
    },
    {
     "data": {
      "image/png": "[encoded data removed]",
      "text/plain": [
       "\u001b[1m<\u001b[0m\u001b[1;95mFigure\u001b[0m\u001b[39m size 100\u001b[0m\u001b[1;36m0x300\u001b[0m\u001b[39m with \u001b[0m\u001b[1;36m1\u001b[0m\u001b[39m Axes\u001b[0m\u001b[1m>\u001b[0m"
      ]
     },
     "metadata": {},
     "output_type": "display_data"
    }
   ],
   "source": [
    "\n",
    "# plot distance travelled\n",
    "fig, ax = plt.subplots(figsize=(10, 3))\n",
    "\n",
    "# set font family\n",
    "ax.set_title('Distance Travelled by Robots', fontproperties=prop)\n",
    "\n",
    "def set_box_plot_color(bp, color, alpha):\n",
    "    # style the outliers\n",
    "    # plt.setp(bp['fliers'], color=color, markersize=3, marker='.')\n",
    "    # above color is not working, they are all black do this instead:\n",
    "    for flier in bp['fliers']:\n",
    "        flier.set(marker='d', markerfacecolor=color, markeredgecolor=None, alpha=0.5 * alpha)\n",
    "\n",
    "    for element in ['boxes', 'whiskers', 'fliers', 'medians', 'caps']:\n",
    "        base_alpha = 1.0\n",
    "        if element == 'boxes':\n",
    "            base_alpha = 0.75\n",
    "        elif element == 'fliers':\n",
    "            base_alpha = 0.25\n",
    "        plt.setp(bp[element], color=color, alpha=base_alpha * alpha)\n",
    "\n",
    "\n",
    "colors = [(flavor.yellow.hex, 0.25), (flavor.peach.hex, 0.25), (flavor.lavender.hex, 1.0)]\n",
    "\n",
    "print(f\"{colors=}\")\n",
    "\n",
    "offset = 0.2\n",
    "\n",
    "for i, (d, (c, alpha)) in enumerate(zip(data, colors)):\n",
    "    distance_data = d['distance']\n",
    "    labels = d['labels_distance']\n",
    "    # ax.boxplot(distance_data, labels=labels, **boxplot_opts)\n",
    "\n",
    "    bp = ax.boxplot(distance_data, positions=np.array(range(1, len(distance_data) + 1)) + i * offset - offset, widths=offset * 0.8, patch_artist=True)\n",
    "    # bp = sns.boxplot(distance_data, positions=np.array(range(1, len(distance_data) + 1)) + i * offset - offset, widths=offset * 0.9, patch_artist=True)\n",
    "    set_box_plot_color(bp, c, alpha)\n",
    "\n",
    "    # new_patches = []\n",
    "    # # for patch in reversed(ax.artists):\n",
    "    # for patch in bp['boxes']:\n",
    "    #     # print(f\"{patch=}\")\n",
    "    #     bb = patch.get_path().get_extents()\n",
    "    #     color = patch.get_facecolor()\n",
    "    #     edge_color = patch.get_edgecolor()\n",
    "    #     p_bbox = FancyBboxPatch((bb.xmin, bb.ymin),\n",
    "    #                             abs(bb.width), abs(bb.height),\n",
    "    #                             boxstyle=\"round,pad=0.01,rounding_size=0.1\",\n",
    "    #                             ec=edge_color, fc=color,\n",
    "    #                             mutation_aspect=0.25)\n",
    "    #     patch.remove()\n",
    "    #     new_patches.append(p_bbox)\n",
    "    # for patch in new_patches:\n",
    "    #     ax.add_patch(patch)\n",
    "\n",
    "\n",
    "# ax.boxplot(data, labels=labels, **boxplot_opts)\n",
    "\n",
    "# violin_parts = plt.violinplot(data, showmeans=False, showmedians=True)\n",
    "\n",
    "ax.set_xlabel(r'Number of Robots $N_R$', fontsize=12)\n",
    "ax.set_ylabel(r'Distance Travelled $[m]$', fontsize=12)\n",
    "ax.tick_params(axis='both', which='major', labelsize=10)\n",
    "\n",
    "# set xticks and xticklabels 1,...,10\n",
    "ax.set_xticks(range(1, len(labels) + 1))\n",
    "ax.set_xticklabels(labels)\n",
    "\n",
    "# vertical lines inbetween all xticks\n",
    "for i in range(1, len(labels)):\n",
    "    ax.axvline(x=i + 0.5, color='white', linewidth=1)\n",
    "\n",
    "# remove grid\n",
    "ax.grid(False)\n",
    "\n",
    "ax.set_ylim(0, 250)\n",
    "ax.set_xlim(0.5, len(labels) + 0.5)\n",
    "\n",
    "# Draw optimal line\n",
    "# ax.axhline(y=100, color=flavor.overlay2.hex, linestyle='--', linewidth=1.5)\n",
    "\n",
    "fig.tight_layout()\n",
    "fig.savefig('./scripts/out/circle-experiment-distance-travelled.svg')\n"
   ]
  },
  {
   "cell_type": "code",
   "execution_count": null,
   "metadata": {},
   "outputs": [
    {
     "data": {
      "text/html": [
       "<pre style=\"white-space:pre;overflow-x:auto;line-height:normal;font-family:Menlo,'DejaVu Sans Mono',consolas,'Courier New',monospace\"></pre>\n"
      ],
      "text/plain": []
     },
     "metadata": {},
     "output_type": "display_data"
    },
    {
     "data": {
      "image/png": "[encoded data removed]",
      "text/plain": [
       "\u001b[1m<\u001b[0m\u001b[1;95mFigure\u001b[0m\u001b[39m size 40\u001b[0m\u001b[1;36m0x300\u001b[0m\u001b[39m with \u001b[0m\u001b[1;36m1\u001b[0m\u001b[39m Axes\u001b[0m\u001b[1m>\u001b[0m"
      ]
     },
     "metadata": {},
     "output_type": "display_data"
    }
   ],
   "source": [
    "\n",
    "# plot makespan\n",
    "fig, ax = plt.subplots(figsize=(4, 3))\n",
    "for i, d in enumerate(data):\n",
    "    aggregated_data_makespan = d['makespan']\n",
    "    makespan_data = [aggregated_data_makespan[key] for key in sorted(aggregated_data_makespan.keys())]\n",
    "    labels = sorted(aggregated_data_makespan.keys())\n",
    "    makespan_data = [np.mean(makespan) for makespan in makespan_data]\n",
    "    ax.plot(labels, makespan_data, marker='o', color=flavor.lavender.hex, label='Circle Scenario')\n",
    "\n",
    "ax.set_ylim(0, 200)\n",
    "# ax.set_aspect(1 / 1.414) # A4 paper\n",
    "# ax.boxplot(data, labels=labels, flierprops=dict(marker='D', color='r', markersize=8))\n",
    "\n",
    "ax.set_xlabel(r'Number of Robots $N_R$', fontsize=12)\n",
    "ax.set_ylabel(r'Makespan $[s]$', fontsize=12)\n",
    "ax.tick_params(axis='both', which='major', labelsize=10)\n",
    "legend = ax.legend(borderpad=0.5, framealpha=0.8, frameon=True)\n",
    "legend.get_frame().set_facecolor(flavor.surface0.hex)  # Change background color\n",
    "# plt.tight_layout()\n",
    "fig.savefig('./scripts/out/circle-experiment-makespan.svg')\n"
   ]
  },
  {
   "cell_type": "code",
   "execution_count": null,
   "metadata": {},
   "outputs": [
    {
     "ename": "NameError",
     "evalue": "name 'boxplot_opts' is not defined",
     "output_type": "error",
     "traceback": [
      "\u001b[0;31m---------------------------------------------------------------------------\u001b[0m",
      "\u001b[0;31mNameError\u001b[0m                                 Traceback (most recent call last)",
      "Cell \u001b[0;32mIn[7], line 8\u001b[0m\n\u001b[1;32m      6\u001b[0m     data_ldj \u001b[38;5;241m=\u001b[39m [aggregated_data_ldj[key] \u001b[38;5;28;01mfor\u001b[39;00m key \u001b[38;5;129;01min\u001b[39;00m \u001b[38;5;28msorted\u001b[39m(aggregated_data_ldj\u001b[38;5;241m.\u001b[39mkeys())]\n\u001b[1;32m      7\u001b[0m     labels \u001b[38;5;241m=\u001b[39m \u001b[38;5;28msorted\u001b[39m(aggregated_data_ldj\u001b[38;5;241m.\u001b[39mkeys())\n\u001b[0;32m----> 8\u001b[0m     ax\u001b[38;5;241m.\u001b[39mboxplot(data_ldj, labels\u001b[38;5;241m=\u001b[39mlabels, \u001b[38;5;241m*\u001b[39m\u001b[38;5;241m*\u001b[39m\u001b[43mboxplot_opts\u001b[49m)\n\u001b[1;32m     10\u001b[0m ax\u001b[38;5;241m.\u001b[39mset_ylim(\u001b[38;5;241m-\u001b[39m\u001b[38;5;241m25\u001b[39m, \u001b[38;5;241m0\u001b[39m)\n\u001b[1;32m     11\u001b[0m \u001b[38;5;66;03m# ax.set_aspect(1 / 1.414) # A4 paper\u001b[39;00m\n",
      "\u001b[0;31mNameError\u001b[0m: name 'boxplot_opts' is not defined"
     ]
    },
    {
     "data": {
      "text/html": [
       "<pre style=\"white-space:pre;overflow-x:auto;line-height:normal;font-family:Menlo,'DejaVu Sans Mono',consolas,'Courier New',monospace\"></pre>\n"
      ],
      "text/plain": []
     },
     "metadata": {},
     "output_type": "display_data"
    },
    {
     "data": {
      "image/png": "[encoded data removed]",
      "text/plain": [
       "\u001b[1m<\u001b[0m\u001b[1;95mFigure\u001b[0m\u001b[39m size 40\u001b[0m\u001b[1;36m0x300\u001b[0m\u001b[39m with \u001b[0m\u001b[1;36m1\u001b[0m\u001b[39m Axes\u001b[0m\u001b[1m>\u001b[0m"
      ]
     },
     "metadata": {},
     "output_type": "display_data"
    }
   ],
   "source": [
    "\n",
    "\n",
    "# plot ldj\n",
    "fig, ax = plt.subplots(figsize=(4, 3))\n",
    "\n",
    "for i, d in enumerate(data):\n",
    "    aggregated_data_ldj = d['ldj']\n",
    "    data_ldj = [aggregated_data_ldj[key] for key in sorted(aggregated_data_ldj.keys())]\n",
    "    labels = sorted(aggregated_data_ldj.keys())\n",
    "    ax.boxplot(data_ldj, labels=labels, **boxplot_opts)\n",
    "\n",
    "ax.set_ylim(-25, 0)\n",
    "# ax.set_aspect(1 / 1.414) # A4 paper\n",
    "ax.set_xlabel(r'Number of Robots $N_R$', fontsize=12)\n",
    "ax.set_ylabel(r'Log Dimensionless Jerk $[m/s^3]$', fontsize=12)\n",
    "ax.tick_params(axis='both', which='major', labelsize=10)\n",
    "\n",
    "fig.tight_layout()\n",
    "fig.savefig('./scripts/out/circle-experiment-ldj.svg')\n",
    "\n",
    "fig.show()"
   ]
  },
  {
   "cell_type": "code",
   "execution_count": null,
   "metadata": {},
   "outputs": [],
   "source": []
  }
 ],
 "metadata": {
  "kernelspec": {
   "display_name": "Python 3",
   "language": "python",
   "name": "python3"
  },
  "language_info": {
   "codemirror_mode": {
    "name": "ipython",
    "version": 3
   },
   "file_extension": ".py",
   "mimetype": "text/x-python",
   "name": "python",
   "nbconvert_exporter": "python",
   "pygments_lexer": "ipython3",
   "version": "3.11.9"
  }
 },
 "nbformat": 4,
 "nbformat_minor": 2
}
